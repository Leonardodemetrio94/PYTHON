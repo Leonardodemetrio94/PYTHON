{
 "cells": [
  {
   "cell_type": "code",
   "execution_count": null,
   "id": "c4528ace-a318-4ce4-b0f3-b6a12f220d24",
   "metadata": {},
   "outputs": [],
   "source": [
    "#ESERCIZIO 1"
   ]
  },
  {
   "cell_type": "code",
   "execution_count": 3,
   "id": "23581172-7883-492d-b5b9-afd94f1905fd",
   "metadata": {},
   "outputs": [],
   "source": [
    "mat = [[0, 1, 2, 3, 4], [5, 6, 7, 8, 9], [10, 11, 12, 13, 14]]"
   ]
  },
  {
   "cell_type": "code",
   "execution_count": 7,
   "id": "71284084-c084-4802-85b5-8ff3f833603d",
   "metadata": {},
   "outputs": [
    {
     "name": "stdout",
     "output_type": "stream",
     "text": [
      "1\n",
      "6\n",
      "13\n"
     ]
    }
   ],
   "source": [
    "#La struttura dati mat rappresenta una matrice, che è una tabella bidimensionale di elementi. In questo caso, è una matrice 3x5 (3 righe e 5 colonne)\n",
    "#la struttura dati mat è una matrice 3x5, e possiamo accedere agli elementi individuali utilizzando due indici: uno per la riga e uno per la colonna.\n",
    "elemento_1=mat[0][1] #1\n",
    "elemento_2=mat[1][1] #6\n",
    "elemento_3=mat[2][3] #13\n",
    "print(elemento_1)\n",
    "print(elemento_2)\n",
    "print(elemento_3)"
   ]
  },
  {
   "cell_type": "code",
   "execution_count": null,
   "id": "c24a9683-195b-428c-843d-9a84837722bc",
   "metadata": {},
   "outputs": [],
   "source": []
  },
  {
   "cell_type": "code",
   "execution_count": null,
   "id": "fd8589d1-1330-40df-a25e-c2ec3487a9cb",
   "metadata": {},
   "outputs": [],
   "source": [
    "#ESERCIZIO 2:Importiamo il modulo math e proviamo a usare le funzioni .sin() .cos() .factorial() e la variabile .pi la riconoscete?"
   ]
  },
  {
   "cell_type": "code",
   "execution_count": 13,
   "id": "5214d22e-4528-47d7-93f4-4c1ea89c40bd",
   "metadata": {},
   "outputs": [
    {
     "name": "stdout",
     "output_type": "stream",
     "text": [
      "seno: 0.7071067811865476\n",
      "coseno: 0.7071067811865476\n"
     ]
    }
   ],
   "source": [
    "import math\n",
    "angolo_rad=math.pi/4\n",
    "seno=math.sin(angolo_rad)\n",
    "coseno=math.cos(angolo_rad)\n",
    "print(\"seno:\",seno)\n",
    "print(\"coseno:\",coseno)"
   ]
  },
  {
   "cell_type": "code",
   "execution_count": 15,
   "id": "4d1a134a-eb28-4de3-95f3-2f3f18764aaf",
   "metadata": {},
   "outputs": [
    {
     "name": "stdout",
     "output_type": "stream",
     "text": [
      "il fattorile di 5 è: 120\n"
     ]
    }
   ],
   "source": [
    "numero=5\n",
    "fattoriale=math.factorial(numero)\n",
    "print(\"il fattorile di\", numero,\"è:\",fattoriale)"
   ]
  },
  {
   "cell_type": "code",
   "execution_count": null,
   "id": "ce92dc6d-9d23-4cd4-8d1d-b8c5bec7e8e4",
   "metadata": {},
   "outputs": [],
   "source": [
    "#math.pi ci restituisce il valore di pigreco"
   ]
  },
  {
   "cell_type": "code",
   "execution_count": null,
   "id": "ca5c9657-30ab-470d-9e60-de43d7317be3",
   "metadata": {},
   "outputs": [],
   "source": []
  },
  {
   "cell_type": "code",
   "execution_count": null,
   "id": "e8b6d035-eae4-4972-9730-2cc3a79a57fa",
   "metadata": {},
   "outputs": [],
   "source": [
    "#ESERCIZIO 3:"
   ]
  },
  {
   "cell_type": "code",
   "execution_count": null,
   "id": "b28acc30-090f-46de-961f-4f1ce37a4c42",
   "metadata": {},
   "outputs": [],
   "source": [
    "#La funzione math.degrees() converte un angolo da radianti a gradi."
   ]
  },
  {
   "cell_type": "code",
   "execution_count": 17,
   "id": "53c4716f-15b8-4243-a445-0f9747a2139a",
   "metadata": {},
   "outputs": [
    {
     "name": "stdout",
     "output_type": "stream",
     "text": [
      "180.0\n"
     ]
    }
   ],
   "source": [
    "import math\n",
    "risultato=math.degrees(math.pi)\n",
    "print(risultato)"
   ]
  },
  {
   "cell_type": "code",
   "execution_count": null,
   "id": "f3b3e35c-3ee5-4a64-a08e-27826bb7aa84",
   "metadata": {},
   "outputs": [],
   "source": []
  },
  {
   "cell_type": "code",
   "execution_count": null,
   "id": "50d9b0de-b675-4418-a0ec-53fc544e1b2d",
   "metadata": {},
   "outputs": [],
   "source": [
    "#ESERCIZIO 4:"
   ]
  },
  {
   "cell_type": "code",
   "execution_count": 41,
   "id": "cc8894c6-78f7-4855-802e-af53e7197b0c",
   "metadata": {},
   "outputs": [
    {
     "name": "stdout",
     "output_type": "stream",
     "text": [
      "mendita massima mensile: 8150\n",
      "vendita minima mensile: 1280\n"
     ]
    }
   ],
   "source": [
    "import numpy as np\n",
    "lst = [2000, 5500, 7200, 4320, 1280, 1900, 2500, 3900, 6410, 8150, 7100, 5350]\n",
    "lst=np.array(lst)\n",
    "vendita_massima=np.max(lst)\n",
    "vendita_minima=np.min(lst)\n",
    "print(\"mendita massima mensile:\",vendita_massima)\n",
    "print(\"vendita minima mensile:\",vendita_minima)"
   ]
  },
  {
   "cell_type": "code",
   "execution_count": 45,
   "id": "ab04ce70-8f10-41c9-9088-c53faefd596f",
   "metadata": {},
   "outputs": [
    {
     "name": "stdout",
     "output_type": "stream",
     "text": [
      "Vendite mensili maggiori di 4999 oggetti: [5500 7200 6410 8150 7100 5350]\n",
      "Numero di vendite maggiori di 4999 oggetti: 6\n"
     ]
    }
   ],
   "source": [
    "maggiori_di_4999=lst[lst>4999]\n",
    "numero_vendite_maggiori_di_4999 = len(maggiori_di_4999)\n",
    "print(\"Vendite mensili maggiori di 4999 oggetti:\", maggiori_di_4999)\n",
    "print(\"Numero di vendite maggiori di 4999 oggetti:\", numero_vendite_maggiori_di_4999)"
   ]
  },
  {
   "cell_type": "code",
   "execution_count": 47,
   "id": "a69c9811-2cda-41bb-be0e-c9775f1074ee",
   "metadata": {},
   "outputs": [
    {
     "name": "stdout",
     "output_type": "stream",
     "text": [
      "Vendite mensili minori di 3000 oggetti: [2000 1280 1900 2500]\n"
     ]
    }
   ],
   "source": [
    "vendite_minori_di_3000 = lst[lst < 3000]\n",
    "print(\"Vendite mensili minori di 3000 oggetti:\", vendite_minori_di_3000)"
   ]
  },
  {
   "cell_type": "code",
   "execution_count": 49,
   "id": "8303a9e5-9fed-424d-a333-1827cff480bb",
   "metadata": {},
   "outputs": [
    {
     "name": "stdout",
     "output_type": "stream",
     "text": [
      "Media vendite mensili: 4634.166666666667\n"
     ]
    }
   ],
   "source": [
    "media_vendite_mensili = np.mean(lst)\n",
    "print(\"Media vendite mensili:\", media_vendite_mensili)"
   ]
  },
  {
   "cell_type": "code",
   "execution_count": null,
   "id": "26e71a96-2582-4d84-a21d-1ad8705e5574",
   "metadata": {},
   "outputs": [],
   "source": []
  },
  {
   "cell_type": "code",
   "execution_count": null,
   "id": "365d695e-d893-4755-a90a-c1a846865b4a",
   "metadata": {},
   "outputs": [],
   "source": [
    "#ESERCIZIO 5:"
   ]
  },
  {
   "cell_type": "code",
   "execution_count": 51,
   "id": "c32a7f81-95b1-48ea-9400-fb74638f4fc6",
   "metadata": {},
   "outputs": [
    {
     "name": "stdout",
     "output_type": "stream",
     "text": [
      "12000\n",
      "12000\n"
     ]
    }
   ],
   "source": [
    "import pandas as pd\n",
    "fatturati_dict = {1997: 12_000, 1998: 15_000, 1999: 20_000, 2000: 23_000, 2001: 25_000, 2002: 17_000, 2003: 14_000, 2004: 21_000}\n",
    "fatturati_series = pd.Series([12_000, 15_000, 20_000, 23_000, 25_000, 17_000, 14_000, 21_000], index=range(1997, 2005))\n",
    "fatturato_1997=fatturati_dict[1997]\n",
    "fatturato_1997_series=fatturati_series[1997]\n",
    "print(fatturato_1997)\n",
    "print(fatturato_1997_series)"
   ]
  },
  {
   "cell_type": "code",
   "execution_count": null,
   "id": "bae648a4-2576-44b1-a324-e33e7e2ef326",
   "metadata": {},
   "outputs": [],
   "source": []
  },
  {
   "cell_type": "code",
   "execution_count": null,
   "id": "fb9da0eb-0ead-4806-863b-389861e796ea",
   "metadata": {},
   "outputs": [],
   "source": [
    "#ESERCIZIO 6:"
   ]
  },
  {
   "cell_type": "code",
   "execution_count": 70,
   "id": "2f5fcbbf-ac6f-48be-ac04-e10aa75cc209",
   "metadata": {},
   "outputs": [
    {
     "name": "stdout",
     "output_type": "stream",
     "text": [
      "Stipendi originali: [ 100  200  300  400  500  600  700  800  900 1000]\n",
      "Stipendi raddoppiati (con ciclo for): [ 200  400  600  800 1000 1200 1400 1600 1800 2000]\n"
     ]
    }
   ],
   "source": [
    "import numpy as np\n",
    "\n",
    "stipendi = np.array([100, 200, 300, 400, 500, 600, 700, 800, 900, 1000])\n",
    "\n",
    "# Metodo 1: Utilizzando un ciclo for\n",
    "stipendi_raddoppiati = np.empty_like(stipendi)  # Creiamo un nuovo array con le stesse dimensioni di stipendi\n",
    "\n",
    "for i in range(len(stipendi)):\n",
    "    stipendi_raddoppiati[i] = stipendi[i] * 2\n",
    "\n",
    "print(\"Stipendi originali:\", stipendi)\n",
    "print(\"Stipendi raddoppiati (con ciclo for):\", stipendi_raddoppiati)"
   ]
  },
  {
   "cell_type": "code",
   "execution_count": 72,
   "id": "d55d0f37-b980-4b12-a645-ffa0123ca133",
   "metadata": {},
   "outputs": [
    {
     "name": "stdout",
     "output_type": "stream",
     "text": [
      "Stipendi originali: [ 100  200  300  400  500  600  700  800  900 1000]\n",
      "Stipendi raddoppiati (con masking): [ 200  400  600  800 1000 1200 1400 1600 1800 2000]\n"
     ]
    }
   ],
   "source": [
    "import numpy as np\n",
    "\n",
    "stipendi = np.array([100, 200, 300, 400, 500, 600, 700, 800, 900, 1000])\n",
    "\n",
    "# Metodo 2: Utilizzando masking\n",
    "stipendi_raddoppiati_masking = stipendi * 2\n",
    "\n",
    "print(\"Stipendi originali:\", stipendi)\n",
    "print(\"Stipendi raddoppiati (con masking):\", stipendi_raddoppiati_masking)"
   ]
  },
  {
   "cell_type": "code",
   "execution_count": null,
   "id": "d5d08434-55d3-44f7-b120-c4dbae910aff",
   "metadata": {},
   "outputs": [],
   "source": []
  }
 ],
 "metadata": {
  "kernelspec": {
   "display_name": "Python 3 (ipykernel)",
   "language": "python",
   "name": "python3"
  },
  "language_info": {
   "codemirror_mode": {
    "name": "ipython",
    "version": 3
   },
   "file_extension": ".py",
   "mimetype": "text/x-python",
   "name": "python",
   "nbconvert_exporter": "python",
   "pygments_lexer": "ipython3",
   "version": "3.11.7"
  }
 },
 "nbformat": 4,
 "nbformat_minor": 5
}
