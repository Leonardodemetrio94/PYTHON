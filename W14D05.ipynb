{
 "cells": [
  {
   "cell_type": "code",
   "execution_count": 337,
   "id": "4487fbe9-74f0-4c68-872f-1dc8e13a61e0",
   "metadata": {},
   "outputs": [
    {
     "name": "stdout",
     "output_type": "stream",
     "text": [
      "Requirement already satisfied: PyMySQL in c:\\users\\leo\\anaconda3\\lib\\site-packages (1.1.1)Note: you may need to restart the kernel to use updated packages.\n",
      "\n"
     ]
    }
   ],
   "source": [
    "pip install PyMySQL"
   ]
  },
  {
   "cell_type": "code",
   "execution_count": 339,
   "id": "aba45b6b-7893-428d-8bd9-840f37d19110",
   "metadata": {},
   "outputs": [
    {
     "name": "stdout",
     "output_type": "stream",
     "text": [
      "Requirement already satisfied: SQLAlchemy in c:\\users\\leo\\anaconda3\\lib\\site-packages (2.0.25)\n",
      "Requirement already satisfied: typing-extensions>=4.6.0 in c:\\users\\leo\\anaconda3\\lib\\site-packages (from SQLAlchemy) (4.9.0)\n",
      "Requirement already satisfied: greenlet!=0.4.17 in c:\\users\\leo\\anaconda3\\lib\\site-packages (from SQLAlchemy) (3.0.1)\n",
      "Note: you may need to restart the kernel to use updated packages.\n"
     ]
    }
   ],
   "source": [
    "pip install SQLAlchemy"
   ]
  },
  {
   "cell_type": "code",
   "execution_count": 341,
   "id": "88fc6e96-c18b-4efb-8717-a6bbe911f9dd",
   "metadata": {},
   "outputs": [
    {
     "name": "stdout",
     "output_type": "stream",
     "text": [
      "Requirement already satisfied: python_dotenv in c:\\users\\leo\\anaconda3\\lib\\site-packages (0.21.0)\n",
      "Note: you may need to restart the kernel to use updated packages.\n"
     ]
    }
   ],
   "source": [
    "pip install python_dotenv"
   ]
  },
  {
   "cell_type": "code",
   "execution_count": 343,
   "id": "0c4a8ade-b2db-46cc-a5cd-1ddf70cf2429",
   "metadata": {},
   "outputs": [],
   "source": [
    "import dotenv\n",
    "import os\n",
    "from sqlalchemy import create_engine\n",
    "import pandas as pd\n",
    "\n",
    "dotenv.load_dotenv(override=True)\n",
    "dotenv_path=\".env\"\n",
    "\n",
    "username = os.getenv(\"username\")\n",
    "password = os.getenv(\"password\")\n",
    "host = os.getenv(\"host\")\n",
    "dbname = os.getenv(\"dbname\")\n",
    "\n",
    "\n",
    "conn_string = f\"mysql+pymysql://{username}:{password}@{host}/{dbname}\"\n",
    "db_engine = create_engine(conn_string)\n",
    "\n",
    "query = \"SELECT * FROM dimproduct\"\n",
    "df = pd.read_sql(sql=query, con=db_engine)"
   ]
  },
  {
   "cell_type": "code",
   "execution_count": 343,
   "id": "2b8218dc-f4ee-4873-9ea8-1c608d7830b4",
   "metadata": {},
   "outputs": [],
   "source": [
    "import dotenv\n",
    "import os\n",
    "from sqlalchemy import create_engine\n",
    "import pandas as pd\n",
    "\n",
    "dotenv.load_dotenv(override=True)\n",
    "dotenv_path=\".env\"\n",
    "\n",
    "username = os.getenv(\"username\")\n",
    "password = os.getenv(\"password\")\n",
    "host = os.getenv(\"host\")\n",
    "dbname = os.getenv(\"dbname\")\n",
    "\n",
    "\n",
    "conn_string = f\"mysql+pymysql://{username}:{password}@{host}/{dbname}\"\n",
    "db_engine = create_engine(conn_string)\n",
    "\n",
    "query = \"SELECT * FROM dimproduct\"\n",
    "df = pd.read_sql(sql=query, con=db_engine)"
   ]
  },
  {
   "cell_type": "code",
   "execution_count": 345,
   "id": "fca462b3-d301-40de-b393-6c5d2194982f",
   "metadata": {},
   "outputs": [
    {
     "data": {
      "text/html": [
       "<div>\n",
       "<style scoped>\n",
       "    .dataframe tbody tr th:only-of-type {\n",
       "        vertical-align: middle;\n",
       "    }\n",
       "\n",
       "    .dataframe tbody tr th {\n",
       "        vertical-align: top;\n",
       "    }\n",
       "\n",
       "    .dataframe thead th {\n",
       "        text-align: right;\n",
       "    }\n",
       "</style>\n",
       "<table border=\"1\" class=\"dataframe\">\n",
       "  <thead>\n",
       "    <tr style=\"text-align: right;\">\n",
       "      <th></th>\n",
       "      <th>ProductKey</th>\n",
       "      <th>ProductAlternateKey</th>\n",
       "      <th>ProductSubcategoryKey</th>\n",
       "      <th>WeightUnitMeasureCode</th>\n",
       "      <th>SizeUnitMeasureCode</th>\n",
       "      <th>EnglishProductName</th>\n",
       "      <th>SpanishProductName</th>\n",
       "      <th>FrenchProductName</th>\n",
       "      <th>StandardCost</th>\n",
       "      <th>FinishedGoodsFlag</th>\n",
       "      <th>...</th>\n",
       "      <th>ChineseDescription</th>\n",
       "      <th>ArabicDescription</th>\n",
       "      <th>HebrewDescription</th>\n",
       "      <th>ThaiDescription</th>\n",
       "      <th>GermanDescription</th>\n",
       "      <th>JapaneseDescription</th>\n",
       "      <th>TurkishDescription</th>\n",
       "      <th>StartDate</th>\n",
       "      <th>EndDate</th>\n",
       "      <th>Status</th>\n",
       "    </tr>\n",
       "  </thead>\n",
       "  <tbody>\n",
       "    <tr>\n",
       "      <th>0</th>\n",
       "      <td>1</td>\n",
       "      <td>AR-5381</td>\n",
       "      <td>NaN</td>\n",
       "      <td>None</td>\n",
       "      <td>None</td>\n",
       "      <td>Adjustable Race</td>\n",
       "      <td></td>\n",
       "      <td></td>\n",
       "      <td>NaN</td>\n",
       "      <td>0</td>\n",
       "      <td>...</td>\n",
       "      <td>None</td>\n",
       "      <td>None</td>\n",
       "      <td>None</td>\n",
       "      <td>None</td>\n",
       "      <td>None</td>\n",
       "      <td>None</td>\n",
       "      <td>None</td>\n",
       "      <td>2003-07-01</td>\n",
       "      <td>NaT</td>\n",
       "      <td>Current</td>\n",
       "    </tr>\n",
       "    <tr>\n",
       "      <th>1</th>\n",
       "      <td>2</td>\n",
       "      <td>BA-8327</td>\n",
       "      <td>NaN</td>\n",
       "      <td>None</td>\n",
       "      <td>None</td>\n",
       "      <td>Bearing Ball</td>\n",
       "      <td></td>\n",
       "      <td></td>\n",
       "      <td>NaN</td>\n",
       "      <td>0</td>\n",
       "      <td>...</td>\n",
       "      <td>None</td>\n",
       "      <td>None</td>\n",
       "      <td>None</td>\n",
       "      <td>None</td>\n",
       "      <td>None</td>\n",
       "      <td>None</td>\n",
       "      <td>None</td>\n",
       "      <td>2003-07-01</td>\n",
       "      <td>NaT</td>\n",
       "      <td>Current</td>\n",
       "    </tr>\n",
       "    <tr>\n",
       "      <th>2</th>\n",
       "      <td>3</td>\n",
       "      <td>BE-2349</td>\n",
       "      <td>NaN</td>\n",
       "      <td>None</td>\n",
       "      <td>None</td>\n",
       "      <td>BB Ball Bearing</td>\n",
       "      <td></td>\n",
       "      <td></td>\n",
       "      <td>NaN</td>\n",
       "      <td>0</td>\n",
       "      <td>...</td>\n",
       "      <td>None</td>\n",
       "      <td>None</td>\n",
       "      <td>None</td>\n",
       "      <td>None</td>\n",
       "      <td>None</td>\n",
       "      <td>None</td>\n",
       "      <td>None</td>\n",
       "      <td>2003-07-01</td>\n",
       "      <td>NaT</td>\n",
       "      <td>Current</td>\n",
       "    </tr>\n",
       "    <tr>\n",
       "      <th>3</th>\n",
       "      <td>4</td>\n",
       "      <td>BE-2908</td>\n",
       "      <td>NaN</td>\n",
       "      <td>None</td>\n",
       "      <td>None</td>\n",
       "      <td>Headset Ball Bearings</td>\n",
       "      <td></td>\n",
       "      <td></td>\n",
       "      <td>NaN</td>\n",
       "      <td>0</td>\n",
       "      <td>...</td>\n",
       "      <td>None</td>\n",
       "      <td>None</td>\n",
       "      <td>None</td>\n",
       "      <td>None</td>\n",
       "      <td>None</td>\n",
       "      <td>None</td>\n",
       "      <td>None</td>\n",
       "      <td>2003-07-01</td>\n",
       "      <td>NaT</td>\n",
       "      <td>Current</td>\n",
       "    </tr>\n",
       "    <tr>\n",
       "      <th>4</th>\n",
       "      <td>5</td>\n",
       "      <td>BL-2036</td>\n",
       "      <td>NaN</td>\n",
       "      <td>None</td>\n",
       "      <td>None</td>\n",
       "      <td>Blade</td>\n",
       "      <td></td>\n",
       "      <td></td>\n",
       "      <td>NaN</td>\n",
       "      <td>0</td>\n",
       "      <td>...</td>\n",
       "      <td>None</td>\n",
       "      <td>None</td>\n",
       "      <td>None</td>\n",
       "      <td>None</td>\n",
       "      <td>None</td>\n",
       "      <td>None</td>\n",
       "      <td>None</td>\n",
       "      <td>2003-07-01</td>\n",
       "      <td>NaT</td>\n",
       "      <td>Current</td>\n",
       "    </tr>\n",
       "    <tr>\n",
       "      <th>...</th>\n",
       "      <td>...</td>\n",
       "      <td>...</td>\n",
       "      <td>...</td>\n",
       "      <td>...</td>\n",
       "      <td>...</td>\n",
       "      <td>...</td>\n",
       "      <td>...</td>\n",
       "      <td>...</td>\n",
       "      <td>...</td>\n",
       "      <td>...</td>\n",
       "      <td>...</td>\n",
       "      <td>...</td>\n",
       "      <td>...</td>\n",
       "      <td>...</td>\n",
       "      <td>...</td>\n",
       "      <td>...</td>\n",
       "      <td>...</td>\n",
       "      <td>...</td>\n",
       "      <td>...</td>\n",
       "      <td>...</td>\n",
       "      <td>...</td>\n",
       "    </tr>\n",
       "    <tr>\n",
       "      <th>601</th>\n",
       "      <td>602</td>\n",
       "      <td>BB-8107</td>\n",
       "      <td>5.0</td>\n",
       "      <td>G</td>\n",
       "      <td>None</td>\n",
       "      <td>ML Bottom Bracket</td>\n",
       "      <td>Eje de pedalier GM</td>\n",
       "      <td>Axe de pédalier ML</td>\n",
       "      <td>44.95</td>\n",
       "      <td>1</td>\n",
       "      <td>...</td>\n",
       "      <td>铝合金车圈；大直径脚蹬轴。</td>\n",
       "      <td>فناجين من سبيكة الألومنيوم؛ ذات محور دوران كبي...</td>\n",
       "      <td>כיסויים מסגסוגת אלומיניום; ציר רחב-קוטר.</td>\n",
       "      <td>ดุมอลูมิเนียมอัลลอยด์ แกนเพลาขนาดใหญ่</td>\n",
       "      <td>Außenringe aus Aluminiumlegierung; Radachse mi...</td>\n",
       "      <td>アルミニウム合金カップ、大径スピンドル。</td>\n",
       "      <td>Alüminyum alaşımı orta göbekler; geniş çaplı mil.</td>\n",
       "      <td>2013-07-01</td>\n",
       "      <td>NaT</td>\n",
       "      <td>Current</td>\n",
       "    </tr>\n",
       "    <tr>\n",
       "      <th>602</th>\n",
       "      <td>603</td>\n",
       "      <td>BB-9108</td>\n",
       "      <td>5.0</td>\n",
       "      <td>G</td>\n",
       "      <td>None</td>\n",
       "      <td>HL Bottom Bracket</td>\n",
       "      <td>Eje de pedalier GA</td>\n",
       "      <td>Axe de pédalier HL</td>\n",
       "      <td>53.94</td>\n",
       "      <td>1</td>\n",
       "      <td>...</td>\n",
       "      <td>铝合金车圈和空心轴。</td>\n",
       "      <td>فناجين من سبيكة الألومنيوم ومحور أجوف.</td>\n",
       "      <td>כיסויים מסגסוגת אלומיניום וציר חלול.</td>\n",
       "      <td>ดุมอลูมิเนียมอัลลอยด์และเพลากลวง</td>\n",
       "      <td>Außenringe aus Aluminiumlegierung und hohle Ac...</td>\n",
       "      <td>アルミニウム合金カップとホロー アクスル。</td>\n",
       "      <td>Alüminyum alaşımı orta göbekler ve içi boş aks.</td>\n",
       "      <td>2013-07-01</td>\n",
       "      <td>NaT</td>\n",
       "      <td>Current</td>\n",
       "    </tr>\n",
       "    <tr>\n",
       "      <th>603</th>\n",
       "      <td>604</td>\n",
       "      <td>BK-R19B-44</td>\n",
       "      <td>2.0</td>\n",
       "      <td>LB</td>\n",
       "      <td>CM</td>\n",
       "      <td>Road-750 Black, 44</td>\n",
       "      <td>Carretera: 750, negra, 44</td>\n",
       "      <td>Vélo de route 750 noir, 44</td>\n",
       "      <td>343.65</td>\n",
       "      <td>1</td>\n",
       "      <td>...</td>\n",
       "      <td>入门级成人自行车；确保越野旅行或公路骑乘的舒适。快拆式车毂和轮缘。</td>\n",
       "      <td>إنها دراجة مناسبة للمبتدئين من البالغين؛ فهي ت...</td>\n",
       "      <td>אופני מבוגרים למתחילים; מציעים רכיבה נוחה \"מחו...</td>\n",
       "      <td>จักรยานระดับเริ่มต้นสำหรับผู้ใหญ่ ให้ความสบายใ...</td>\n",
       "      <td>Ein Erwachsenenrad für Einsteiger; bietet Komf...</td>\n",
       "      <td>エントリー レベルに対応する、クロスカントリーにも街への買い物にも快適な、大人の自転車。ハブ...</td>\n",
       "      <td>\"Başlangıç seviyesinde yetişkin bisikleti, kır...</td>\n",
       "      <td>2013-07-01</td>\n",
       "      <td>NaT</td>\n",
       "      <td>Current</td>\n",
       "    </tr>\n",
       "    <tr>\n",
       "      <th>604</th>\n",
       "      <td>605</td>\n",
       "      <td>BK-R19B-48</td>\n",
       "      <td>2.0</td>\n",
       "      <td>LB</td>\n",
       "      <td>CM</td>\n",
       "      <td>Road-750 Black, 48</td>\n",
       "      <td>Carretera: 750, negra, 48</td>\n",
       "      <td>Vélo de route 750 noir, 48</td>\n",
       "      <td>343.65</td>\n",
       "      <td>1</td>\n",
       "      <td>...</td>\n",
       "      <td>入门级成人自行车；确保越野旅行或公路骑乘的舒适。快拆式车毂和轮缘。</td>\n",
       "      <td>إنها دراجة مناسبة للمبتدئين من البالغين؛ فهي ت...</td>\n",
       "      <td>אופני מבוגרים למתחילים; מציעים רכיבה נוחה \"מחו...</td>\n",
       "      <td>จักรยานระดับเริ่มต้นสำหรับผู้ใหญ่ ให้ความสบายใ...</td>\n",
       "      <td>Ein Erwachsenenrad für Einsteiger; bietet Komf...</td>\n",
       "      <td>エントリー レベルに対応する、クロスカントリーにも街への買い物にも快適な、大人の自転車。ハブ...</td>\n",
       "      <td>\"Başlangıç seviyesinde yetişkin bisikleti, kır...</td>\n",
       "      <td>2013-07-01</td>\n",
       "      <td>NaT</td>\n",
       "      <td>Current</td>\n",
       "    </tr>\n",
       "    <tr>\n",
       "      <th>605</th>\n",
       "      <td>606</td>\n",
       "      <td>BK-R19B-52</td>\n",
       "      <td>2.0</td>\n",
       "      <td>LB</td>\n",
       "      <td>CM</td>\n",
       "      <td>Road-750 Black, 52</td>\n",
       "      <td>Carretera: 750, negra, 52</td>\n",
       "      <td>Vélo de route 750 noir, 52</td>\n",
       "      <td>343.65</td>\n",
       "      <td>1</td>\n",
       "      <td>...</td>\n",
       "      <td>入门级成人自行车；确保越野旅行或公路骑乘的舒适。快拆式车毂和轮缘。</td>\n",
       "      <td>إنها دراجة مناسبة للمبتدئين من البالغين؛ فهي ت...</td>\n",
       "      <td>אופני מבוגרים למתחילים; מציעים רכיבה נוחה \"מחו...</td>\n",
       "      <td>จักรยานระดับเริ่มต้นสำหรับผู้ใหญ่ ให้ความสบายใ...</td>\n",
       "      <td>Ein Erwachsenenrad für Einsteiger; bietet Komf...</td>\n",
       "      <td>エントリー レベルに対応する、クロスカントリーにも街への買い物にも快適な、大人の自転車。ハブ...</td>\n",
       "      <td>\"Başlangıç seviyesinde yetişkin bisikleti, kır...</td>\n",
       "      <td>2013-07-01</td>\n",
       "      <td>NaT</td>\n",
       "      <td>Current</td>\n",
       "    </tr>\n",
       "  </tbody>\n",
       "</table>\n",
       "<p>606 rows × 36 columns</p>\n",
       "</div>"
      ],
      "text/plain": [
       "     ProductKey ProductAlternateKey  ProductSubcategoryKey  \\\n",
       "0             1             AR-5381                    NaN   \n",
       "1             2             BA-8327                    NaN   \n",
       "2             3             BE-2349                    NaN   \n",
       "3             4             BE-2908                    NaN   \n",
       "4             5             BL-2036                    NaN   \n",
       "..          ...                 ...                    ...   \n",
       "601         602             BB-8107                    5.0   \n",
       "602         603             BB-9108                    5.0   \n",
       "603         604          BK-R19B-44                    2.0   \n",
       "604         605          BK-R19B-48                    2.0   \n",
       "605         606          BK-R19B-52                    2.0   \n",
       "\n",
       "    WeightUnitMeasureCode SizeUnitMeasureCode     EnglishProductName  \\\n",
       "0                    None                None        Adjustable Race   \n",
       "1                    None                None           Bearing Ball   \n",
       "2                    None                None        BB Ball Bearing   \n",
       "3                    None                None  Headset Ball Bearings   \n",
       "4                    None                None                  Blade   \n",
       "..                    ...                 ...                    ...   \n",
       "601                     G                None      ML Bottom Bracket   \n",
       "602                     G                None      HL Bottom Bracket   \n",
       "603                    LB                  CM     Road-750 Black, 44   \n",
       "604                    LB                  CM     Road-750 Black, 48   \n",
       "605                    LB                  CM     Road-750 Black, 52   \n",
       "\n",
       "            SpanishProductName           FrenchProductName  StandardCost  \\\n",
       "0                                                                    NaN   \n",
       "1                                                                    NaN   \n",
       "2                                                                    NaN   \n",
       "3                                                                    NaN   \n",
       "4                                                                    NaN   \n",
       "..                         ...                         ...           ...   \n",
       "601         Eje de pedalier GM          Axe de pédalier ML         44.95   \n",
       "602         Eje de pedalier GA          Axe de pédalier HL         53.94   \n",
       "603  Carretera: 750, negra, 44  Vélo de route 750 noir, 44        343.65   \n",
       "604  Carretera: 750, negra, 48  Vélo de route 750 noir, 48        343.65   \n",
       "605  Carretera: 750, negra, 52  Vélo de route 750 noir, 52        343.65   \n",
       "\n",
       "     FinishedGoodsFlag  ...                 ChineseDescription  \\\n",
       "0                    0  ...                               None   \n",
       "1                    0  ...                               None   \n",
       "2                    0  ...                               None   \n",
       "3                    0  ...                               None   \n",
       "4                    0  ...                               None   \n",
       "..                 ...  ...                                ...   \n",
       "601                  1  ...                      铝合金车圈；大直径脚蹬轴。   \n",
       "602                  1  ...                         铝合金车圈和空心轴。   \n",
       "603                  1  ...  入门级成人自行车；确保越野旅行或公路骑乘的舒适。快拆式车毂和轮缘。   \n",
       "604                  1  ...  入门级成人自行车；确保越野旅行或公路骑乘的舒适。快拆式车毂和轮缘。   \n",
       "605                  1  ...  入门级成人自行车；确保越野旅行或公路骑乘的舒适。快拆式车毂和轮缘。   \n",
       "\n",
       "                                     ArabicDescription  \\\n",
       "0                                                 None   \n",
       "1                                                 None   \n",
       "2                                                 None   \n",
       "3                                                 None   \n",
       "4                                                 None   \n",
       "..                                                 ...   \n",
       "601  فناجين من سبيكة الألومنيوم؛ ذات محور دوران كبي...   \n",
       "602             فناجين من سبيكة الألومنيوم ومحور أجوف.   \n",
       "603  إنها دراجة مناسبة للمبتدئين من البالغين؛ فهي ت...   \n",
       "604  إنها دراجة مناسبة للمبتدئين من البالغين؛ فهي ت...   \n",
       "605  إنها دراجة مناسبة للمبتدئين من البالغين؛ فهي ت...   \n",
       "\n",
       "                                     HebrewDescription  \\\n",
       "0                                                 None   \n",
       "1                                                 None   \n",
       "2                                                 None   \n",
       "3                                                 None   \n",
       "4                                                 None   \n",
       "..                                                 ...   \n",
       "601           כיסויים מסגסוגת אלומיניום; ציר רחב-קוטר.   \n",
       "602               כיסויים מסגסוגת אלומיניום וציר חלול.   \n",
       "603  אופני מבוגרים למתחילים; מציעים רכיבה נוחה \"מחו...   \n",
       "604  אופני מבוגרים למתחילים; מציעים רכיבה נוחה \"מחו...   \n",
       "605  אופני מבוגרים למתחילים; מציעים רכיבה נוחה \"מחו...   \n",
       "\n",
       "                                       ThaiDescription  \\\n",
       "0                                                 None   \n",
       "1                                                 None   \n",
       "2                                                 None   \n",
       "3                                                 None   \n",
       "4                                                 None   \n",
       "..                                                 ...   \n",
       "601              ดุมอลูมิเนียมอัลลอยด์ แกนเพลาขนาดใหญ่   \n",
       "602                   ดุมอลูมิเนียมอัลลอยด์และเพลากลวง   \n",
       "603  จักรยานระดับเริ่มต้นสำหรับผู้ใหญ่ ให้ความสบายใ...   \n",
       "604  จักรยานระดับเริ่มต้นสำหรับผู้ใหญ่ ให้ความสบายใ...   \n",
       "605  จักรยานระดับเริ่มต้นสำหรับผู้ใหญ่ ให้ความสบายใ...   \n",
       "\n",
       "                                     GermanDescription  \\\n",
       "0                                                 None   \n",
       "1                                                 None   \n",
       "2                                                 None   \n",
       "3                                                 None   \n",
       "4                                                 None   \n",
       "..                                                 ...   \n",
       "601  Außenringe aus Aluminiumlegierung; Radachse mi...   \n",
       "602  Außenringe aus Aluminiumlegierung und hohle Ac...   \n",
       "603  Ein Erwachsenenrad für Einsteiger; bietet Komf...   \n",
       "604  Ein Erwachsenenrad für Einsteiger; bietet Komf...   \n",
       "605  Ein Erwachsenenrad für Einsteiger; bietet Komf...   \n",
       "\n",
       "                                   JapaneseDescription  \\\n",
       "0                                                 None   \n",
       "1                                                 None   \n",
       "2                                                 None   \n",
       "3                                                 None   \n",
       "4                                                 None   \n",
       "..                                                 ...   \n",
       "601                               アルミニウム合金カップ、大径スピンドル。   \n",
       "602                              アルミニウム合金カップとホロー アクスル。   \n",
       "603  エントリー レベルに対応する、クロスカントリーにも街への買い物にも快適な、大人の自転車。ハブ...   \n",
       "604  エントリー レベルに対応する、クロスカントリーにも街への買い物にも快適な、大人の自転車。ハブ...   \n",
       "605  エントリー レベルに対応する、クロスカントリーにも街への買い物にも快適な、大人の自転車。ハブ...   \n",
       "\n",
       "                                    TurkishDescription  StartDate EndDate  \\\n",
       "0                                                 None 2003-07-01     NaT   \n",
       "1                                                 None 2003-07-01     NaT   \n",
       "2                                                 None 2003-07-01     NaT   \n",
       "3                                                 None 2003-07-01     NaT   \n",
       "4                                                 None 2003-07-01     NaT   \n",
       "..                                                 ...        ...     ...   \n",
       "601  Alüminyum alaşımı orta göbekler; geniş çaplı mil. 2013-07-01     NaT   \n",
       "602    Alüminyum alaşımı orta göbekler ve içi boş aks. 2013-07-01     NaT   \n",
       "603  \"Başlangıç seviyesinde yetişkin bisikleti, kır... 2013-07-01     NaT   \n",
       "604  \"Başlangıç seviyesinde yetişkin bisikleti, kır... 2013-07-01     NaT   \n",
       "605  \"Başlangıç seviyesinde yetişkin bisikleti, kır... 2013-07-01     NaT   \n",
       "\n",
       "      Status  \n",
       "0    Current  \n",
       "1    Current  \n",
       "2    Current  \n",
       "3    Current  \n",
       "4    Current  \n",
       "..       ...  \n",
       "601  Current  \n",
       "602  Current  \n",
       "603  Current  \n",
       "604  Current  \n",
       "605  Current  \n",
       "\n",
       "[606 rows x 36 columns]"
      ]
     },
     "execution_count": 345,
     "metadata": {},
     "output_type": "execute_result"
    }
   ],
   "source": [
    "df"
   ]
  },
  {
   "cell_type": "code",
   "execution_count": 347,
   "id": "ccbaed1d-eaf9-43ab-85e8-b6ad38bf92ce",
   "metadata": {},
   "outputs": [
    {
     "name": "stdout",
     "output_type": "stream",
     "text": [
      "il numero totale dei dati è:606\n"
     ]
    }
   ],
   "source": [
    "#Quanti dati ci sono in totale?\n",
    "totale_dati=df.shape[0]\n",
    "print(f\"il numero totale dei dati è:{totale_dati}\")"
   ]
  },
  {
   "cell_type": "code",
   "execution_count": 349,
   "id": "bcc54426-c8c1-4f4a-801c-b70641e65cd4",
   "metadata": {},
   "outputs": [
    {
     "name": "stdout",
     "output_type": "stream",
     "text": [
      "i metadati per colonna sono:\n",
      "ProductKey                        int64\n",
      "ProductAlternateKey              object\n",
      "ProductSubcategoryKey           float64\n",
      "WeightUnitMeasureCode            object\n",
      "SizeUnitMeasureCode              object\n",
      "EnglishProductName               object\n",
      "SpanishProductName               object\n",
      "FrenchProductName                object\n",
      "StandardCost                    float64\n",
      "FinishedGoodsFlag                 int64\n",
      "Color                            object\n",
      "SafetyStockLevel                  int64\n",
      "ReorderPoint                      int64\n",
      "ListPrice                       float64\n",
      "Size                             object\n",
      "SizeRange                        object\n",
      "Weight                          float64\n",
      "DaysToManufacture                 int64\n",
      "ProductLine                      object\n",
      "DealerPrice                     float64\n",
      "Class                            object\n",
      "Style                            object\n",
      "ModelName                        object\n",
      "LargePhoto                       object\n",
      "EnglishDescription               object\n",
      "FrenchDescription                object\n",
      "ChineseDescription               object\n",
      "ArabicDescription                object\n",
      "HebrewDescription                object\n",
      "ThaiDescription                  object\n",
      "GermanDescription                object\n",
      "JapaneseDescription              object\n",
      "TurkishDescription               object\n",
      "StartDate                datetime64[ns]\n",
      "EndDate                  datetime64[ns]\n",
      "Status                           object\n",
      "dtype: object\n"
     ]
    }
   ],
   "source": [
    "#Quali sono i metadati?\n",
    "metadati=df.dtypes\n",
    "print(\"i metadati per colonna sono:\")\n",
    "print(metadati)"
   ]
  },
  {
   "cell_type": "code",
   "execution_count": 353,
   "id": "41447f54-c924-4d8e-99f4-6ebef8fd5bbf",
   "metadata": {},
   "outputs": [
    {
     "name": "stdout",
     "output_type": "stream",
     "text": [
      "il primo elemento è:\n",
      "ProductKey                                                               2\n",
      "ProductAlternateKey                                                BA-8327\n",
      "ProductSubcategoryKey                                                  NaN\n",
      "WeightUnitMeasureCode                                                 None\n",
      "SizeUnitMeasureCode                                                   None\n",
      "EnglishProductName                                            Bearing Ball\n",
      "SpanishProductName                                                        \n",
      "FrenchProductName                                                         \n",
      "StandardCost                                                           NaN\n",
      "FinishedGoodsFlag                                                        0\n",
      "Color                                                                   NA\n",
      "SafetyStockLevel                                                      1000\n",
      "ReorderPoint                                                           750\n",
      "ListPrice                                                              NaN\n",
      "Size                                                                  None\n",
      "SizeRange                                                               NA\n",
      "Weight                                                                 NaN\n",
      "DaysToManufacture                                                        0\n",
      "ProductLine                                                           None\n",
      "DealerPrice                                                            NaN\n",
      "Class                                                                 None\n",
      "Style                                                                 None\n",
      "ModelName                                                             None\n",
      "LargePhoto               b'GIF89a\\xf0\\x00\\x95\\x00\\xf7\\x00\\x00\\x00\\x00\\x...\n",
      "EnglishDescription                                                    None\n",
      "FrenchDescription                                                     None\n",
      "ChineseDescription                                                    None\n",
      "ArabicDescription                                                     None\n",
      "HebrewDescription                                                     None\n",
      "ThaiDescription                                                       None\n",
      "GermanDescription                                                     None\n",
      "JapaneseDescription                                                   None\n",
      "TurkishDescription                                                    None\n",
      "StartDate                                              2003-07-01 00:00:00\n",
      "EndDate                                                                NaT\n",
      "Status                                                             Current\n",
      "Name: 1, dtype: object\n"
     ]
    }
   ],
   "source": [
    "#Stampiamo il primo elemento\n",
    "primo_elemento=df.loc[1]\n",
    "print(\"il primo elemento è:\")\n",
    "print(primo_elemento)"
   ]
  },
  {
   "cell_type": "code",
   "execution_count": 51,
   "id": "9a851424-0d9f-4b48-a381-d74bcbd32e5f",
   "metadata": {},
   "outputs": [
    {
     "name": "stdout",
     "output_type": "stream",
     "text": [
      "l'ltimo elemento è:\n",
      "ProductKey                                                             606\n",
      "ProductAlternateKey                                             BK-R19B-52\n",
      "ProductSubcategoryKey                                                  2.0\n",
      "WeightUnitMeasureCode                                                   LB\n",
      "SizeUnitMeasureCode                                                     CM\n",
      "EnglishProductName                                      Road-750 Black, 52\n",
      "SpanishProductName                               Carretera: 750, negra, 52\n",
      "FrenchProductName                               Vélo de route 750 noir, 52\n",
      "StandardCost                                                        343.65\n",
      "FinishedGoodsFlag                                                        1\n",
      "Color                                                                Black\n",
      "SafetyStockLevel                                                       100\n",
      "ReorderPoint                                                            75\n",
      "ListPrice                                                           539.99\n",
      "Size                                                                    52\n",
      "SizeRange                                                         48-52 CM\n",
      "Weight                                                               20.42\n",
      "DaysToManufacture                                                        4\n",
      "ProductLine                                                              R\n",
      "DealerPrice                                                        323.994\n",
      "Class                                                                    L\n",
      "Style                                                                    U\n",
      "ModelName                                                         Road-750\n",
      "LargePhoto               b'GIF89a\\xf0\\x00\\x95\\x00\\xf7\\x00\\x00\\x8avw\\xf7...\n",
      "EnglishDescription       Entry level adult bike; offers a comfortable r...\n",
      "FrenchDescription        Vélo d'adulte d'entrée de gamme ; permet une c...\n",
      "ChineseDescription                       入门级成人自行车；确保越野旅行或公路骑乘的舒适。快拆式车毂和轮缘。\n",
      "ArabicDescription        إنها دراجة مناسبة للمبتدئين من البالغين؛ فهي ت...\n",
      "HebrewDescription        אופני מבוגרים למתחילים; מציעים רכיבה נוחה \"מחו...\n",
      "ThaiDescription          จักรยานระดับเริ่มต้นสำหรับผู้ใหญ่ ให้ความสบายใ...\n",
      "GermanDescription        Ein Erwachsenenrad für Einsteiger; bietet Komf...\n",
      "JapaneseDescription      エントリー レベルに対応する、クロスカントリーにも街への買い物にも快適な、大人の自転車。ハブ...\n",
      "TurkishDescription       \"Başlangıç seviyesinde yetişkin bisikleti, kır...\n",
      "StartDate                                              2013-07-01 00:00:00\n",
      "EndDate                                                                NaT\n",
      "Status                                                             Current\n",
      "Name: 605, dtype: object\n"
     ]
    }
   ],
   "source": [
    "#Stampiamo l'ultimo elemento\n",
    "ultimo_elemento = df.iloc[-1]\n",
    "print(\"l'ltimo elemento è:\")\n",
    "print(ultimo_elemento)"
   ]
  },
  {
   "cell_type": "code",
   "execution_count": 66,
   "id": "42fecf1a-b75f-4283-bf8f-b83d816880ef",
   "metadata": {},
   "outputs": [
    {
     "name": "stdout",
     "output_type": "stream",
     "text": [
      "prendiamo 5 riche casuali:\n",
      "     ProductKey ProductAlternateKey  ProductSubcategoryKey  \\\n",
      "101         102             LJ-1220                    NaN   \n",
      "84           85             LE-1400                    NaN   \n",
      "4             5             BL-2036                    NaN   \n",
      "492         493          FR-T67Y-62                   16.0   \n",
      "479         480             PK-7098                   37.0   \n",
      "\n",
      "    WeightUnitMeasureCode SizeUnitMeasureCode             EnglishProductName  \\\n",
      "101                  None                None           Thin-Jam Lock Nut 10   \n",
      "84                   None                None         External Lock Washer 5   \n",
      "4                    None                None                          Blade   \n",
      "492                    LB                  CM  LL Touring Frame - Yellow, 62   \n",
      "479                  None                None            Patch Kit/8 Patches   \n",
      "\n",
      "                   SpanishProductName  \\\n",
      "101                                     \n",
      "84                                      \n",
      "4                                       \n",
      "492  Cuadro de paseo GB: amarillo, 62   \n",
      "479                                     \n",
      "\n",
      "                             FrenchProductName  StandardCost  \\\n",
      "101                                                      NaN   \n",
      "84                                                       NaN   \n",
      "4                                                        NaN   \n",
      "492  Cadre de vélo de randonnée LL - jaune, 62        199.85   \n",
      "479                                                     0.86   \n",
      "\n",
      "     FinishedGoodsFlag  ...                           ChineseDescription  \\\n",
      "101                  0  ...                                         None   \n",
      "84                   0  ...                                         None   \n",
      "4                    0  ...                                         None   \n",
      "492                  1  ...  轻型一体式铝制车架，可以更直立的骑乘姿势进行环城游。我们开创性的设计提供了最佳舒适度。   \n",
      "479                  1  ...                           包括八种不同尺寸的补片、胶水和砂纸。   \n",
      "\n",
      "                                     ArabicDescription  \\\n",
      "101                                               None   \n",
      "84                                                None   \n",
      "4                                                 None   \n",
      "492  يوفر هيكل الألومنيوم سميك الأطراف خفيف الوزن و...   \n",
      "479  تشمل 8 رقع لصق مختلفة الحجم، ومادة غروية لاصقة...   \n",
      "\n",
      "                                     HebrewDescription  \\\n",
      "101                                               None   \n",
      "84                                                None   \n",
      "4                                                 None   \n",
      "492  מסגרת קלת משקל מאלומיניום חרוץ מספקת תנוחת רכי...   \n",
      "479       כולל 8 טלאים בגדלים שונים, דבק ונייר זכוכית.   \n",
      "\n",
      "                                       ThaiDescription  \\\n",
      "101                                               None   \n",
      "84                                                None   \n",
      "4                                                 None   \n",
      "492  เฟรมอลูมิเนียมน้ำหนักเบา ทำให้ท่วงท่าในการขับข...   \n",
      "479       ประกอบด้วยแผ่นปะยาง 8 ขนาด กาว และกระดาษทราย   \n",
      "\n",
      "                                     GermanDescription  \\\n",
      "101                                               None   \n",
      "84                                                None   \n",
      "4                                                 None   \n",
      "492  Leichter Aluminiumrahmen für aufrechte Sitzhal...   \n",
      "479  \"Enthält Flicken in 8 verschiedenen Größen, Kl...   \n",
      "\n",
      "                                   JapaneseDescription  \\\n",
      "101                                               None   \n",
      "84                                                None   \n",
      "4                                                 None   \n",
      "492  軽量接合アルミニウム フレームにより、街乗りに適したアップライトなライディング ポジションを...   \n",
      "479               8 種類の異なるサイズのパッチ、糊、およびサンド ペーパーが含まれます。   \n",
      "\n",
      "                                    TurkishDescription  StartDate EndDate  \\\n",
      "101                                               None 2003-07-01     NaT   \n",
      "84                                                None 2003-07-01     NaT   \n",
      "4                                                 None 2003-07-01     NaT   \n",
      "492  \"Hafif alüminyum kadrosu, şehirde yaptığınız y... 2013-07-01     NaT   \n",
      "479  \"8 farklı boyda yama, yapışkan ve zımpara kağı... 2013-07-01     NaT   \n",
      "\n",
      "      Status  \n",
      "101  Current  \n",
      "84   Current  \n",
      "4    Current  \n",
      "492  Current  \n",
      "479  Current  \n",
      "\n",
      "[5 rows x 36 columns]\n"
     ]
    }
   ],
   "source": [
    "#Riusciamo a stampare cinque elementi a caso?\n",
    "cinque_righe_casuali=df.sample(5)\n",
    "print(\"prendiamo 5 riche casuali:\")\n",
    "print(cinque_righe_casuali)"
   ]
  },
  {
   "cell_type": "code",
   "execution_count": 77,
   "id": "f6fc2da8-934b-4f96-acc8-e76a39de55b3",
   "metadata": {},
   "outputs": [
    {
     "name": "stdout",
     "output_type": "stream",
     "text": [
      "Colori disponibili:\n",
      "['NA' 'Black' 'Silver' 'Red' 'White' 'Blue' 'Multi' 'Yellow' 'Grey'\n",
      " 'Silver/Black']\n"
     ]
    }
   ],
   "source": [
    "# Quali sono i colori disponibili?\n",
    "colori_disponibili = df['Color'].dropna().unique()\n",
    "print(\"Colori disponibili:\")\n",
    "print(colori_disponibili)"
   ]
  },
  {
   "cell_type": "code",
   "execution_count": 89,
   "id": "022b9114-5f8f-475f-849f-3256c912c674",
   "metadata": {},
   "outputs": [
    {
     "name": "stdout",
     "output_type": "stream",
     "text": [
      "il peso medio dei prodotti è pari a:56.1932269503546\n"
     ]
    }
   ],
   "source": [
    "#In media quanto pesano i prodotti?\n",
    "peso_prodotti=df[\"Weight\"].mean()\n",
    "print(f\"il peso medio dei prodotti è pari a:{peso_prodotti}\")"
   ]
  },
  {
   "cell_type": "code",
   "execution_count": 91,
   "id": "28175e36-f7b7-44ef-8722-34f09269a245",
   "metadata": {},
   "outputs": [
    {
     "name": "stdout",
     "output_type": "stream",
     "text": [
      "il prodotto più leggero pesa:2.12\n"
     ]
    }
   ],
   "source": [
    "#Quanto pesa il più leggero?\n",
    "prodotto_piu_leggero=df[\"Weight\"].min()\n",
    "print(f\"il prodotto più leggero pesa:{prodotto_piu_leggero}\")"
   ]
  },
  {
   "cell_type": "code",
   "execution_count": 17,
   "id": "ec472084-92c6-4dae-9843-6184a2af7b20",
   "metadata": {},
   "outputs": [
    {
     "name": "stdout",
     "output_type": "stream",
     "text": [
      "il prodotto più pesante ha un peso di:1050.0\n"
     ]
    }
   ],
   "source": [
    "#Quanto pesa il più pesante?\n",
    "prodotto_piu_pesante=df[\"Weight\"].max()\n",
    "print(f\"il prodotto più pesante ha un peso di:{prodotto_piu_pesante}\")"
   ]
  },
  {
   "cell_type": "code",
   "execution_count": 34,
   "id": "db1fd7c5-4d71-4b17-bb62-0e6f0fa8ad46",
   "metadata": {},
   "outputs": [
    {
     "name": "stdout",
     "output_type": "stream",
     "text": [
      "il numero di prodotti che pesano più di 100 kg è pari a:28\n"
     ]
    }
   ],
   "source": [
    "#Quanti prodotti pesano più di 100 Kg?\n",
    "conteggio_maggiore_100=df[df[\"Weight\"]>100].shape[0]\n",
    "print(f\"il numero di prodotti che pesano più di 100 kg è pari a:{conteggio_maggiore_100}\")"
   ]
  },
  {
   "cell_type": "code",
   "execution_count": 36,
   "id": "79b2dae4-3bfb-4ddc-851b-c2330adaaac6",
   "metadata": {},
   "outputs": [
    {
     "name": "stdout",
     "output_type": "stream",
     "text": [
      "il costo medio dei prodotti è pari a :448.5970597468353\n"
     ]
    }
   ],
   "source": [
    "#Quanto costano in media i prodotti (colonna DealerPrice)?\n",
    "costo_medio_prodotti=df[\"DealerPrice\"].mean()\n",
    "print(f\"il costo medio dei prodotti è pari a :{costo_medio_prodotti}\")"
   ]
  },
  {
   "cell_type": "code",
   "execution_count": 42,
   "id": "5c38e768-5f6c-4ac3-91d0-5fd631e47947",
   "metadata": {},
   "outputs": [
    {
     "name": "stdout",
     "output_type": "stream",
     "text": [
      "il range di prezzo richiesto varierà tra 445.41 e 2146.962 \n"
     ]
    }
   ],
   "source": [
    "#Se prendiamo un quarto di tutti i prodotti, in modo che siano i più costosi, quale sarà il loro range di prezzo?\n",
    "df_ordinato = df.sort_values(by='DealerPrice', ascending=False)\n",
    "num_prodotti_quarto = len(df) // 4\n",
    "prodotti_quarto = df_ordinato.head(num_prodotti_quarto)\n",
    "prezzo_minimo_quarto = prodotti_quarto['DealerPrice'].min()\n",
    "prezzo_massimo_quarto = prodotti_quarto['DealerPrice'].max()\n",
    "print(f\"il range di prezzo richiesto varierà tra {prezzo_minimo_quarto} e {prezzo_massimo_quarto} \")"
   ]
  },
  {
   "cell_type": "code",
   "execution_count": 77,
   "id": "adcad630-dc1e-46fe-a15b-492f162cba94",
   "metadata": {},
   "outputs": [
    {
     "name": "stdout",
     "output_type": "stream",
     "text": [
      "il prezzo medio dei prodotti di colore blu è pari a:516.0631785714286\n"
     ]
    }
   ],
   "source": [
    "#Qual è il prezzo medio per i prodotti di colore blu?\n",
    "prezzo_medio_blu=df[df['Color']==\"Blue\"]['DealerPrice'].mean()\n",
    "print(f\"il prezzo medio dei prodotti di colore blu è pari a:{prezzo_medio_blu}\")\n"
   ]
  },
  {
   "cell_type": "code",
   "execution_count": 82,
   "id": "544238c8-7a7f-4fd0-82e6-c3a532b8e255",
   "metadata": {},
   "outputs": [
    {
     "name": "stdout",
     "output_type": "stream",
     "text": [
      "Prezzo medio per i prodotti di colore rosso o nero: 550.2481873684211\n"
     ]
    }
   ],
   "source": [
    "#Qual è il prezzo medio per i prodotti di colore rosso o nero?\n",
    "prezzo_medio_rosso_nero=df[df['Color'].isin(['Red', 'Black'])]['DealerPrice'].mean()\n",
    "print(f\"Prezzo medio per i prodotti di colore rosso o nero: {prezzo_medio_rosso_nero}\")"
   ]
  },
  {
   "cell_type": "code",
   "execution_count": 89,
   "id": "3cf287b2-2329-439b-bc55-5d9536d9410a",
   "metadata": {},
   "outputs": [
    {
     "name": "stdout",
     "output_type": "stream",
     "text": [
      "il prezzo massimo per i prodotti di taglia 42 e di peso maggiore ai 10 kg è pari a:2039.994\n"
     ]
    }
   ],
   "source": [
    "#Qual è il prezzo massimo per i prodotti di taglia 42 e peso oltre i 10 Kg?\n",
    "prezzo_medio=df[(df['Size'] == '42') & (df['Weight'] > 10)]['DealerPrice'].max()\n",
    "print(f\"il prezzo massimo per i prodotti di taglia 42 e di peso maggiore ai 10 kg è pari a:{prezzo_medio}\")"
   ]
  },
  {
   "cell_type": "code",
   "execution_count": 94,
   "id": "b68c0574-a153-4d4c-83d4-408666726367",
   "metadata": {},
   "outputs": [
    {
     "name": "stdout",
     "output_type": "stream",
     "text": [
      "il nome in inglese e il costo di produzione per i prodotti con le caratteristiche indicate sono:\n",
      "            EnglishProductName  StandardCost\n",
      "344    Mountain-100 Silver, 42       1912.15\n",
      "353    Mountain-200 Silver, 42       1117.86\n",
      "354    Mountain-200 Silver, 42       1265.62\n",
      "588  Mountain-400-W Silver, 42        419.78\n",
      "591    Mountain-500 Silver, 42        308.22\n"
     ]
    }
   ],
   "source": [
    "#Qual è il nome inglese e il costo di produzione (StandardCost) di tutti i prodotti di taglia 42, peso oltre i 10 Kg e colore argento?\n",
    "x=df[(df['Size'] == '42') & (df['Weight'] > 10) & (df['Color'] == 'Silver')][['EnglishProductName', 'StandardCost']]\n",
    "print(\"il nome in inglese e il costo di produzione per i prodotti con le caratteristiche indicate sono:\")\n",
    "print(x)"
   ]
  },
  {
   "cell_type": "code",
   "execution_count": 102,
   "id": "acf5d887-9adb-4a20-99b2-bc83b7365a3c",
   "metadata": {},
   "outputs": [
    {
     "name": "stdout",
     "output_type": "stream",
     "text": [
      "Differenza tra StandardCost e DealerPrice degli ultimi 20 elementi:\n",
      "     DealerPrice  StandardCost  Differenza\n",
      "586      461.694        419.78      41.914\n",
      "587      461.694        419.78      41.914\n",
      "588      461.694        419.78      41.914\n",
      "589      461.694        419.78      41.914\n",
      "590      338.994        308.22      30.774\n",
      "591      338.994        308.22      30.774\n",
      "592      338.994        308.22      30.774\n",
      "593      338.994        308.22      30.774\n",
      "594      338.994        308.22      30.774\n",
      "595      323.994        294.58      29.414\n",
      "596      323.994        294.58      29.414\n",
      "597      323.994        294.58      29.414\n",
      "598      323.994        294.58      29.414\n",
      "599      323.994        294.58      29.414\n",
      "600       32.394         23.97       8.424\n",
      "601       60.744         44.95      15.794\n",
      "602       72.894         53.94      18.954\n",
      "603      323.994        343.65     -19.656\n",
      "604      323.994        343.65     -19.656\n",
      "605      323.994        343.65     -19.656\n"
     ]
    },
    {
     "name": "stderr",
     "output_type": "stream",
     "text": [
      "C:\\Users\\Leo\\AppData\\Local\\Temp\\ipykernel_8500\\209664635.py:3: SettingWithCopyWarning: \n",
      "A value is trying to be set on a copy of a slice from a DataFrame.\n",
      "Try using .loc[row_indexer,col_indexer] = value instead\n",
      "\n",
      "See the caveats in the documentation: https://pandas.pydata.org/pandas-docs/stable/user_guide/indexing.html#returning-a-view-versus-a-copy\n",
      "  ultimi_20_elementi['Differenza'] = ultimi_20_elementi['DealerPrice'] - ultimi_20_elementi['StandardCost']\n"
     ]
    }
   ],
   "source": [
    "#Esaminiamo la differenza tra lo StandardCost e il DealerPrice degli ultimi 20 elementi del dataset: c'è un pattern? C'è qualche elemento che non lo segue?\n",
    "ultimi_20_elementi = df.tail(20)\n",
    "ultimi_20_elementi['Differenza'] = ultimi_20_elementi['DealerPrice'] - ultimi_20_elementi['StandardCost']\n",
    "\n",
    "print(\"Differenza tra StandardCost e DealerPrice degli ultimi 20 elementi:\")\n",
    "print(ultimi_20_elementi[['DealerPrice', 'StandardCost', 'Differenza']])"
   ]
  },
  {
   "cell_type": "code",
   "execution_count": 141,
   "id": "0d8cc918-1718-4784-b8e5-6987575ca015",
   "metadata": {},
   "outputs": [],
   "source": [
    "import pandas as pd"
   ]
  },
  {
   "cell_type": "code",
   "execution_count": 164,
   "id": "d63d8646-2a70-4aa3-b025-81ffe24d8ada",
   "metadata": {},
   "outputs": [],
   "source": [
    "# Caricare il dataset\n",
    "filepath = r'C:\\Users\\Leo\\Desktop\\EPICODE\\3_PYTHON\\W14D05\\beginner_datasets\\amazon.csv'\n",
    "df = pd.read_csv(filepath)"
   ]
  },
  {
   "cell_type": "code",
   "execution_count": 166,
   "id": "dfa2f82e-e612-4f73-a1fb-676b485efbd4",
   "metadata": {},
   "outputs": [
    {
     "name": "stdout",
     "output_type": "stream",
     "text": [
      "le dimensioni del dataset sono indicate dai seguenti parametri\n",
      "(20000, 2)\n"
     ]
    }
   ],
   "source": [
    "#Valutiamo la dimensione del dataset \n",
    "dimensioni_dataset=df.shape\n",
    "print(\"le dimensioni del dataset sono indicate dai seguenti parametri\")\n",
    "print(dimensioni_dataset)"
   ]
  },
  {
   "cell_type": "code",
   "execution_count": 168,
   "id": "9efb305f-81c4-408e-8351-ebbc254922ed",
   "metadata": {},
   "outputs": [
    {
     "data": {
      "text/html": [
       "<div>\n",
       "<style scoped>\n",
       "    .dataframe tbody tr th:only-of-type {\n",
       "        vertical-align: middle;\n",
       "    }\n",
       "\n",
       "    .dataframe tbody tr th {\n",
       "        vertical-align: top;\n",
       "    }\n",
       "\n",
       "    .dataframe thead th {\n",
       "        text-align: right;\n",
       "    }\n",
       "</style>\n",
       "<table border=\"1\" class=\"dataframe\">\n",
       "  <thead>\n",
       "    <tr style=\"text-align: right;\">\n",
       "      <th></th>\n",
       "      <th>reviewText</th>\n",
       "      <th>Positive</th>\n",
       "    </tr>\n",
       "  </thead>\n",
       "  <tbody>\n",
       "    <tr>\n",
       "      <th>6876</th>\n",
       "      <td>this is a good app for those that like astrolo...</td>\n",
       "      <td>1</td>\n",
       "    </tr>\n",
       "    <tr>\n",
       "      <th>19895</th>\n",
       "      <td>...my farm is my \"get-a-way\"...i spend hours \"...</td>\n",
       "      <td>1</td>\n",
       "    </tr>\n",
       "    <tr>\n",
       "      <th>18493</th>\n",
       "      <td>So, I downloaded it because my cousin wanted t...</td>\n",
       "      <td>0</td>\n",
       "    </tr>\n",
       "    <tr>\n",
       "      <th>11928</th>\n",
       "      <td>works really great on the kindle fire wakes yo...</td>\n",
       "      <td>1</td>\n",
       "    </tr>\n",
       "    <tr>\n",
       "      <th>5071</th>\n",
       "      <td>I love this app. It made travel easier and my ...</td>\n",
       "      <td>1</td>\n",
       "    </tr>\n",
       "    <tr>\n",
       "      <th>4751</th>\n",
       "      <td>I wouldn't pay $2.50 for this... $.99 seems mo...</td>\n",
       "      <td>1</td>\n",
       "    </tr>\n",
       "    <tr>\n",
       "      <th>11909</th>\n",
       "      <td>I've been using this app for about a year now....</td>\n",
       "      <td>1</td>\n",
       "    </tr>\n",
       "    <tr>\n",
       "      <th>16217</th>\n",
       "      <td>worth getting. very useful. helps to have a st...</td>\n",
       "      <td>1</td>\n",
       "    </tr>\n",
       "    <tr>\n",
       "      <th>19943</th>\n",
       "      <td>I love taking care of my farm  with  all  my a...</td>\n",
       "      <td>1</td>\n",
       "    </tr>\n",
       "    <tr>\n",
       "      <th>11438</th>\n",
       "      <td>When I opened this game Honeycomb's zoom compa...</td>\n",
       "      <td>0</td>\n",
       "    </tr>\n",
       "  </tbody>\n",
       "</table>\n",
       "</div>"
      ],
      "text/plain": [
       "                                              reviewText  Positive\n",
       "6876   this is a good app for those that like astrolo...         1\n",
       "19895  ...my farm is my \"get-a-way\"...i spend hours \"...         1\n",
       "18493  So, I downloaded it because my cousin wanted t...         0\n",
       "11928  works really great on the kindle fire wakes yo...         1\n",
       "5071   I love this app. It made travel easier and my ...         1\n",
       "4751   I wouldn't pay $2.50 for this... $.99 seems mo...         1\n",
       "11909  I've been using this app for about a year now....         1\n",
       "16217  worth getting. very useful. helps to have a st...         1\n",
       "19943  I love taking care of my farm  with  all  my a...         1\n",
       "11438  When I opened this game Honeycomb's zoom compa...         0"
      ]
     },
     "execution_count": 168,
     "metadata": {},
     "output_type": "execute_result"
    }
   ],
   "source": [
    "#Visualizziamo dieci righe a caso;\n",
    "df.sample(10)"
   ]
  },
  {
   "cell_type": "code",
   "execution_count": 170,
   "id": "e6c628a0-671d-453d-8202-7261f321da43",
   "metadata": {},
   "outputs": [
    {
     "data": {
      "text/plain": [
       "['reviewText', 'Positive']"
      ]
     },
     "execution_count": 170,
     "metadata": {},
     "output_type": "execute_result"
    }
   ],
   "source": [
    "#Osserviamo quali sono i nomi di colonna;\n",
    "df.columns.tolist()"
   ]
  },
  {
   "cell_type": "code",
   "execution_count": 172,
   "id": "5e6061a1-1643-4f89-be3a-bf068c628cb5",
   "metadata": {},
   "outputs": [
    {
     "name": "stdout",
     "output_type": "stream",
     "text": [
      "Recensioni positive: 15233\n",
      "Recensioni negative: 4767\n",
      "Il dataset è bilanciato: False\n"
     ]
    }
   ],
   "source": [
    "#Il dataset è bilanciato, ovvero, il numero di recensioni positive è uguale a quello delle negative, oppure no?\n",
    "positive_reviews = df[df['Positive'] == 1].shape[0]\n",
    "negative_reviews = df[df['Positive'] == 0].shape[0]\n",
    "is_balanced = positive_reviews == negative_reviews\n",
    "\n",
    "print(\"Recensioni positive:\", positive_reviews)\n",
    "print(\"Recensioni negative:\", negative_reviews)\n",
    "print(\"Il dataset è bilanciato:\", is_balanced)"
   ]
  },
  {
   "cell_type": "code",
   "execution_count": 178,
   "id": "f2f346cd-4428-4b7e-be61-919d8d37891c",
   "metadata": {},
   "outputs": [],
   "source": [
    "#accesso al dataset diabetes.csv\n",
    "import pandas as pd\n",
    "filepath=r\"C:\\Users\\Leo\\Desktop\\EPICODE\\3_PYTHON\\W14D05\\beginner_datasets\\diabetes.csv\"\n",
    "df=pd.read_csv(filepath)"
   ]
  },
  {
   "cell_type": "code",
   "execution_count": 183,
   "id": "26af6734-eba2-4d63-bdf7-2dbb178e3829",
   "metadata": {},
   "outputs": [
    {
     "name": "stdout",
     "output_type": "stream",
     "text": [
      "(768, 9)\n"
     ]
    },
    {
     "data": {
      "text/html": [
       "<div>\n",
       "<style scoped>\n",
       "    .dataframe tbody tr th:only-of-type {\n",
       "        vertical-align: middle;\n",
       "    }\n",
       "\n",
       "    .dataframe tbody tr th {\n",
       "        vertical-align: top;\n",
       "    }\n",
       "\n",
       "    .dataframe thead th {\n",
       "        text-align: right;\n",
       "    }\n",
       "</style>\n",
       "<table border=\"1\" class=\"dataframe\">\n",
       "  <thead>\n",
       "    <tr style=\"text-align: right;\">\n",
       "      <th></th>\n",
       "      <th>Number of times pregnant</th>\n",
       "      <th>Plasma glucose concentration a 2 hours in an oral glucose tolerance test</th>\n",
       "      <th>Diastolic blood pressure (mm Hg)</th>\n",
       "      <th>Triceps skin fold thickness (mm)</th>\n",
       "      <th>2-Hour serum insulin (mu U/ml)</th>\n",
       "      <th>Body mass index (weight in kg/(height in m)^2)</th>\n",
       "      <th>Diabetes pedigree function</th>\n",
       "      <th>Age (years)</th>\n",
       "      <th>Class variable</th>\n",
       "    </tr>\n",
       "  </thead>\n",
       "  <tbody>\n",
       "    <tr>\n",
       "      <th>156</th>\n",
       "      <td>2</td>\n",
       "      <td>99</td>\n",
       "      <td>52</td>\n",
       "      <td>15</td>\n",
       "      <td>94</td>\n",
       "      <td>24.6</td>\n",
       "      <td>0.637</td>\n",
       "      <td>21</td>\n",
       "      <td>0</td>\n",
       "    </tr>\n",
       "    <tr>\n",
       "      <th>646</th>\n",
       "      <td>1</td>\n",
       "      <td>167</td>\n",
       "      <td>74</td>\n",
       "      <td>17</td>\n",
       "      <td>144</td>\n",
       "      <td>23.4</td>\n",
       "      <td>0.447</td>\n",
       "      <td>33</td>\n",
       "      <td>1</td>\n",
       "    </tr>\n",
       "    <tr>\n",
       "      <th>484</th>\n",
       "      <td>0</td>\n",
       "      <td>145</td>\n",
       "      <td>0</td>\n",
       "      <td>0</td>\n",
       "      <td>0</td>\n",
       "      <td>44.2</td>\n",
       "      <td>0.630</td>\n",
       "      <td>31</td>\n",
       "      <td>1</td>\n",
       "    </tr>\n",
       "    <tr>\n",
       "      <th>332</th>\n",
       "      <td>1</td>\n",
       "      <td>180</td>\n",
       "      <td>0</td>\n",
       "      <td>0</td>\n",
       "      <td>0</td>\n",
       "      <td>43.3</td>\n",
       "      <td>0.282</td>\n",
       "      <td>41</td>\n",
       "      <td>1</td>\n",
       "    </tr>\n",
       "    <tr>\n",
       "      <th>286</th>\n",
       "      <td>5</td>\n",
       "      <td>155</td>\n",
       "      <td>84</td>\n",
       "      <td>44</td>\n",
       "      <td>545</td>\n",
       "      <td>38.7</td>\n",
       "      <td>0.619</td>\n",
       "      <td>34</td>\n",
       "      <td>0</td>\n",
       "    </tr>\n",
       "  </tbody>\n",
       "</table>\n",
       "</div>"
      ],
      "text/plain": [
       "     Number of times pregnant  \\\n",
       "156                         2   \n",
       "646                         1   \n",
       "484                         0   \n",
       "332                         1   \n",
       "286                         5   \n",
       "\n",
       "     Plasma glucose concentration a 2 hours in an oral glucose tolerance test  \\\n",
       "156                                                 99                          \n",
       "646                                                167                          \n",
       "484                                                145                          \n",
       "332                                                180                          \n",
       "286                                                155                          \n",
       "\n",
       "     Diastolic blood pressure (mm Hg)  Triceps skin fold thickness (mm)  \\\n",
       "156                                52                                15   \n",
       "646                                74                                17   \n",
       "484                                 0                                 0   \n",
       "332                                 0                                 0   \n",
       "286                                84                                44   \n",
       "\n",
       "     2-Hour serum insulin (mu U/ml)  \\\n",
       "156                              94   \n",
       "646                             144   \n",
       "484                               0   \n",
       "332                               0   \n",
       "286                             545   \n",
       "\n",
       "     Body mass index (weight in kg/(height in m)^2)  \\\n",
       "156                                            24.6   \n",
       "646                                            23.4   \n",
       "484                                            44.2   \n",
       "332                                            43.3   \n",
       "286                                            38.7   \n",
       "\n",
       "     Diabetes pedigree function  Age (years)  Class variable  \n",
       "156                       0.637           21               0  \n",
       "646                       0.447           33               1  \n",
       "484                       0.630           31               1  \n",
       "332                       0.282           41               1  \n",
       "286                       0.619           34               0  "
      ]
     },
     "execution_count": 183,
     "metadata": {},
     "output_type": "execute_result"
    }
   ],
   "source": [
    "#Osserviamone le dimensioni e un'anteprima di cinque righe;\n",
    "print(df.shape)\n",
    "df.sample(5)"
   ]
  },
  {
   "cell_type": "code",
   "execution_count": 187,
   "id": "ba86cc87-6d2c-4209-9f2d-8441b982cdbd",
   "metadata": {},
   "outputs": [
    {
     "data": {
      "text/plain": [
       "['Number of times pregnant',\n",
       " 'Plasma glucose concentration a 2 hours in an oral glucose tolerance test',\n",
       " 'Diastolic blood pressure (mm Hg)',\n",
       " 'Triceps skin fold thickness (mm)',\n",
       " '2-Hour serum insulin (mu U/ml)',\n",
       " 'Body mass index (weight in kg/(height in m)^2)',\n",
       " 'Diabetes pedigree function',\n",
       " 'Age (years)',\n",
       " 'Class variable']"
      ]
     },
     "execution_count": 187,
     "metadata": {},
     "output_type": "execute_result"
    }
   ],
   "source": [
    "#Prendiamoci un po' di tempo per dare un'occhiata ai metadati delle colonne;\n",
    "df.columns.tolist()"
   ]
  },
  {
   "cell_type": "code",
   "execution_count": 191,
   "id": "3c2297d0-b135-48f6-99ee-9215de3bf6ad",
   "metadata": {},
   "outputs": [
    {
     "data": {
      "text/html": [
       "<div>\n",
       "<style scoped>\n",
       "    .dataframe tbody tr th:only-of-type {\n",
       "        vertical-align: middle;\n",
       "    }\n",
       "\n",
       "    .dataframe tbody tr th {\n",
       "        vertical-align: top;\n",
       "    }\n",
       "\n",
       "    .dataframe thead th {\n",
       "        text-align: right;\n",
       "    }\n",
       "</style>\n",
       "<table border=\"1\" class=\"dataframe\">\n",
       "  <thead>\n",
       "    <tr style=\"text-align: right;\">\n",
       "      <th></th>\n",
       "      <th>Number of times pregnant</th>\n",
       "      <th>Plasma glucose concentration a 2 hours in an oral glucose tolerance test</th>\n",
       "      <th>Diastolic blood pressure (mm Hg)</th>\n",
       "      <th>Triceps skin fold thickness (mm)</th>\n",
       "      <th>2-Hour serum insulin (mu U/ml)</th>\n",
       "      <th>Body mass index (weight in kg/(height in m)^2)</th>\n",
       "      <th>Diabetes pedigree function</th>\n",
       "      <th>Age (years)</th>\n",
       "      <th>Class variable</th>\n",
       "    </tr>\n",
       "  </thead>\n",
       "  <tbody>\n",
       "    <tr>\n",
       "      <th>count</th>\n",
       "      <td>768.000000</td>\n",
       "      <td>768.000000</td>\n",
       "      <td>768.000000</td>\n",
       "      <td>768.000000</td>\n",
       "      <td>768.000000</td>\n",
       "      <td>768.000000</td>\n",
       "      <td>768.000000</td>\n",
       "      <td>768.000000</td>\n",
       "      <td>768.000000</td>\n",
       "    </tr>\n",
       "    <tr>\n",
       "      <th>mean</th>\n",
       "      <td>3.845052</td>\n",
       "      <td>120.894531</td>\n",
       "      <td>69.105469</td>\n",
       "      <td>20.536458</td>\n",
       "      <td>79.799479</td>\n",
       "      <td>31.992578</td>\n",
       "      <td>0.471876</td>\n",
       "      <td>33.240885</td>\n",
       "      <td>0.348958</td>\n",
       "    </tr>\n",
       "    <tr>\n",
       "      <th>std</th>\n",
       "      <td>3.369578</td>\n",
       "      <td>31.972618</td>\n",
       "      <td>19.355807</td>\n",
       "      <td>15.952218</td>\n",
       "      <td>115.244002</td>\n",
       "      <td>7.884160</td>\n",
       "      <td>0.331329</td>\n",
       "      <td>11.760232</td>\n",
       "      <td>0.476951</td>\n",
       "    </tr>\n",
       "    <tr>\n",
       "      <th>min</th>\n",
       "      <td>0.000000</td>\n",
       "      <td>0.000000</td>\n",
       "      <td>0.000000</td>\n",
       "      <td>0.000000</td>\n",
       "      <td>0.000000</td>\n",
       "      <td>0.000000</td>\n",
       "      <td>0.078000</td>\n",
       "      <td>21.000000</td>\n",
       "      <td>0.000000</td>\n",
       "    </tr>\n",
       "    <tr>\n",
       "      <th>25%</th>\n",
       "      <td>1.000000</td>\n",
       "      <td>99.000000</td>\n",
       "      <td>62.000000</td>\n",
       "      <td>0.000000</td>\n",
       "      <td>0.000000</td>\n",
       "      <td>27.300000</td>\n",
       "      <td>0.243750</td>\n",
       "      <td>24.000000</td>\n",
       "      <td>0.000000</td>\n",
       "    </tr>\n",
       "    <tr>\n",
       "      <th>50%</th>\n",
       "      <td>3.000000</td>\n",
       "      <td>117.000000</td>\n",
       "      <td>72.000000</td>\n",
       "      <td>23.000000</td>\n",
       "      <td>30.500000</td>\n",
       "      <td>32.000000</td>\n",
       "      <td>0.372500</td>\n",
       "      <td>29.000000</td>\n",
       "      <td>0.000000</td>\n",
       "    </tr>\n",
       "    <tr>\n",
       "      <th>75%</th>\n",
       "      <td>6.000000</td>\n",
       "      <td>140.250000</td>\n",
       "      <td>80.000000</td>\n",
       "      <td>32.000000</td>\n",
       "      <td>127.250000</td>\n",
       "      <td>36.600000</td>\n",
       "      <td>0.626250</td>\n",
       "      <td>41.000000</td>\n",
       "      <td>1.000000</td>\n",
       "    </tr>\n",
       "    <tr>\n",
       "      <th>max</th>\n",
       "      <td>17.000000</td>\n",
       "      <td>199.000000</td>\n",
       "      <td>122.000000</td>\n",
       "      <td>99.000000</td>\n",
       "      <td>846.000000</td>\n",
       "      <td>67.100000</td>\n",
       "      <td>2.420000</td>\n",
       "      <td>81.000000</td>\n",
       "      <td>1.000000</td>\n",
       "    </tr>\n",
       "  </tbody>\n",
       "</table>\n",
       "</div>"
      ],
      "text/plain": [
       "       Number of times pregnant  \\\n",
       "count                768.000000   \n",
       "mean                   3.845052   \n",
       "std                    3.369578   \n",
       "min                    0.000000   \n",
       "25%                    1.000000   \n",
       "50%                    3.000000   \n",
       "75%                    6.000000   \n",
       "max                   17.000000   \n",
       "\n",
       "       Plasma glucose concentration a 2 hours in an oral glucose tolerance test  \\\n",
       "count                                         768.000000                          \n",
       "mean                                          120.894531                          \n",
       "std                                            31.972618                          \n",
       "min                                             0.000000                          \n",
       "25%                                            99.000000                          \n",
       "50%                                           117.000000                          \n",
       "75%                                           140.250000                          \n",
       "max                                           199.000000                          \n",
       "\n",
       "       Diastolic blood pressure (mm Hg)  Triceps skin fold thickness (mm)  \\\n",
       "count                        768.000000                        768.000000   \n",
       "mean                          69.105469                         20.536458   \n",
       "std                           19.355807                         15.952218   \n",
       "min                            0.000000                          0.000000   \n",
       "25%                           62.000000                          0.000000   \n",
       "50%                           72.000000                         23.000000   \n",
       "75%                           80.000000                         32.000000   \n",
       "max                          122.000000                         99.000000   \n",
       "\n",
       "       2-Hour serum insulin (mu U/ml)  \\\n",
       "count                      768.000000   \n",
       "mean                        79.799479   \n",
       "std                        115.244002   \n",
       "min                          0.000000   \n",
       "25%                          0.000000   \n",
       "50%                         30.500000   \n",
       "75%                        127.250000   \n",
       "max                        846.000000   \n",
       "\n",
       "       Body mass index (weight in kg/(height in m)^2)  \\\n",
       "count                                      768.000000   \n",
       "mean                                        31.992578   \n",
       "std                                          7.884160   \n",
       "min                                          0.000000   \n",
       "25%                                         27.300000   \n",
       "50%                                         32.000000   \n",
       "75%                                         36.600000   \n",
       "max                                         67.100000   \n",
       "\n",
       "       Diabetes pedigree function  Age (years)  Class variable  \n",
       "count                  768.000000   768.000000      768.000000  \n",
       "mean                     0.471876    33.240885        0.348958  \n",
       "std                      0.331329    11.760232        0.476951  \n",
       "min                      0.078000    21.000000        0.000000  \n",
       "25%                      0.243750    24.000000        0.000000  \n",
       "50%                      0.372500    29.000000        0.000000  \n",
       "75%                      0.626250    41.000000        1.000000  \n",
       "max                      2.420000    81.000000        1.000000  "
      ]
     },
     "execution_count": 191,
     "metadata": {},
     "output_type": "execute_result"
    }
   ],
   "source": [
    "#Stampiamo dei descrittori statistici del dataset;\n",
    "df.describe()"
   ]
  },
  {
   "cell_type": "code",
   "execution_count": 198,
   "id": "b5e451c9-6ee3-48a5-9d68-bb566b4f0b10",
   "metadata": {},
   "outputs": [
    {
     "name": "stdout",
     "output_type": "stream",
     "text": [
      "0        >50\n",
      "1      30-40\n",
      "2      30-40\n",
      "3      20-30\n",
      "4      30-40\n",
      "       ...  \n",
      "763      >50\n",
      "764    20-30\n",
      "765    30-40\n",
      "766    40-50\n",
      "767    20-30\n",
      "Name: Age Group, Length: 768, dtype: category\n",
      "Categories (5, object): ['<20' < '20-30' < '30-40' < '40-50' < '>50']\n"
     ]
    }
   ],
   "source": [
    "#Selezioniamo i dati relativi a diverse fasce di età: <20, 20-30, 30-40, 40-50, >50;\n",
    "bins = [0, 20, 30, 40, 50, float('inf')]\n",
    "labels = ['<20', '20-30', '30-40', '40-50', '>50']\n",
    "df['Age Group'] = pd.cut(df['Age (years)'], bins=bins, labels=labels, right=False)\n",
    "print(df['Age Group'])"
   ]
  },
  {
   "cell_type": "code",
   "execution_count": 210,
   "id": "ee72f732-d82f-4021-965e-f70367a3feec",
   "metadata": {},
   "outputs": [
    {
     "name": "stdout",
     "output_type": "stream",
     "text": [
      "Age Group\n",
      "<20            NaN\n",
      "20-30    65.348485\n",
      "30-40    69.666667\n",
      "40-50    73.940678\n",
      ">50      78.370787\n",
      "Name: Diastolic blood pressure (mm Hg), dtype: float64\n"
     ]
    },
    {
     "name": "stderr",
     "output_type": "stream",
     "text": [
      "C:\\Users\\Leo\\AppData\\Local\\Temp\\ipykernel_8500\\1032023175.py:2: FutureWarning: The default of observed=False is deprecated and will be changed to True in a future version of pandas. Pass observed=False to retain current behavior or observed=True to adopt the future default and silence this warning.\n",
      "  media_PD=df.groupby('Age Group')['Diastolic blood pressure (mm Hg)'].mean()\n"
     ]
    }
   ],
   "source": [
    "#Qual è la media della pressione sanguigna diastolica per le diverse fasce di età?\n",
    "media_PD=df.groupby('Age Group')['Diastolic blood pressure (mm Hg)'].mean()\n",
    "print(media_PD)"
   ]
  },
  {
   "cell_type": "code",
   "execution_count": 213,
   "id": "b38b1228-c3b7-48b5-8bf4-663fc5f83dbd",
   "metadata": {},
   "outputs": [
    {
     "name": "stdout",
     "output_type": "stream",
     "text": [
      "Age (years)\n",
      "21    65.936508\n",
      "22    63.722222\n",
      "23    64.315789\n",
      "24    64.956522\n",
      "25    59.666667\n",
      "26    64.181818\n",
      "27    73.500000\n",
      "28    68.314286\n",
      "29    68.241379\n",
      "30    64.857143\n",
      "31    64.375000\n",
      "32    70.062500\n",
      "33    65.647059\n",
      "34    74.000000\n",
      "35    75.600000\n",
      "36    69.125000\n",
      "37    75.947368\n",
      "38    71.125000\n",
      "39    72.666667\n",
      "40    69.230769\n",
      "41    67.590909\n",
      "42    73.388889\n",
      "43    78.461538\n",
      "44    61.750000\n",
      "45    83.066667\n",
      "46    76.000000\n",
      "47    78.333333\n",
      "48    78.400000\n",
      "49    81.400000\n",
      "50    78.250000\n",
      "51    84.500000\n",
      "52    81.500000\n",
      "53    79.000000\n",
      "54    89.333333\n",
      "55    70.250000\n",
      "56    76.333333\n",
      "57    76.800000\n",
      "58    78.285714\n",
      "59    74.000000\n",
      "60    80.000000\n",
      "61    76.000000\n",
      "62    71.500000\n",
      "63    78.000000\n",
      "64    78.000000\n",
      "65    78.666667\n",
      "66    86.000000\n",
      "67    72.666667\n",
      "68    82.000000\n",
      "69    81.000000\n",
      "70    82.000000\n",
      "72     0.000000\n",
      "81    74.000000\n",
      "Name: Diastolic blood pressure (mm Hg), dtype: float64\n"
     ]
    }
   ],
   "source": [
    "#media pressione per ogni singolo anno di età\n",
    "MEDIA_PD_ETA=df.groupby(\"Age (years)\")['Diastolic blood pressure (mm Hg)'].mean()\n",
    "print(MEDIA_PD_ETA)"
   ]
  },
  {
   "cell_type": "code",
   "execution_count": 216,
   "id": "fe8705e9-268c-44eb-b96a-6ebbf571f303",
   "metadata": {},
   "outputs": [],
   "source": [
    "#accesso al dataset insurance.csv\n",
    "import pandas as pd\n",
    "filepath=r\"C:\\Users\\Leo\\Desktop\\EPICODE\\3_PYTHON\\W14D05\\beginner_datasets\\insurance.csv\"\n",
    "df=pd.read_csv(filepath)"
   ]
  },
  {
   "cell_type": "code",
   "execution_count": 227,
   "id": "82785517-4b7b-495a-8c43-4046986ad582",
   "metadata": {},
   "outputs": [
    {
     "name": "stdout",
     "output_type": "stream",
     "text": [
      "Dimensions: (1338, 7)\n",
      "Preview of first five rows:\n",
      "    age     sex     bmi  children smoker     region      charges\n",
      "0   19  female  27.900         0    yes  southwest  16884.92400\n",
      "1   18    male  33.770         1     no  southeast   1725.55230\n",
      "2   28    male  33.000         3     no  southeast   4449.46200\n",
      "3   33    male  22.705         0     no  northwest  21984.47061\n",
      "4   32    male  28.880         0     no  northwest   3866.85520\n",
      "Column names: ['age', 'sex', 'bmi', 'children', 'smoker', 'region', 'charges']\n"
     ]
    }
   ],
   "source": [
    "#Visualizziamone le dimensioni, un'anteprima, e osserviamo i nomi di colonna;\n",
    "dimensions = df.shape\n",
    "preview = df.head()\n",
    "column_names = df.columns.tolist()\n",
    "\n",
    "print(\"Dimensions:\", dimensions)\n",
    "print(\"Preview of first five rows:\\n\", preview)\n",
    "print(\"Column names:\", column_names)\n"
   ]
  },
  {
   "cell_type": "code",
   "execution_count": 230,
   "id": "15318312-4b9b-4429-80a5-cf2506231b9b",
   "metadata": {},
   "outputs": [
    {
     "name": "stdout",
     "output_type": "stream",
     "text": [
      "region\n",
      "northeast    13406.384516\n",
      "northwest    12417.575374\n",
      "southeast    14735.411438\n",
      "southwest    12346.937377\n",
      "Name: charges, dtype: float64\n"
     ]
    }
   ],
   "source": [
    "#Quali sono le medie di charges rispetto a region? Ci sono differenze significative?\n",
    "media_charges_r=df.groupby('region')[\"charges\"].mean()\n",
    "print(media_charges)\n"
   ]
  },
  {
   "cell_type": "code",
   "execution_count": 240,
   "id": "325c8603-7fbe-4b4a-9674-835fbfa832c0",
   "metadata": {},
   "outputs": [
    {
     "name": "stdout",
     "output_type": "stream",
     "text": [
      "smoker\n",
      "no      8434.268298\n",
      "yes    32050.231832\n",
      "Name: charges, dtype: float64\n"
     ]
    }
   ],
   "source": [
    "#E rispetto a smoker? E a sex?\n",
    "media_charges_s=df.groupby('smoker')[\"charges\"].mean()\n",
    "print(media_charges_s)"
   ]
  },
  {
   "cell_type": "code",
   "execution_count": 242,
   "id": "94495445-7286-4c9b-8966-df4db6f39fdf",
   "metadata": {},
   "outputs": [
    {
     "name": "stdout",
     "output_type": "stream",
     "text": [
      "sex\n",
      "female    12569.578844\n",
      "male      13956.751178\n",
      "Name: charges, dtype: float64\n"
     ]
    }
   ],
   "source": [
    "media_charges_sex=df.groupby('sex')[\"charges\"].mean()\n",
    "print(media_charges_sex)"
   ]
  },
  {
   "cell_type": "code",
   "execution_count": 247,
   "id": "18825f19-4356-4516-be74-fef277d007d6",
   "metadata": {},
   "outputs": [
    {
     "data": {
      "text/html": [
       "<div>\n",
       "<style scoped>\n",
       "    .dataframe tbody tr th:only-of-type {\n",
       "        vertical-align: middle;\n",
       "    }\n",
       "\n",
       "    .dataframe tbody tr th {\n",
       "        vertical-align: top;\n",
       "    }\n",
       "\n",
       "    .dataframe thead th {\n",
       "        text-align: right;\n",
       "    }\n",
       "</style>\n",
       "<table border=\"1\" class=\"dataframe\">\n",
       "  <thead>\n",
       "    <tr style=\"text-align: right;\">\n",
       "      <th></th>\n",
       "      <th>age</th>\n",
       "      <th>bmi</th>\n",
       "      <th>children</th>\n",
       "      <th>charges</th>\n",
       "    </tr>\n",
       "  </thead>\n",
       "  <tbody>\n",
       "    <tr>\n",
       "      <th>count</th>\n",
       "      <td>1338.000000</td>\n",
       "      <td>1338.000000</td>\n",
       "      <td>1338.000000</td>\n",
       "      <td>1338.000000</td>\n",
       "    </tr>\n",
       "    <tr>\n",
       "      <th>mean</th>\n",
       "      <td>39.207025</td>\n",
       "      <td>30.663397</td>\n",
       "      <td>1.094918</td>\n",
       "      <td>13270.422265</td>\n",
       "    </tr>\n",
       "    <tr>\n",
       "      <th>std</th>\n",
       "      <td>14.049960</td>\n",
       "      <td>6.098187</td>\n",
       "      <td>1.205493</td>\n",
       "      <td>12110.011237</td>\n",
       "    </tr>\n",
       "    <tr>\n",
       "      <th>min</th>\n",
       "      <td>18.000000</td>\n",
       "      <td>15.960000</td>\n",
       "      <td>0.000000</td>\n",
       "      <td>1121.873900</td>\n",
       "    </tr>\n",
       "    <tr>\n",
       "      <th>25%</th>\n",
       "      <td>27.000000</td>\n",
       "      <td>26.296250</td>\n",
       "      <td>0.000000</td>\n",
       "      <td>4740.287150</td>\n",
       "    </tr>\n",
       "    <tr>\n",
       "      <th>50%</th>\n",
       "      <td>39.000000</td>\n",
       "      <td>30.400000</td>\n",
       "      <td>1.000000</td>\n",
       "      <td>9382.033000</td>\n",
       "    </tr>\n",
       "    <tr>\n",
       "      <th>75%</th>\n",
       "      <td>51.000000</td>\n",
       "      <td>34.693750</td>\n",
       "      <td>2.000000</td>\n",
       "      <td>16639.912515</td>\n",
       "    </tr>\n",
       "    <tr>\n",
       "      <th>max</th>\n",
       "      <td>64.000000</td>\n",
       "      <td>53.130000</td>\n",
       "      <td>5.000000</td>\n",
       "      <td>63770.428010</td>\n",
       "    </tr>\n",
       "  </tbody>\n",
       "</table>\n",
       "</div>"
      ],
      "text/plain": [
       "               age          bmi     children       charges\n",
       "count  1338.000000  1338.000000  1338.000000   1338.000000\n",
       "mean     39.207025    30.663397     1.094918  13270.422265\n",
       "std      14.049960     6.098187     1.205493  12110.011237\n",
       "min      18.000000    15.960000     0.000000   1121.873900\n",
       "25%      27.000000    26.296250     0.000000   4740.287150\n",
       "50%      39.000000    30.400000     1.000000   9382.033000\n",
       "75%      51.000000    34.693750     2.000000  16639.912515\n",
       "max      64.000000    53.130000     5.000000  63770.428010"
      ]
     },
     "execution_count": 247,
     "metadata": {},
     "output_type": "execute_result"
    }
   ],
   "source": [
    "#Quali sono i descrittori statistici di bmi? Quali sono minimo, media e massimo di charges rispetto ai diversi quartili dei valori di bmi?\n",
    "df.describe()"
   ]
  },
  {
   "cell_type": "code",
   "execution_count": 250,
   "id": "224789a9-74d0-47c3-a0ce-13b75c13c3d0",
   "metadata": {},
   "outputs": [
    {
     "name": "stdout",
     "output_type": "stream",
     "text": [
      "Charges by BMI quartiles:\n",
      "                                     min          mean          max\n",
      "bmi                                                               \n",
      "(15.959000000000001, 26.296]  1121.8739  10360.662825  38245.59327\n",
      "(26.296, 30.4]                1131.5066  11407.831468  62592.87309\n",
      "(30.4, 34.694]                1135.9407  14358.173081  60021.39897\n",
      "(34.694, 53.13]               1141.4451  16987.936691  63770.42801\n"
     ]
    },
    {
     "name": "stderr",
     "output_type": "stream",
     "text": [
      "C:\\Users\\Leo\\AppData\\Local\\Temp\\ipykernel_8500\\2125965824.py:2: FutureWarning: The default of observed=False is deprecated and will be changed to True in a future version of pandas. Pass observed=False to retain current behavior or observed=True to adopt the future default and silence this warning.\n",
      "  charges_by_bmi_quartiles = df.groupby(quartiles)['charges'].agg(['min', 'mean', 'max'])\n"
     ]
    }
   ],
   "source": [
    "quartiles = pd.qcut(df['bmi'], 4)\n",
    "charges_by_bmi_quartiles = df.groupby(quartiles)['charges'].agg(['min', 'mean', 'max'])\n",
    "print(\"Charges by BMI quartiles:\\n\", charges_by_bmi_quartiles)"
   ]
  },
  {
   "cell_type": "code",
   "execution_count": 254,
   "id": "2b35ecfb-3d88-4393-9c89-4aad6c3fd541",
   "metadata": {},
   "outputs": [],
   "source": [
    "#carico il dataset pokemon.csv\n",
    "import pandas as pd\n",
    "filepath=filepath=r\"C:\\Users\\Leo\\Desktop\\EPICODE\\3_PYTHON\\W14D05\\beginner_datasets\\pokemon.csv\"\n",
    "df=pd.read_csv(filepath)"
   ]
  },
  {
   "cell_type": "code",
   "execution_count": 266,
   "id": "9993c475-b2dc-483c-a3eb-bf09cf56e657",
   "metadata": {},
   "outputs": [
    {
     "name": "stdout",
     "output_type": "stream",
     "text": [
      "(800, 13)\n"
     ]
    }
   ],
   "source": [
    "#Verifichiamo la dimensione, un'anteprima e osserviamo i nomi di colonna;\n",
    "dimensioni=df.shape\n",
    "print(dimensioni)\n"
   ]
  },
  {
   "cell_type": "code",
   "execution_count": 268,
   "id": "6b74037d-e899-44b7-ad53-9a5eefa47f29",
   "metadata": {},
   "outputs": [
    {
     "name": "stdout",
     "output_type": "stream",
     "text": [
      "   #                   Name Type 1  Type 2  Total  HP  Attack  Defense  \\\n",
      "0  1              Bulbasaur  Grass  Poison    318  45      49       49   \n",
      "1  2                Ivysaur  Grass  Poison    405  60      62       63   \n",
      "2  3               Venusaur  Grass  Poison    525  80      82       83   \n",
      "3  3  VenusaurMega Venusaur  Grass  Poison    625  80     100      123   \n",
      "4  4             Charmander   Fire     NaN    309  39      52       43   \n",
      "\n",
      "   Sp. Atk  Sp. Def  Speed  Generation  Legendary  \n",
      "0       65       65     45           1      False  \n",
      "1       80       80     60           1      False  \n",
      "2      100      100     80           1      False  \n",
      "3      122      120     80           1      False  \n",
      "4       60       50     65           1      False  \n"
     ]
    }
   ],
   "source": [
    "anteprima=df.head()\n",
    "print(anteprima)"
   ]
  },
  {
   "cell_type": "code",
   "execution_count": 270,
   "id": "05e58ebd-b2fd-4403-bf10-d369545caa8a",
   "metadata": {},
   "outputs": [
    {
     "name": "stdout",
     "output_type": "stream",
     "text": [
      "Index(['#', 'Name', 'Type 1', 'Type 2', 'Total', 'HP', 'Attack', 'Defense',\n",
      "       'Sp. Atk', 'Sp. Def', 'Speed', 'Generation', 'Legendary'],\n",
      "      dtype='object')\n"
     ]
    }
   ],
   "source": [
    "colonne=df.columns\n",
    "print(colonne)"
   ]
  },
  {
   "cell_type": "code",
   "execution_count": 277,
   "id": "e44e6142-ec9b-469d-8fc4-9f14d0b597be",
   "metadata": {},
   "outputs": [],
   "source": [
    "#È verosimile che la prima colonna dovrebbe essere un indice? Confrontiamolo con l'indice messo automaticamente da Pandas: combaciano?\n",
    "prima_colonna =df['#']\n",
    "indice_automatico = df.index"
   ]
  },
  {
   "cell_type": "code",
   "execution_count": 280,
   "id": "c003c854-7dee-4384-bfaa-bffd470322bf",
   "metadata": {},
   "outputs": [
    {
     "name": "stdout",
     "output_type": "stream",
     "text": [
      "Combaciano: False\n"
     ]
    }
   ],
   "source": [
    "combaciano = prima_colonna.equals(indice_automatico)\n",
    "print(\"Combaciano:\", combaciano)"
   ]
  },
  {
   "cell_type": "code",
   "execution_count": 285,
   "id": "26257fcd-9e65-49f5-a6c5-b5ad5f85c2e6",
   "metadata": {},
   "outputs": [],
   "source": [
    "#Se no, settare la prima colonna come indice.\n",
    "if not combaciano:\n",
    "    df.set_index('#', inplace=True)"
   ]
  },
  {
   "cell_type": "code",
   "execution_count": 299,
   "id": "d7eb0d2e-aad3-4a36-a322-a7a9838edffe",
   "metadata": {},
   "outputs": [
    {
     "name": "stdout",
     "output_type": "stream",
     "text": [
      "                    Name    Type 1    Type 2  Total   HP  Attack  Defense  \\\n",
      "#                                                                           \n",
      "144             Articuno       Ice    Flying    580   90      85      100   \n",
      "145               Zapdos  Electric    Flying    580   90      90       85   \n",
      "146              Moltres      Fire    Flying    580   90     100       90   \n",
      "150               Mewtwo   Psychic       NaN    680  106     110       90   \n",
      "150  MewtwoMega Mewtwo X   Psychic  Fighting    780  106     190      100   \n",
      "..                   ...       ...       ...    ...  ...     ...      ...   \n",
      "719              Diancie      Rock     Fairy    600   50     100      150   \n",
      "719  DiancieMega Diancie      Rock     Fairy    700   50     160      110   \n",
      "720  HoopaHoopa Confined   Psychic     Ghost    600   80     110       60   \n",
      "720   HoopaHoopa Unbound   Psychic      Dark    680   80     160       60   \n",
      "721            Volcanion      Fire     Water    600   80     110      120   \n",
      "\n",
      "     Sp. Atk  Sp. Def  Speed  Generation  Legendary  \n",
      "#                                                    \n",
      "144       95      125     85           1       True  \n",
      "145      125       90    100           1       True  \n",
      "146      125       85     90           1       True  \n",
      "150      154       90    130           1       True  \n",
      "150      154      100    130           1       True  \n",
      "..       ...      ...    ...         ...        ...  \n",
      "719      100      150     50           6       True  \n",
      "719      160      110    110           6       True  \n",
      "720      150      130     70           6       True  \n",
      "720      170      130     80           6       True  \n",
      "721      130       90     70           6       True  \n",
      "\n",
      "[65 rows x 12 columns]\n"
     ]
    }
   ],
   "source": [
    "#Quali sono i Pokémon leggendari?\n",
    "pokemon_leggendari = df[df['Legendary'] == True]\n",
    "print(pokemon_leggendari)"
   ]
  },
  {
   "cell_type": "code",
   "execution_count": 302,
   "id": "85a6a1f1-5f61-4c9f-b3ad-49071ac1069f",
   "metadata": {},
   "outputs": [
    {
     "name": "stdout",
     "output_type": "stream",
     "text": [
      "                  Name Type 1    Type 2  Total   HP  Attack  Defense  Sp. Atk  \\\n",
      "#                                                                               \n",
      "492  ShayminLand Forme  Grass       NaN    600  100     100      100      100   \n",
      "492   ShayminSky Forme  Grass    Flying    600  100     103       75      120   \n",
      "640           Virizion  Grass  Fighting    580   91      90       72       90   \n",
      "\n",
      "     Sp. Def  Speed  Generation  Legendary  \n",
      "#                                           \n",
      "492      100    100           4       True  \n",
      "492       75    127           4       True  \n",
      "640      129    108           5       True  \n"
     ]
    }
   ],
   "source": [
    "#E quali sono i leggendari di tipo 1 Grass?\n",
    "leggendati_grass=df[(df[\"Legendary\"]==True)&(df[\"Type 1\"]==\"Grass\")]\n",
    "print(leggendati_grass)"
   ]
  },
  {
   "cell_type": "code",
   "execution_count": 311,
   "id": "f3a1ed36-d418-4880-af90-c5b2c2e2187e",
   "metadata": {},
   "outputs": [
    {
     "name": "stdout",
     "output_type": "stream",
     "text": [
      "          Name Type 1  Type 2  Total   HP  Attack  Defense  Sp. Atk  Sp. Def  \\\n",
      "#                                                                              \n",
      "144   Articuno    Ice  Flying    580   90      85      100       95      125   \n",
      "146    Moltres   Fire  Flying    580   90     100       90      125       85   \n",
      "244      Entei   Fire     NaN    580  115     115       85       90       75   \n",
      "250      Ho-oh   Fire  Flying    680  106     130       90      110      154   \n",
      "378     Regice    Ice     NaN    580   80      50      100      100      200   \n",
      "485    Heatran   Fire   Steel    600   91      90      106      130      106   \n",
      "721  Volcanion   Fire   Water    600   80     110      120      130       90   \n",
      "\n",
      "     Speed  Generation  Legendary  \n",
      "#                                  \n",
      "144     85           1       True  \n",
      "146     90           1       True  \n",
      "244    100           2       True  \n",
      "250     90           2       True  \n",
      "378     50           3       True  \n",
      "485     77           4       True  \n",
      "721     70           6       True  \n"
     ]
    }
   ],
   "source": [
    "#E leggendari di tipo 1 Ice o Fire?\n",
    "leggendati_condizioni=df[(df[\"Legendary\"]==True)&(df[\"Type 1\"].isin([\"Ice\",\"Fire\"]))]\n",
    "print(leggendati_condizioni)"
   ]
  },
  {
   "cell_type": "code",
   "execution_count": 314,
   "id": "44b77224-e384-4e04-b9ee-d90a8859690a",
   "metadata": {},
   "outputs": [],
   "source": [
    "#Ordiniamo il dataset per la colonna Name;\n",
    "ordine_name=df.sort_values(by='Name')"
   ]
  },
  {
   "cell_type": "code",
   "execution_count": 317,
   "id": "80380aff-5b7f-49ce-a9c4-87bba062b9eb",
   "metadata": {},
   "outputs": [],
   "source": [
    "#Trasformiamo Name nell'indice;\n",
    "df.set_index('Name', inplace=True)"
   ]
  },
  {
   "cell_type": "code",
   "execution_count": 331,
   "id": "33ecffc9-3d60-4f3d-8191-81ef3b589d09",
   "metadata": {},
   "outputs": [
    {
     "name": "stdout",
     "output_type": "stream",
     "text": [
      "           Name    Type 1  Type 2  Total  HP  Attack  Defense  Sp. Atk  \\\n",
      "#                                                                        \n",
      "69   Bellsprout     Grass  Poison    300  50      75       35       70   \n",
      "4    Charmander      Fire     NaN    309  39      52       43       60   \n",
      "5    Charmeleon      Fire     NaN    405  58      64       58       80   \n",
      "91     Cloyster     Water     Ice    525  50      95      180       85   \n",
      "50      Diglett    Ground     NaN    265  10      55       25       35   \n",
      "84        Doduo    Normal  Flying    310  35      85       45       35   \n",
      "147     Dratini    Dragon     NaN    300  41      64       45       50   \n",
      "51      Dugtrio    Ground     NaN    405  35      80       50       50   \n",
      "133       Eevee    Normal     NaN    325  55      55       50       45   \n",
      "23        Ekans    Poison     NaN    288  35      60       44       40   \n",
      "83   Farfetch'd    Normal  Flying    352  52      65       55       58   \n",
      "74      Geodude      Rock  Ground    300  40      80      100       30   \n",
      "118     Goldeen     Water     NaN    320  45      67       60       35   \n",
      "75     Graveler      Rock  Ground    390  55      95      115       45   \n",
      "58    Growlithe      Fire     NaN    350  55      70       45       70   \n",
      "107  Hitmonchan  Fighting     NaN    455  50     105       79       35   \n",
      "106   Hitmonlee  Fighting     NaN    455  50     120       53       35   \n",
      "140      Kabuto      Rock   Water    355  30      80       90       55   \n",
      "99      Kingler     Water     NaN    475  55     130      115       50   \n",
      "109     Koffing    Poison     NaN    340  40      65       95       60   \n",
      "98       Krabby     Water     NaN    325  30     105       90       25   \n",
      "82     Magneton  Electric   Steel    465  50      60       95      120   \n",
      "56       Mankey  Fighting     NaN    305  40      80       35       35   \n",
      "32     Nidoran♂    Poison     NaN    273  46      57       40       40   \n",
      "46        Paras       Bug   Grass    285  35      70       55       45   \n",
      "25      Pikachu  Electric     NaN    320  35      55       40       50   \n",
      "77       Ponyta      Fire     NaN    410  50      85       55       65   \n",
      "54      Psyduck     Water     NaN    320  50      52       48       65   \n",
      "20     Raticate    Normal     NaN    413  55      81       60       50   \n",
      "19      Rattata    Normal     NaN    253  30      56       35       25   \n",
      "27    Sandshrew    Ground     NaN    300  50      75       85       20   \n",
      "117      Seadra     Water     NaN    440  55      65       95       95   \n",
      "90     Shellder     Water     NaN    305  30      65      100       45   \n",
      "21      Spearow    Normal  Flying    262  40      60       30       31   \n",
      "8     Wartortle     Water     NaN    405  59      63       80       65   \n",
      "\n",
      "     Sp. Def  Speed  Generation  Legendary  \n",
      "#                                           \n",
      "69        30     40           1      False  \n",
      "4         50     65           1      False  \n",
      "5         65     80           1      False  \n",
      "91        45     70           1      False  \n",
      "50        45     95           1      False  \n",
      "84        35     75           1      False  \n",
      "147       50     50           1      False  \n",
      "51        70    120           1      False  \n",
      "133       65     55           1      False  \n",
      "23        54     55           1      False  \n",
      "83        62     60           1      False  \n",
      "74        30     20           1      False  \n",
      "118       50     63           1      False  \n",
      "75        45     35           1      False  \n",
      "58        50     60           1      False  \n",
      "107      110     76           1      False  \n",
      "106      110     87           1      False  \n",
      "140       45     55           1      False  \n",
      "99        50     75           1      False  \n",
      "109       45     35           1      False  \n",
      "98        25     50           1      False  \n",
      "82        70     70           1      False  \n",
      "56        45     70           1      False  \n",
      "32        40     50           1      False  \n",
      "46        55     25           1      False  \n",
      "25        50     90           1      False  \n",
      "77        65     90           1      False  \n",
      "54        50     55           1      False  \n",
      "20        70     97           1      False  \n",
      "19        35     72           1      False  \n",
      "27        30     40           1      False  \n",
      "117       45     85           1      False  \n",
      "90        25     40           1      False  \n",
      "21        31     70           1      False  \n",
      "8         80     58           1      False  \n"
     ]
    }
   ],
   "source": [
    "#Quali sono i Pokémon della prima generazione con attacco > 50 e HP < 60?\n",
    "prima_gen_attacco_hp = ordine_name[(ordine_name['Generation'] == 1)&(ordine_name['Attack'] > 50)&(ordine_name['HP'] < 60)]\n",
    "print(prima_gen_attacco_hp)"
   ]
  },
  {
   "cell_type": "code",
   "execution_count": null,
   "id": "2a4f4616-5dff-491d-99dc-9b8b3455c867",
   "metadata": {},
   "outputs": [],
   "source": []
  }
 ],
 "metadata": {
  "kernelspec": {
   "display_name": "Python 3 (ipykernel)",
   "language": "python",
   "name": "python3"
  },
  "language_info": {
   "codemirror_mode": {
    "name": "ipython",
    "version": 3
   },
   "file_extension": ".py",
   "mimetype": "text/x-python",
   "name": "python",
   "nbconvert_exporter": "python",
   "pygments_lexer": "ipython3",
   "version": "3.11.7"
  }
 },
 "nbformat": 4,
 "nbformat_minor": 5
}
