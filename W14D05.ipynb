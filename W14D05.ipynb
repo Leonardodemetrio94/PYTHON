{
 "cells": [
  {
   "cell_type": "code",
   "execution_count": 7,
   "id": "4487fbe9-74f0-4c68-872f-1dc8e13a61e0",
   "metadata": {},
   "outputs": [
    {
     "name": "stdout",
     "output_type": "stream",
     "text": [
      "Requirement already satisfied: PyMySQL in c:\\users\\leo\\anaconda3\\lib\\site-packages (1.1.1)\n",
      "Note: you may need to restart the kernel to use updated packages.\n"
     ]
    }
   ],
   "source": [
    "pip install PyMySQL"
   ]
  },
  {
   "cell_type": "code",
   "execution_count": 9,
   "id": "aba45b6b-7893-428d-8bd9-840f37d19110",
   "metadata": {},
   "outputs": [
    {
     "name": "stdout",
     "output_type": "stream",
     "text": [
      "Requirement already satisfied: SQLAlchemy in c:\\users\\leo\\anaconda3\\lib\\site-packages (2.0.25)\n",
      "Requirement already satisfied: typing-extensions>=4.6.0 in c:\\users\\leo\\anaconda3\\lib\\site-packages (from SQLAlchemy) (4.9.0)\n",
      "Requirement already satisfied: greenlet!=0.4.17 in c:\\users\\leo\\anaconda3\\lib\\site-packages (from SQLAlchemy) (3.0.1)\n",
      "Note: you may need to restart the kernel to use updated packages.\n"
     ]
    }
   ],
   "source": [
    "pip install SQLAlchemy"
   ]
  },
  {
   "cell_type": "code",
   "execution_count": 11,
   "id": "88fc6e96-c18b-4efb-8717-a6bbe911f9dd",
   "metadata": {},
   "outputs": [
    {
     "name": "stdout",
     "output_type": "stream",
     "text": [
      "Requirement already satisfied: python_dotenv in c:\\users\\leo\\anaconda3\\lib\\site-packages (0.21.0)Note: you may need to restart the kernel to use updated packages.\n",
      "\n"
     ]
    }
   ],
   "source": [
    "pip install python_dotenv"
   ]
  },
  {
   "cell_type": "code",
   "execution_count": 13,
   "id": "0c4a8ade-b2db-46cc-a5cd-1ddf70cf2429",
   "metadata": {},
   "outputs": [],
   "source": [
    "import dotenv\n",
    "import os\n",
    "from sqlalchemy import create_engine\n",
    "import pandas as pd\n",
    "\n",
    "dotenv.load_dotenv(override=True)\n",
    "dotenv_path=\".env\"\n",
    "\n",
    "username = os.getenv(\"username\")\n",
    "password = os.getenv(\"password\")\n",
    "host = os.getenv(\"host\")\n",
    "dbname = os.getenv(\"dbname\")\n",
    "\n",
    "\n",
    "conn_string = f\"mysql+pymysql://{username}:{password}@{host}/{dbname}\"\n",
    "db_engine = create_engine(conn_string)\n",
    "\n",
    "query = \"SELECT * FROM dimproduct\"\n",
    "df = pd.read_sql(sql=query, con=db_engine)"
   ]
  },
  {
   "cell_type": "code",
   "execution_count": 15,
   "id": "fca462b3-d301-40de-b393-6c5d2194982f",
   "metadata": {},
   "outputs": [
    {
     "data": {
      "text/html": [
       "<div>\n",
       "<style scoped>\n",
       "    .dataframe tbody tr th:only-of-type {\n",
       "        vertical-align: middle;\n",
       "    }\n",
       "\n",
       "    .dataframe tbody tr th {\n",
       "        vertical-align: top;\n",
       "    }\n",
       "\n",
       "    .dataframe thead th {\n",
       "        text-align: right;\n",
       "    }\n",
       "</style>\n",
       "<table border=\"1\" class=\"dataframe\">\n",
       "  <thead>\n",
       "    <tr style=\"text-align: right;\">\n",
       "      <th></th>\n",
       "      <th>ProductKey</th>\n",
       "      <th>ProductAlternateKey</th>\n",
       "      <th>ProductSubcategoryKey</th>\n",
       "      <th>WeightUnitMeasureCode</th>\n",
       "      <th>SizeUnitMeasureCode</th>\n",
       "      <th>EnglishProductName</th>\n",
       "      <th>SpanishProductName</th>\n",
       "      <th>FrenchProductName</th>\n",
       "      <th>StandardCost</th>\n",
       "      <th>FinishedGoodsFlag</th>\n",
       "      <th>...</th>\n",
       "      <th>ChineseDescription</th>\n",
       "      <th>ArabicDescription</th>\n",
       "      <th>HebrewDescription</th>\n",
       "      <th>ThaiDescription</th>\n",
       "      <th>GermanDescription</th>\n",
       "      <th>JapaneseDescription</th>\n",
       "      <th>TurkishDescription</th>\n",
       "      <th>StartDate</th>\n",
       "      <th>EndDate</th>\n",
       "      <th>Status</th>\n",
       "    </tr>\n",
       "  </thead>\n",
       "  <tbody>\n",
       "    <tr>\n",
       "      <th>0</th>\n",
       "      <td>1</td>\n",
       "      <td>AR-5381</td>\n",
       "      <td>NaN</td>\n",
       "      <td>None</td>\n",
       "      <td>None</td>\n",
       "      <td>Adjustable Race</td>\n",
       "      <td></td>\n",
       "      <td></td>\n",
       "      <td>NaN</td>\n",
       "      <td>0</td>\n",
       "      <td>...</td>\n",
       "      <td>None</td>\n",
       "      <td>None</td>\n",
       "      <td>None</td>\n",
       "      <td>None</td>\n",
       "      <td>None</td>\n",
       "      <td>None</td>\n",
       "      <td>None</td>\n",
       "      <td>2003-07-01</td>\n",
       "      <td>NaT</td>\n",
       "      <td>Current</td>\n",
       "    </tr>\n",
       "    <tr>\n",
       "      <th>1</th>\n",
       "      <td>2</td>\n",
       "      <td>BA-8327</td>\n",
       "      <td>NaN</td>\n",
       "      <td>None</td>\n",
       "      <td>None</td>\n",
       "      <td>Bearing Ball</td>\n",
       "      <td></td>\n",
       "      <td></td>\n",
       "      <td>NaN</td>\n",
       "      <td>0</td>\n",
       "      <td>...</td>\n",
       "      <td>None</td>\n",
       "      <td>None</td>\n",
       "      <td>None</td>\n",
       "      <td>None</td>\n",
       "      <td>None</td>\n",
       "      <td>None</td>\n",
       "      <td>None</td>\n",
       "      <td>2003-07-01</td>\n",
       "      <td>NaT</td>\n",
       "      <td>Current</td>\n",
       "    </tr>\n",
       "    <tr>\n",
       "      <th>2</th>\n",
       "      <td>3</td>\n",
       "      <td>BE-2349</td>\n",
       "      <td>NaN</td>\n",
       "      <td>None</td>\n",
       "      <td>None</td>\n",
       "      <td>BB Ball Bearing</td>\n",
       "      <td></td>\n",
       "      <td></td>\n",
       "      <td>NaN</td>\n",
       "      <td>0</td>\n",
       "      <td>...</td>\n",
       "      <td>None</td>\n",
       "      <td>None</td>\n",
       "      <td>None</td>\n",
       "      <td>None</td>\n",
       "      <td>None</td>\n",
       "      <td>None</td>\n",
       "      <td>None</td>\n",
       "      <td>2003-07-01</td>\n",
       "      <td>NaT</td>\n",
       "      <td>Current</td>\n",
       "    </tr>\n",
       "    <tr>\n",
       "      <th>3</th>\n",
       "      <td>4</td>\n",
       "      <td>BE-2908</td>\n",
       "      <td>NaN</td>\n",
       "      <td>None</td>\n",
       "      <td>None</td>\n",
       "      <td>Headset Ball Bearings</td>\n",
       "      <td></td>\n",
       "      <td></td>\n",
       "      <td>NaN</td>\n",
       "      <td>0</td>\n",
       "      <td>...</td>\n",
       "      <td>None</td>\n",
       "      <td>None</td>\n",
       "      <td>None</td>\n",
       "      <td>None</td>\n",
       "      <td>None</td>\n",
       "      <td>None</td>\n",
       "      <td>None</td>\n",
       "      <td>2003-07-01</td>\n",
       "      <td>NaT</td>\n",
       "      <td>Current</td>\n",
       "    </tr>\n",
       "    <tr>\n",
       "      <th>4</th>\n",
       "      <td>5</td>\n",
       "      <td>BL-2036</td>\n",
       "      <td>NaN</td>\n",
       "      <td>None</td>\n",
       "      <td>None</td>\n",
       "      <td>Blade</td>\n",
       "      <td></td>\n",
       "      <td></td>\n",
       "      <td>NaN</td>\n",
       "      <td>0</td>\n",
       "      <td>...</td>\n",
       "      <td>None</td>\n",
       "      <td>None</td>\n",
       "      <td>None</td>\n",
       "      <td>None</td>\n",
       "      <td>None</td>\n",
       "      <td>None</td>\n",
       "      <td>None</td>\n",
       "      <td>2003-07-01</td>\n",
       "      <td>NaT</td>\n",
       "      <td>Current</td>\n",
       "    </tr>\n",
       "    <tr>\n",
       "      <th>...</th>\n",
       "      <td>...</td>\n",
       "      <td>...</td>\n",
       "      <td>...</td>\n",
       "      <td>...</td>\n",
       "      <td>...</td>\n",
       "      <td>...</td>\n",
       "      <td>...</td>\n",
       "      <td>...</td>\n",
       "      <td>...</td>\n",
       "      <td>...</td>\n",
       "      <td>...</td>\n",
       "      <td>...</td>\n",
       "      <td>...</td>\n",
       "      <td>...</td>\n",
       "      <td>...</td>\n",
       "      <td>...</td>\n",
       "      <td>...</td>\n",
       "      <td>...</td>\n",
       "      <td>...</td>\n",
       "      <td>...</td>\n",
       "      <td>...</td>\n",
       "    </tr>\n",
       "    <tr>\n",
       "      <th>601</th>\n",
       "      <td>602</td>\n",
       "      <td>BB-8107</td>\n",
       "      <td>5.0</td>\n",
       "      <td>G</td>\n",
       "      <td>None</td>\n",
       "      <td>ML Bottom Bracket</td>\n",
       "      <td>Eje de pedalier GM</td>\n",
       "      <td>Axe de pédalier ML</td>\n",
       "      <td>44.95</td>\n",
       "      <td>1</td>\n",
       "      <td>...</td>\n",
       "      <td>铝合金车圈；大直径脚蹬轴。</td>\n",
       "      <td>فناجين من سبيكة الألومنيوم؛ ذات محور دوران كبي...</td>\n",
       "      <td>כיסויים מסגסוגת אלומיניום; ציר רחב-קוטר.</td>\n",
       "      <td>ดุมอลูมิเนียมอัลลอยด์ แกนเพลาขนาดใหญ่</td>\n",
       "      <td>Außenringe aus Aluminiumlegierung; Radachse mi...</td>\n",
       "      <td>アルミニウム合金カップ、大径スピンドル。</td>\n",
       "      <td>Alüminyum alaşımı orta göbekler; geniş çaplı mil.</td>\n",
       "      <td>2013-07-01</td>\n",
       "      <td>NaT</td>\n",
       "      <td>Current</td>\n",
       "    </tr>\n",
       "    <tr>\n",
       "      <th>602</th>\n",
       "      <td>603</td>\n",
       "      <td>BB-9108</td>\n",
       "      <td>5.0</td>\n",
       "      <td>G</td>\n",
       "      <td>None</td>\n",
       "      <td>HL Bottom Bracket</td>\n",
       "      <td>Eje de pedalier GA</td>\n",
       "      <td>Axe de pédalier HL</td>\n",
       "      <td>53.94</td>\n",
       "      <td>1</td>\n",
       "      <td>...</td>\n",
       "      <td>铝合金车圈和空心轴。</td>\n",
       "      <td>فناجين من سبيكة الألومنيوم ومحور أجوف.</td>\n",
       "      <td>כיסויים מסגסוגת אלומיניום וציר חלול.</td>\n",
       "      <td>ดุมอลูมิเนียมอัลลอยด์และเพลากลวง</td>\n",
       "      <td>Außenringe aus Aluminiumlegierung und hohle Ac...</td>\n",
       "      <td>アルミニウム合金カップとホロー アクスル。</td>\n",
       "      <td>Alüminyum alaşımı orta göbekler ve içi boş aks.</td>\n",
       "      <td>2013-07-01</td>\n",
       "      <td>NaT</td>\n",
       "      <td>Current</td>\n",
       "    </tr>\n",
       "    <tr>\n",
       "      <th>603</th>\n",
       "      <td>604</td>\n",
       "      <td>BK-R19B-44</td>\n",
       "      <td>2.0</td>\n",
       "      <td>LB</td>\n",
       "      <td>CM</td>\n",
       "      <td>Road-750 Black, 44</td>\n",
       "      <td>Carretera: 750, negra, 44</td>\n",
       "      <td>Vélo de route 750 noir, 44</td>\n",
       "      <td>343.65</td>\n",
       "      <td>1</td>\n",
       "      <td>...</td>\n",
       "      <td>入门级成人自行车；确保越野旅行或公路骑乘的舒适。快拆式车毂和轮缘。</td>\n",
       "      <td>إنها دراجة مناسبة للمبتدئين من البالغين؛ فهي ت...</td>\n",
       "      <td>אופני מבוגרים למתחילים; מציעים רכיבה נוחה \"מחו...</td>\n",
       "      <td>จักรยานระดับเริ่มต้นสำหรับผู้ใหญ่ ให้ความสบายใ...</td>\n",
       "      <td>Ein Erwachsenenrad für Einsteiger; bietet Komf...</td>\n",
       "      <td>エントリー レベルに対応する、クロスカントリーにも街への買い物にも快適な、大人の自転車。ハブ...</td>\n",
       "      <td>\"Başlangıç seviyesinde yetişkin bisikleti, kır...</td>\n",
       "      <td>2013-07-01</td>\n",
       "      <td>NaT</td>\n",
       "      <td>Current</td>\n",
       "    </tr>\n",
       "    <tr>\n",
       "      <th>604</th>\n",
       "      <td>605</td>\n",
       "      <td>BK-R19B-48</td>\n",
       "      <td>2.0</td>\n",
       "      <td>LB</td>\n",
       "      <td>CM</td>\n",
       "      <td>Road-750 Black, 48</td>\n",
       "      <td>Carretera: 750, negra, 48</td>\n",
       "      <td>Vélo de route 750 noir, 48</td>\n",
       "      <td>343.65</td>\n",
       "      <td>1</td>\n",
       "      <td>...</td>\n",
       "      <td>入门级成人自行车；确保越野旅行或公路骑乘的舒适。快拆式车毂和轮缘。</td>\n",
       "      <td>إنها دراجة مناسبة للمبتدئين من البالغين؛ فهي ت...</td>\n",
       "      <td>אופני מבוגרים למתחילים; מציעים רכיבה נוחה \"מחו...</td>\n",
       "      <td>จักรยานระดับเริ่มต้นสำหรับผู้ใหญ่ ให้ความสบายใ...</td>\n",
       "      <td>Ein Erwachsenenrad für Einsteiger; bietet Komf...</td>\n",
       "      <td>エントリー レベルに対応する、クロスカントリーにも街への買い物にも快適な、大人の自転車。ハブ...</td>\n",
       "      <td>\"Başlangıç seviyesinde yetişkin bisikleti, kır...</td>\n",
       "      <td>2013-07-01</td>\n",
       "      <td>NaT</td>\n",
       "      <td>Current</td>\n",
       "    </tr>\n",
       "    <tr>\n",
       "      <th>605</th>\n",
       "      <td>606</td>\n",
       "      <td>BK-R19B-52</td>\n",
       "      <td>2.0</td>\n",
       "      <td>LB</td>\n",
       "      <td>CM</td>\n",
       "      <td>Road-750 Black, 52</td>\n",
       "      <td>Carretera: 750, negra, 52</td>\n",
       "      <td>Vélo de route 750 noir, 52</td>\n",
       "      <td>343.65</td>\n",
       "      <td>1</td>\n",
       "      <td>...</td>\n",
       "      <td>入门级成人自行车；确保越野旅行或公路骑乘的舒适。快拆式车毂和轮缘。</td>\n",
       "      <td>إنها دراجة مناسبة للمبتدئين من البالغين؛ فهي ت...</td>\n",
       "      <td>אופני מבוגרים למתחילים; מציעים רכיבה נוחה \"מחו...</td>\n",
       "      <td>จักรยานระดับเริ่มต้นสำหรับผู้ใหญ่ ให้ความสบายใ...</td>\n",
       "      <td>Ein Erwachsenenrad für Einsteiger; bietet Komf...</td>\n",
       "      <td>エントリー レベルに対応する、クロスカントリーにも街への買い物にも快適な、大人の自転車。ハブ...</td>\n",
       "      <td>\"Başlangıç seviyesinde yetişkin bisikleti, kır...</td>\n",
       "      <td>2013-07-01</td>\n",
       "      <td>NaT</td>\n",
       "      <td>Current</td>\n",
       "    </tr>\n",
       "  </tbody>\n",
       "</table>\n",
       "<p>606 rows × 36 columns</p>\n",
       "</div>"
      ],
      "text/plain": [
       "     ProductKey ProductAlternateKey  ProductSubcategoryKey  \\\n",
       "0             1             AR-5381                    NaN   \n",
       "1             2             BA-8327                    NaN   \n",
       "2             3             BE-2349                    NaN   \n",
       "3             4             BE-2908                    NaN   \n",
       "4             5             BL-2036                    NaN   \n",
       "..          ...                 ...                    ...   \n",
       "601         602             BB-8107                    5.0   \n",
       "602         603             BB-9108                    5.0   \n",
       "603         604          BK-R19B-44                    2.0   \n",
       "604         605          BK-R19B-48                    2.0   \n",
       "605         606          BK-R19B-52                    2.0   \n",
       "\n",
       "    WeightUnitMeasureCode SizeUnitMeasureCode     EnglishProductName  \\\n",
       "0                    None                None        Adjustable Race   \n",
       "1                    None                None           Bearing Ball   \n",
       "2                    None                None        BB Ball Bearing   \n",
       "3                    None                None  Headset Ball Bearings   \n",
       "4                    None                None                  Blade   \n",
       "..                    ...                 ...                    ...   \n",
       "601                     G                None      ML Bottom Bracket   \n",
       "602                     G                None      HL Bottom Bracket   \n",
       "603                    LB                  CM     Road-750 Black, 44   \n",
       "604                    LB                  CM     Road-750 Black, 48   \n",
       "605                    LB                  CM     Road-750 Black, 52   \n",
       "\n",
       "            SpanishProductName           FrenchProductName  StandardCost  \\\n",
       "0                                                                    NaN   \n",
       "1                                                                    NaN   \n",
       "2                                                                    NaN   \n",
       "3                                                                    NaN   \n",
       "4                                                                    NaN   \n",
       "..                         ...                         ...           ...   \n",
       "601         Eje de pedalier GM          Axe de pédalier ML         44.95   \n",
       "602         Eje de pedalier GA          Axe de pédalier HL         53.94   \n",
       "603  Carretera: 750, negra, 44  Vélo de route 750 noir, 44        343.65   \n",
       "604  Carretera: 750, negra, 48  Vélo de route 750 noir, 48        343.65   \n",
       "605  Carretera: 750, negra, 52  Vélo de route 750 noir, 52        343.65   \n",
       "\n",
       "     FinishedGoodsFlag  ...                 ChineseDescription  \\\n",
       "0                    0  ...                               None   \n",
       "1                    0  ...                               None   \n",
       "2                    0  ...                               None   \n",
       "3                    0  ...                               None   \n",
       "4                    0  ...                               None   \n",
       "..                 ...  ...                                ...   \n",
       "601                  1  ...                      铝合金车圈；大直径脚蹬轴。   \n",
       "602                  1  ...                         铝合金车圈和空心轴。   \n",
       "603                  1  ...  入门级成人自行车；确保越野旅行或公路骑乘的舒适。快拆式车毂和轮缘。   \n",
       "604                  1  ...  入门级成人自行车；确保越野旅行或公路骑乘的舒适。快拆式车毂和轮缘。   \n",
       "605                  1  ...  入门级成人自行车；确保越野旅行或公路骑乘的舒适。快拆式车毂和轮缘。   \n",
       "\n",
       "                                     ArabicDescription  \\\n",
       "0                                                 None   \n",
       "1                                                 None   \n",
       "2                                                 None   \n",
       "3                                                 None   \n",
       "4                                                 None   \n",
       "..                                                 ...   \n",
       "601  فناجين من سبيكة الألومنيوم؛ ذات محور دوران كبي...   \n",
       "602             فناجين من سبيكة الألومنيوم ومحور أجوف.   \n",
       "603  إنها دراجة مناسبة للمبتدئين من البالغين؛ فهي ت...   \n",
       "604  إنها دراجة مناسبة للمبتدئين من البالغين؛ فهي ت...   \n",
       "605  إنها دراجة مناسبة للمبتدئين من البالغين؛ فهي ت...   \n",
       "\n",
       "                                     HebrewDescription  \\\n",
       "0                                                 None   \n",
       "1                                                 None   \n",
       "2                                                 None   \n",
       "3                                                 None   \n",
       "4                                                 None   \n",
       "..                                                 ...   \n",
       "601           כיסויים מסגסוגת אלומיניום; ציר רחב-קוטר.   \n",
       "602               כיסויים מסגסוגת אלומיניום וציר חלול.   \n",
       "603  אופני מבוגרים למתחילים; מציעים רכיבה נוחה \"מחו...   \n",
       "604  אופני מבוגרים למתחילים; מציעים רכיבה נוחה \"מחו...   \n",
       "605  אופני מבוגרים למתחילים; מציעים רכיבה נוחה \"מחו...   \n",
       "\n",
       "                                       ThaiDescription  \\\n",
       "0                                                 None   \n",
       "1                                                 None   \n",
       "2                                                 None   \n",
       "3                                                 None   \n",
       "4                                                 None   \n",
       "..                                                 ...   \n",
       "601              ดุมอลูมิเนียมอัลลอยด์ แกนเพลาขนาดใหญ่   \n",
       "602                   ดุมอลูมิเนียมอัลลอยด์และเพลากลวง   \n",
       "603  จักรยานระดับเริ่มต้นสำหรับผู้ใหญ่ ให้ความสบายใ...   \n",
       "604  จักรยานระดับเริ่มต้นสำหรับผู้ใหญ่ ให้ความสบายใ...   \n",
       "605  จักรยานระดับเริ่มต้นสำหรับผู้ใหญ่ ให้ความสบายใ...   \n",
       "\n",
       "                                     GermanDescription  \\\n",
       "0                                                 None   \n",
       "1                                                 None   \n",
       "2                                                 None   \n",
       "3                                                 None   \n",
       "4                                                 None   \n",
       "..                                                 ...   \n",
       "601  Außenringe aus Aluminiumlegierung; Radachse mi...   \n",
       "602  Außenringe aus Aluminiumlegierung und hohle Ac...   \n",
       "603  Ein Erwachsenenrad für Einsteiger; bietet Komf...   \n",
       "604  Ein Erwachsenenrad für Einsteiger; bietet Komf...   \n",
       "605  Ein Erwachsenenrad für Einsteiger; bietet Komf...   \n",
       "\n",
       "                                   JapaneseDescription  \\\n",
       "0                                                 None   \n",
       "1                                                 None   \n",
       "2                                                 None   \n",
       "3                                                 None   \n",
       "4                                                 None   \n",
       "..                                                 ...   \n",
       "601                               アルミニウム合金カップ、大径スピンドル。   \n",
       "602                              アルミニウム合金カップとホロー アクスル。   \n",
       "603  エントリー レベルに対応する、クロスカントリーにも街への買い物にも快適な、大人の自転車。ハブ...   \n",
       "604  エントリー レベルに対応する、クロスカントリーにも街への買い物にも快適な、大人の自転車。ハブ...   \n",
       "605  エントリー レベルに対応する、クロスカントリーにも街への買い物にも快適な、大人の自転車。ハブ...   \n",
       "\n",
       "                                    TurkishDescription  StartDate EndDate  \\\n",
       "0                                                 None 2003-07-01     NaT   \n",
       "1                                                 None 2003-07-01     NaT   \n",
       "2                                                 None 2003-07-01     NaT   \n",
       "3                                                 None 2003-07-01     NaT   \n",
       "4                                                 None 2003-07-01     NaT   \n",
       "..                                                 ...        ...     ...   \n",
       "601  Alüminyum alaşımı orta göbekler; geniş çaplı mil. 2013-07-01     NaT   \n",
       "602    Alüminyum alaşımı orta göbekler ve içi boş aks. 2013-07-01     NaT   \n",
       "603  \"Başlangıç seviyesinde yetişkin bisikleti, kır... 2013-07-01     NaT   \n",
       "604  \"Başlangıç seviyesinde yetişkin bisikleti, kır... 2013-07-01     NaT   \n",
       "605  \"Başlangıç seviyesinde yetişkin bisikleti, kır... 2013-07-01     NaT   \n",
       "\n",
       "      Status  \n",
       "0    Current  \n",
       "1    Current  \n",
       "2    Current  \n",
       "3    Current  \n",
       "4    Current  \n",
       "..       ...  \n",
       "601  Current  \n",
       "602  Current  \n",
       "603  Current  \n",
       "604  Current  \n",
       "605  Current  \n",
       "\n",
       "[606 rows x 36 columns]"
      ]
     },
     "execution_count": 15,
     "metadata": {},
     "output_type": "execute_result"
    }
   ],
   "source": [
    "df"
   ]
  },
  {
   "cell_type": "code",
   "execution_count": 30,
   "id": "ccbaed1d-eaf9-43ab-85e8-b6ad38bf92ce",
   "metadata": {},
   "outputs": [
    {
     "name": "stdout",
     "output_type": "stream",
     "text": [
      "il numero totale dei dati è:606\n"
     ]
    }
   ],
   "source": [
    "#Quanti dati ci sono in totale?\n",
    "totale_dati=df.shape[0]\n",
    "print(f\"il numero totale dei dati è:{totale_dati}\")"
   ]
  },
  {
   "cell_type": "code",
   "execution_count": 32,
   "id": "bcc54426-c8c1-4f4a-801c-b70641e65cd4",
   "metadata": {},
   "outputs": [
    {
     "name": "stdout",
     "output_type": "stream",
     "text": [
      "i metadati per colonna sono:\n",
      "ProductKey                        int64\n",
      "ProductAlternateKey              object\n",
      "ProductSubcategoryKey           float64\n",
      "WeightUnitMeasureCode            object\n",
      "SizeUnitMeasureCode              object\n",
      "EnglishProductName               object\n",
      "SpanishProductName               object\n",
      "FrenchProductName                object\n",
      "StandardCost                    float64\n",
      "FinishedGoodsFlag                 int64\n",
      "Color                            object\n",
      "SafetyStockLevel                  int64\n",
      "ReorderPoint                      int64\n",
      "ListPrice                       float64\n",
      "Size                             object\n",
      "SizeRange                        object\n",
      "Weight                          float64\n",
      "DaysToManufacture                 int64\n",
      "ProductLine                      object\n",
      "DealerPrice                     float64\n",
      "Class                            object\n",
      "Style                            object\n",
      "ModelName                        object\n",
      "LargePhoto                       object\n",
      "EnglishDescription               object\n",
      "FrenchDescription                object\n",
      "ChineseDescription               object\n",
      "ArabicDescription                object\n",
      "HebrewDescription                object\n",
      "ThaiDescription                  object\n",
      "GermanDescription                object\n",
      "JapaneseDescription              object\n",
      "TurkishDescription               object\n",
      "StartDate                datetime64[ns]\n",
      "EndDate                  datetime64[ns]\n",
      "Status                           object\n",
      "dtype: object\n"
     ]
    }
   ],
   "source": [
    "#Quali sono i metadati?\n",
    "metadati=df.dtypes\n",
    "print(\"i metadati per colonna sono:\")\n",
    "print(metadati)"
   ]
  },
  {
   "cell_type": "code",
   "execution_count": 48,
   "id": "41447f54-c924-4d8e-99f4-6ebef8fd5bbf",
   "metadata": {},
   "outputs": [
    {
     "name": "stdout",
     "output_type": "stream",
     "text": [
      "il primo elemento è:\n",
      "ProductKey                                                               2\n",
      "ProductAlternateKey                                                BA-8327\n",
      "ProductSubcategoryKey                                                  NaN\n",
      "WeightUnitMeasureCode                                                 None\n",
      "SizeUnitMeasureCode                                                   None\n",
      "EnglishProductName                                            Bearing Ball\n",
      "SpanishProductName                                                        \n",
      "FrenchProductName                                                         \n",
      "StandardCost                                                           NaN\n",
      "FinishedGoodsFlag                                                        0\n",
      "Color                                                                   NA\n",
      "SafetyStockLevel                                                      1000\n",
      "ReorderPoint                                                           750\n",
      "ListPrice                                                              NaN\n",
      "Size                                                                  None\n",
      "SizeRange                                                               NA\n",
      "Weight                                                                 NaN\n",
      "DaysToManufacture                                                        0\n",
      "ProductLine                                                           None\n",
      "DealerPrice                                                            NaN\n",
      "Class                                                                 None\n",
      "Style                                                                 None\n",
      "ModelName                                                             None\n",
      "LargePhoto               b'GIF89a\\xf0\\x00\\x95\\x00\\xf7\\x00\\x00\\x00\\x00\\x...\n",
      "EnglishDescription                                                    None\n",
      "FrenchDescription                                                     None\n",
      "ChineseDescription                                                    None\n",
      "ArabicDescription                                                     None\n",
      "HebrewDescription                                                     None\n",
      "ThaiDescription                                                       None\n",
      "GermanDescription                                                     None\n",
      "JapaneseDescription                                                   None\n",
      "TurkishDescription                                                    None\n",
      "StartDate                                              2003-07-01 00:00:00\n",
      "EndDate                                                                NaT\n",
      "Status                                                             Current\n",
      "Name: 1, dtype: object\n"
     ]
    }
   ],
   "source": [
    "#Stampiamo il primo elemento\n",
    "primo_elemento=df.loc[1]\n",
    "print(\"il primo elemento è:\")\n",
    "print(primo_elemento)"
   ]
  },
  {
   "cell_type": "code",
   "execution_count": 51,
   "id": "9a851424-0d9f-4b48-a381-d74bcbd32e5f",
   "metadata": {},
   "outputs": [
    {
     "name": "stdout",
     "output_type": "stream",
     "text": [
      "l'ltimo elemento è:\n",
      "ProductKey                                                             606\n",
      "ProductAlternateKey                                             BK-R19B-52\n",
      "ProductSubcategoryKey                                                  2.0\n",
      "WeightUnitMeasureCode                                                   LB\n",
      "SizeUnitMeasureCode                                                     CM\n",
      "EnglishProductName                                      Road-750 Black, 52\n",
      "SpanishProductName                               Carretera: 750, negra, 52\n",
      "FrenchProductName                               Vélo de route 750 noir, 52\n",
      "StandardCost                                                        343.65\n",
      "FinishedGoodsFlag                                                        1\n",
      "Color                                                                Black\n",
      "SafetyStockLevel                                                       100\n",
      "ReorderPoint                                                            75\n",
      "ListPrice                                                           539.99\n",
      "Size                                                                    52\n",
      "SizeRange                                                         48-52 CM\n",
      "Weight                                                               20.42\n",
      "DaysToManufacture                                                        4\n",
      "ProductLine                                                              R\n",
      "DealerPrice                                                        323.994\n",
      "Class                                                                    L\n",
      "Style                                                                    U\n",
      "ModelName                                                         Road-750\n",
      "LargePhoto               b'GIF89a\\xf0\\x00\\x95\\x00\\xf7\\x00\\x00\\x8avw\\xf7...\n",
      "EnglishDescription       Entry level adult bike; offers a comfortable r...\n",
      "FrenchDescription        Vélo d'adulte d'entrée de gamme ; permet une c...\n",
      "ChineseDescription                       入门级成人自行车；确保越野旅行或公路骑乘的舒适。快拆式车毂和轮缘。\n",
      "ArabicDescription        إنها دراجة مناسبة للمبتدئين من البالغين؛ فهي ت...\n",
      "HebrewDescription        אופני מבוגרים למתחילים; מציעים רכיבה נוחה \"מחו...\n",
      "ThaiDescription          จักรยานระดับเริ่มต้นสำหรับผู้ใหญ่ ให้ความสบายใ...\n",
      "GermanDescription        Ein Erwachsenenrad für Einsteiger; bietet Komf...\n",
      "JapaneseDescription      エントリー レベルに対応する、クロスカントリーにも街への買い物にも快適な、大人の自転車。ハブ...\n",
      "TurkishDescription       \"Başlangıç seviyesinde yetişkin bisikleti, kır...\n",
      "StartDate                                              2013-07-01 00:00:00\n",
      "EndDate                                                                NaT\n",
      "Status                                                             Current\n",
      "Name: 605, dtype: object\n"
     ]
    }
   ],
   "source": [
    "#Stampiamo l'ultimo elemento\n",
    "ultimo_elemento = df.iloc[-1]\n",
    "print(\"l'ltimo elemento è:\")\n",
    "print(ultimo_elemento)"
   ]
  },
  {
   "cell_type": "code",
   "execution_count": 66,
   "id": "42fecf1a-b75f-4283-bf8f-b83d816880ef",
   "metadata": {},
   "outputs": [
    {
     "name": "stdout",
     "output_type": "stream",
     "text": [
      "prendiamo 5 riche casuali:\n",
      "     ProductKey ProductAlternateKey  ProductSubcategoryKey  \\\n",
      "101         102             LJ-1220                    NaN   \n",
      "84           85             LE-1400                    NaN   \n",
      "4             5             BL-2036                    NaN   \n",
      "492         493          FR-T67Y-62                   16.0   \n",
      "479         480             PK-7098                   37.0   \n",
      "\n",
      "    WeightUnitMeasureCode SizeUnitMeasureCode             EnglishProductName  \\\n",
      "101                  None                None           Thin-Jam Lock Nut 10   \n",
      "84                   None                None         External Lock Washer 5   \n",
      "4                    None                None                          Blade   \n",
      "492                    LB                  CM  LL Touring Frame - Yellow, 62   \n",
      "479                  None                None            Patch Kit/8 Patches   \n",
      "\n",
      "                   SpanishProductName  \\\n",
      "101                                     \n",
      "84                                      \n",
      "4                                       \n",
      "492  Cuadro de paseo GB: amarillo, 62   \n",
      "479                                     \n",
      "\n",
      "                             FrenchProductName  StandardCost  \\\n",
      "101                                                      NaN   \n",
      "84                                                       NaN   \n",
      "4                                                        NaN   \n",
      "492  Cadre de vélo de randonnée LL - jaune, 62        199.85   \n",
      "479                                                     0.86   \n",
      "\n",
      "     FinishedGoodsFlag  ...                           ChineseDescription  \\\n",
      "101                  0  ...                                         None   \n",
      "84                   0  ...                                         None   \n",
      "4                    0  ...                                         None   \n",
      "492                  1  ...  轻型一体式铝制车架，可以更直立的骑乘姿势进行环城游。我们开创性的设计提供了最佳舒适度。   \n",
      "479                  1  ...                           包括八种不同尺寸的补片、胶水和砂纸。   \n",
      "\n",
      "                                     ArabicDescription  \\\n",
      "101                                               None   \n",
      "84                                                None   \n",
      "4                                                 None   \n",
      "492  يوفر هيكل الألومنيوم سميك الأطراف خفيف الوزن و...   \n",
      "479  تشمل 8 رقع لصق مختلفة الحجم، ومادة غروية لاصقة...   \n",
      "\n",
      "                                     HebrewDescription  \\\n",
      "101                                               None   \n",
      "84                                                None   \n",
      "4                                                 None   \n",
      "492  מסגרת קלת משקל מאלומיניום חרוץ מספקת תנוחת רכי...   \n",
      "479       כולל 8 טלאים בגדלים שונים, דבק ונייר זכוכית.   \n",
      "\n",
      "                                       ThaiDescription  \\\n",
      "101                                               None   \n",
      "84                                                None   \n",
      "4                                                 None   \n",
      "492  เฟรมอลูมิเนียมน้ำหนักเบา ทำให้ท่วงท่าในการขับข...   \n",
      "479       ประกอบด้วยแผ่นปะยาง 8 ขนาด กาว และกระดาษทราย   \n",
      "\n",
      "                                     GermanDescription  \\\n",
      "101                                               None   \n",
      "84                                                None   \n",
      "4                                                 None   \n",
      "492  Leichter Aluminiumrahmen für aufrechte Sitzhal...   \n",
      "479  \"Enthält Flicken in 8 verschiedenen Größen, Kl...   \n",
      "\n",
      "                                   JapaneseDescription  \\\n",
      "101                                               None   \n",
      "84                                                None   \n",
      "4                                                 None   \n",
      "492  軽量接合アルミニウム フレームにより、街乗りに適したアップライトなライディング ポジションを...   \n",
      "479               8 種類の異なるサイズのパッチ、糊、およびサンド ペーパーが含まれます。   \n",
      "\n",
      "                                    TurkishDescription  StartDate EndDate  \\\n",
      "101                                               None 2003-07-01     NaT   \n",
      "84                                                None 2003-07-01     NaT   \n",
      "4                                                 None 2003-07-01     NaT   \n",
      "492  \"Hafif alüminyum kadrosu, şehirde yaptığınız y... 2013-07-01     NaT   \n",
      "479  \"8 farklı boyda yama, yapışkan ve zımpara kağı... 2013-07-01     NaT   \n",
      "\n",
      "      Status  \n",
      "101  Current  \n",
      "84   Current  \n",
      "4    Current  \n",
      "492  Current  \n",
      "479  Current  \n",
      "\n",
      "[5 rows x 36 columns]\n"
     ]
    }
   ],
   "source": [
    "#Riusciamo a stampare cinque elementi a caso?\n",
    "cinque_righe_casuali=df.sample(5)\n",
    "print(\"prendiamo 5 riche casuali:\")\n",
    "print(cinque_righe_casuali)"
   ]
  },
  {
   "cell_type": "code",
   "execution_count": 77,
   "id": "f6fc2da8-934b-4f96-acc8-e76a39de55b3",
   "metadata": {},
   "outputs": [
    {
     "name": "stdout",
     "output_type": "stream",
     "text": [
      "Colori disponibili:\n",
      "['NA' 'Black' 'Silver' 'Red' 'White' 'Blue' 'Multi' 'Yellow' 'Grey'\n",
      " 'Silver/Black']\n"
     ]
    }
   ],
   "source": [
    "# Quali sono i colori disponibili?\n",
    "colori_disponibili = df['Color'].dropna().unique()\n",
    "print(\"Colori disponibili:\")\n",
    "print(colori_disponibili)"
   ]
  },
  {
   "cell_type": "code",
   "execution_count": 89,
   "id": "022b9114-5f8f-475f-849f-3256c912c674",
   "metadata": {},
   "outputs": [
    {
     "name": "stdout",
     "output_type": "stream",
     "text": [
      "il peso medio dei prodotti è pari a:56.1932269503546\n"
     ]
    }
   ],
   "source": [
    "#In media quanto pesano i prodotti?\n",
    "peso_prodotti=df[\"Weight\"].mean()\n",
    "print(f\"il peso medio dei prodotti è pari a:{peso_prodotti}\")"
   ]
  },
  {
   "cell_type": "code",
   "execution_count": 91,
   "id": "28175e36-f7b7-44ef-8722-34f09269a245",
   "metadata": {},
   "outputs": [
    {
     "name": "stdout",
     "output_type": "stream",
     "text": [
      "il prodotto più leggero pesa:2.12\n"
     ]
    }
   ],
   "source": [
    "#Quanto pesa il più leggero?\n",
    "prodotto_piu_leggero=df[\"Weight\"].min()\n",
    "print(f\"il prodotto più leggero pesa:{prodotto_piu_leggero}\")"
   ]
  },
  {
   "cell_type": "code",
   "execution_count": 17,
   "id": "ec472084-92c6-4dae-9843-6184a2af7b20",
   "metadata": {},
   "outputs": [
    {
     "name": "stdout",
     "output_type": "stream",
     "text": [
      "il prodotto più pesante ha un peso di:1050.0\n"
     ]
    }
   ],
   "source": [
    "#Quanto pesa il più pesante?\n",
    "prodotto_piu_pesante=df[\"Weight\"].max()\n",
    "print(f\"il prodotto più pesante ha un peso di:{prodotto_piu_pesante}\")"
   ]
  },
  {
   "cell_type": "code",
   "execution_count": 34,
   "id": "db1fd7c5-4d71-4b17-bb62-0e6f0fa8ad46",
   "metadata": {},
   "outputs": [
    {
     "name": "stdout",
     "output_type": "stream",
     "text": [
      "il numero di prodotti che pesano più di 100 kg è pari a:28\n"
     ]
    }
   ],
   "source": [
    "#Quanti prodotti pesano più di 100 Kg?\n",
    "conteggio_maggiore_100=df[df[\"Weight\"]>100].shape[0]\n",
    "print(f\"il numero di prodotti che pesano più di 100 kg è pari a:{conteggio_maggiore_100}\")"
   ]
  },
  {
   "cell_type": "code",
   "execution_count": 36,
   "id": "79b2dae4-3bfb-4ddc-851b-c2330adaaac6",
   "metadata": {},
   "outputs": [
    {
     "name": "stdout",
     "output_type": "stream",
     "text": [
      "il costo medio dei prodotti è pari a :448.5970597468353\n"
     ]
    }
   ],
   "source": [
    "#Quanto costano in media i prodotti (colonna DealerPrice)?\n",
    "costo_medio_prodotti=df[\"DealerPrice\"].mean()\n",
    "print(f\"il costo medio dei prodotti è pari a :{costo_medio_prodotti}\")"
   ]
  },
  {
   "cell_type": "code",
   "execution_count": 42,
   "id": "5c38e768-5f6c-4ac3-91d0-5fd631e47947",
   "metadata": {},
   "outputs": [
    {
     "name": "stdout",
     "output_type": "stream",
     "text": [
      "il range di prezzo richiesto varierà tra 445.41 e 2146.962 \n"
     ]
    }
   ],
   "source": [
    "#Se prendiamo un quarto di tutti i prodotti, in modo che siano i più costosi, quale sarà il loro range di prezzo?\n",
    "df_ordinato = df.sort_values(by='DealerPrice', ascending=False)\n",
    "num_prodotti_quarto = len(df) // 4\n",
    "prodotti_quarto = df_ordinato.head(num_prodotti_quarto)\n",
    "prezzo_minimo_quarto = prodotti_quarto['DealerPrice'].min()\n",
    "prezzo_massimo_quarto = prodotti_quarto['DealerPrice'].max()\n",
    "print(f\"il range di prezzo richiesto varierà tra {prezzo_minimo_quarto} e {prezzo_massimo_quarto} \")"
   ]
  },
  {
   "cell_type": "code",
   "execution_count": 77,
   "id": "adcad630-dc1e-46fe-a15b-492f162cba94",
   "metadata": {},
   "outputs": [
    {
     "name": "stdout",
     "output_type": "stream",
     "text": [
      "il prezzo medio dei prodotti di colore blu è pari a:516.0631785714286\n"
     ]
    }
   ],
   "source": [
    "#Qual è il prezzo medio per i prodotti di colore blu?\n",
    "prezzo_medio_blu=df[df['Color']==\"Blue\"]['DealerPrice'].mean()\n",
    "print(f\"il prezzo medio dei prodotti di colore blu è pari a:{prezzo_medio_blu}\")\n"
   ]
  },
  {
   "cell_type": "code",
   "execution_count": 82,
   "id": "544238c8-7a7f-4fd0-82e6-c3a532b8e255",
   "metadata": {},
   "outputs": [
    {
     "name": "stdout",
     "output_type": "stream",
     "text": [
      "Prezzo medio per i prodotti di colore rosso o nero: 550.2481873684211\n"
     ]
    }
   ],
   "source": [
    "#Qual è il prezzo medio per i prodotti di colore rosso o nero?\n",
    "prezzo_medio_rosso_nero=df[df['Color'].isin(['Red', 'Black'])]['DealerPrice'].mean()\n",
    "print(f\"Prezzo medio per i prodotti di colore rosso o nero: {prezzo_medio_rosso_nero}\")"
   ]
  },
  {
   "cell_type": "code",
   "execution_count": 89,
   "id": "3cf287b2-2329-439b-bc55-5d9536d9410a",
   "metadata": {},
   "outputs": [
    {
     "name": "stdout",
     "output_type": "stream",
     "text": [
      "il prezzo massimo per i prodotti di taglia 42 e di peso maggiore ai 10 kg è pari a:2039.994\n"
     ]
    }
   ],
   "source": [
    "#Qual è il prezzo massimo per i prodotti di taglia 42 e peso oltre i 10 Kg?\n",
    "prezzo_medio=df[(df['Size'] == '42') & (df['Weight'] > 10)]['DealerPrice'].max()\n",
    "print(f\"il prezzo massimo per i prodotti di taglia 42 e di peso maggiore ai 10 kg è pari a:{prezzo_medio}\")"
   ]
  },
  {
   "cell_type": "code",
   "execution_count": 94,
   "id": "b68c0574-a153-4d4c-83d4-408666726367",
   "metadata": {},
   "outputs": [
    {
     "name": "stdout",
     "output_type": "stream",
     "text": [
      "il nome in inglese e il costo di produzione per i prodotti con le caratteristiche indicate sono:\n",
      "            EnglishProductName  StandardCost\n",
      "344    Mountain-100 Silver, 42       1912.15\n",
      "353    Mountain-200 Silver, 42       1117.86\n",
      "354    Mountain-200 Silver, 42       1265.62\n",
      "588  Mountain-400-W Silver, 42        419.78\n",
      "591    Mountain-500 Silver, 42        308.22\n"
     ]
    }
   ],
   "source": [
    "#Qual è il nome inglese e il costo di produzione (StandardCost) di tutti i prodotti di taglia 42, peso oltre i 10 Kg e colore argento?\n",
    "x=df[(df['Size'] == '42') & (df['Weight'] > 10) & (df['Color'] == 'Silver')][['EnglishProductName', 'StandardCost']]\n",
    "print(\"il nome in inglese e il costo di produzione per i prodotti con le caratteristiche indicate sono:\")\n",
    "print(x)"
   ]
  },
  {
   "cell_type": "code",
   "execution_count": 102,
   "id": "acf5d887-9adb-4a20-99b2-bc83b7365a3c",
   "metadata": {},
   "outputs": [
    {
     "name": "stdout",
     "output_type": "stream",
     "text": [
      "Differenza tra StandardCost e DealerPrice degli ultimi 20 elementi:\n",
      "     DealerPrice  StandardCost  Differenza\n",
      "586      461.694        419.78      41.914\n",
      "587      461.694        419.78      41.914\n",
      "588      461.694        419.78      41.914\n",
      "589      461.694        419.78      41.914\n",
      "590      338.994        308.22      30.774\n",
      "591      338.994        308.22      30.774\n",
      "592      338.994        308.22      30.774\n",
      "593      338.994        308.22      30.774\n",
      "594      338.994        308.22      30.774\n",
      "595      323.994        294.58      29.414\n",
      "596      323.994        294.58      29.414\n",
      "597      323.994        294.58      29.414\n",
      "598      323.994        294.58      29.414\n",
      "599      323.994        294.58      29.414\n",
      "600       32.394         23.97       8.424\n",
      "601       60.744         44.95      15.794\n",
      "602       72.894         53.94      18.954\n",
      "603      323.994        343.65     -19.656\n",
      "604      323.994        343.65     -19.656\n",
      "605      323.994        343.65     -19.656\n"
     ]
    },
    {
     "name": "stderr",
     "output_type": "stream",
     "text": [
      "C:\\Users\\Leo\\AppData\\Local\\Temp\\ipykernel_8500\\209664635.py:3: SettingWithCopyWarning: \n",
      "A value is trying to be set on a copy of a slice from a DataFrame.\n",
      "Try using .loc[row_indexer,col_indexer] = value instead\n",
      "\n",
      "See the caveats in the documentation: https://pandas.pydata.org/pandas-docs/stable/user_guide/indexing.html#returning-a-view-versus-a-copy\n",
      "  ultimi_20_elementi['Differenza'] = ultimi_20_elementi['DealerPrice'] - ultimi_20_elementi['StandardCost']\n"
     ]
    }
   ],
   "source": [
    "#Esaminiamo la differenza tra lo StandardCost e il DealerPrice degli ultimi 20 elementi del dataset: c'è un pattern? C'è qualche elemento che non lo segue?\n",
    "ultimi_20_elementi = df.tail(20)\n",
    "ultimi_20_elementi['Differenza'] = ultimi_20_elementi['DealerPrice'] - ultimi_20_elementi['StandardCost']\n",
    "\n",
    "print(\"Differenza tra StandardCost e DealerPrice degli ultimi 20 elementi:\")\n",
    "print(ultimi_20_elementi[['DealerPrice', 'StandardCost', 'Differenza']])"
   ]
  },
  {
   "cell_type": "code",
   "execution_count": 141,
   "id": "0d8cc918-1718-4784-b8e5-6987575ca015",
   "metadata": {},
   "outputs": [],
   "source": [
    "import pandas as pd"
   ]
  },
  {
   "cell_type": "code",
   "execution_count": 150,
   "id": "d63d8646-2a70-4aa3-b025-81ffe24d8ada",
   "metadata": {},
   "outputs": [],
   "source": [
    "# Caricare il dataset\n",
    "filepath = r'C:\\Users\\Leo\\Desktop\\EPICODE\\3_PYTHON\\W14D4_g\\amazon.csv'\n",
    "df = pd.read_csv(filepath)"
   ]
  },
  {
   "cell_type": "code",
   "execution_count": 152,
   "id": "dfa2f82e-e612-4f73-a1fb-676b485efbd4",
   "metadata": {},
   "outputs": [
    {
     "name": "stdout",
     "output_type": "stream",
     "text": [
      "le dimensioni del dataset sono indicate dai seguenti parametri\n",
      "(20000, 2)\n"
     ]
    }
   ],
   "source": [
    "#Valutiamo la dimensione del dataset \n",
    "dimensioni_dataset=df.shape\n",
    "print(\"le dimensioni del dataset sono indicate dai seguenti parametri\")\n",
    "print(dimensioni_dataset)"
   ]
  },
  {
   "cell_type": "code",
   "execution_count": 154,
   "id": "9efb305f-81c4-408e-8351-ebbc254922ed",
   "metadata": {},
   "outputs": [
    {
     "data": {
      "text/html": [
       "<div>\n",
       "<style scoped>\n",
       "    .dataframe tbody tr th:only-of-type {\n",
       "        vertical-align: middle;\n",
       "    }\n",
       "\n",
       "    .dataframe tbody tr th {\n",
       "        vertical-align: top;\n",
       "    }\n",
       "\n",
       "    .dataframe thead th {\n",
       "        text-align: right;\n",
       "    }\n",
       "</style>\n",
       "<table border=\"1\" class=\"dataframe\">\n",
       "  <thead>\n",
       "    <tr style=\"text-align: right;\">\n",
       "      <th></th>\n",
       "      <th>reviewText</th>\n",
       "      <th>Positive</th>\n",
       "    </tr>\n",
       "  </thead>\n",
       "  <tbody>\n",
       "    <tr>\n",
       "      <th>14235</th>\n",
       "      <td>Devices:  Acer Iconia A500 Tablet and Samsung ...</td>\n",
       "      <td>1</td>\n",
       "    </tr>\n",
       "    <tr>\n",
       "      <th>16114</th>\n",
       "      <td>For a quick way to sketch some ideas, do a lit...</td>\n",
       "      <td>1</td>\n",
       "    </tr>\n",
       "    <tr>\n",
       "      <th>13798</th>\n",
       "      <td>Cards are a very good game for anyone to play....</td>\n",
       "      <td>1</td>\n",
       "    </tr>\n",
       "    <tr>\n",
       "      <th>13408</th>\n",
       "      <td>Played with it for a while just to get a feel ...</td>\n",
       "      <td>1</td>\n",
       "    </tr>\n",
       "    <tr>\n",
       "      <th>16844</th>\n",
       "      <td>This app is just wonderful. It gives you a qui...</td>\n",
       "      <td>1</td>\n",
       "    </tr>\n",
       "    <tr>\n",
       "      <th>913</th>\n",
       "      <td>i owned this app for probably three months. i'...</td>\n",
       "      <td>1</td>\n",
       "    </tr>\n",
       "    <tr>\n",
       "      <th>14118</th>\n",
       "      <td>My nephews and I enjoy doodling on the board. ...</td>\n",
       "      <td>1</td>\n",
       "    </tr>\n",
       "    <tr>\n",
       "      <th>7362</th>\n",
       "      <td>love your app.  it has been very helpful in ma...</td>\n",
       "      <td>1</td>\n",
       "    </tr>\n",
       "    <tr>\n",
       "      <th>16921</th>\n",
       "      <td>Just perfect. Had plex for the roku and my xbo...</td>\n",
       "      <td>1</td>\n",
       "    </tr>\n",
       "    <tr>\n",
       "      <th>9338</th>\n",
       "      <td>My grandson downloaded on my kindle.  I looked...</td>\n",
       "      <td>0</td>\n",
       "    </tr>\n",
       "  </tbody>\n",
       "</table>\n",
       "</div>"
      ],
      "text/plain": [
       "                                              reviewText  Positive\n",
       "14235  Devices:  Acer Iconia A500 Tablet and Samsung ...         1\n",
       "16114  For a quick way to sketch some ideas, do a lit...         1\n",
       "13798  Cards are a very good game for anyone to play....         1\n",
       "13408  Played with it for a while just to get a feel ...         1\n",
       "16844  This app is just wonderful. It gives you a qui...         1\n",
       "913    i owned this app for probably three months. i'...         1\n",
       "14118  My nephews and I enjoy doodling on the board. ...         1\n",
       "7362   love your app.  it has been very helpful in ma...         1\n",
       "16921  Just perfect. Had plex for the roku and my xbo...         1\n",
       "9338   My grandson downloaded on my kindle.  I looked...         0"
      ]
     },
     "execution_count": 154,
     "metadata": {},
     "output_type": "execute_result"
    }
   ],
   "source": [
    "#Visualizziamo dieci righe a caso;\n",
    "df.sample(10)"
   ]
  },
  {
   "cell_type": "code",
   "execution_count": 158,
   "id": "e6c628a0-671d-453d-8202-7261f321da43",
   "metadata": {},
   "outputs": [
    {
     "data": {
      "text/plain": [
       "['reviewText', 'Positive']"
      ]
     },
     "execution_count": 158,
     "metadata": {},
     "output_type": "execute_result"
    }
   ],
   "source": [
    "#Osserviamo quali sono i nomi di colonna;\n",
    "df.columns.tolist()"
   ]
  },
  {
   "cell_type": "code",
   "execution_count": 160,
   "id": "5e6061a1-1643-4f89-be3a-bf068c628cb5",
   "metadata": {},
   "outputs": [
    {
     "name": "stdout",
     "output_type": "stream",
     "text": [
      "Recensioni positive: 15233\n",
      "Recensioni negative: 4767\n",
      "Il dataset è bilanciato: False\n"
     ]
    }
   ],
   "source": [
    "#Il dataset è bilanciato, ovvero, il numero di recensioni positive è uguale a quello delle negative, oppure no?\n",
    "positive_reviews = df[df['Positive'] == 1].shape[0]\n",
    "negative_reviews = df[df['Positive'] == 0].shape[0]\n",
    "is_balanced = positive_reviews == negative_reviews\n",
    "\n",
    "print(\"Recensioni positive:\", positive_reviews)\n",
    "print(\"Recensioni negative:\", negative_reviews)\n",
    "print(\"Il dataset è bilanciato:\", is_balanced)"
   ]
  },
  {
   "cell_type": "code",
   "execution_count": null,
   "id": "f2f346cd-4428-4b7e-be61-919d8d37891c",
   "metadata": {},
   "outputs": [],
   "source": []
  }
 ],
 "metadata": {
  "kernelspec": {
   "display_name": "Python 3 (ipykernel)",
   "language": "python",
   "name": "python3"
  },
  "language_info": {
   "codemirror_mode": {
    "name": "ipython",
    "version": 3
   },
   "file_extension": ".py",
   "mimetype": "text/x-python",
   "name": "python",
   "nbconvert_exporter": "python",
   "pygments_lexer": "ipython3",
   "version": "3.11.7"
  }
 },
 "nbformat": 4,
 "nbformat_minor": 5
}
