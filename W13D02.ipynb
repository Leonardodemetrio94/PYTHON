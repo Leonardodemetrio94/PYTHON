{
 "cells": [
  {
   "cell_type": "code",
   "execution_count": null,
   "id": "ff2d3325-d577-477a-96ba-77075f4f4942",
   "metadata": {},
   "outputs": [],
   "source": [
    "# ESERCIZIO 1"
   ]
  },
  {
   "cell_type": "code",
   "execution_count": 21,
   "id": "3f5b2742-dc50-4bcd-b276-7ecba21cc568",
   "metadata": {},
   "outputs": [],
   "source": [
    "# Individuiamo tre task di qualsiasi tipo (fare la spesa, studiare un concetto, riempire il serbatoio dell'auto, acquistare uno  snack da un distributore automatico, o qualunque altra cosa);\n",
    "\n",
    "\n",
    "# FARE LA SPESA\n",
    "# avere soldi\n",
    "# andare al supermercato\n",
    "# prendere gli oggetti\n",
    "# pagare l'importo dovuto\n",
    "\n",
    "\n",
    "# RIEMPIRE IL SERBATOIO DELL'AUTO\n",
    "# andare al benzinaio\n",
    "# aprire il serbatoio\n",
    "# selezionare l'importo da versare\n",
    "# pagare\n",
    "# selezionare la pompa\n",
    "# prendere la pompa\n",
    "# versare il contenuto nel serbatoio\n",
    "\n",
    "# ACQUISTARE UNO SNACK DA UN DISTRIBUTORE AUTOMATICO\n",
    "# arrivare al distributore\n",
    "# individuare il numero corrispondente dello snack\n",
    "# versare l'importo corrispondente\n",
    "# prelevare lo snack\n",
    "# prelevare l'eventuale resto"
   ]
  },
  {
   "cell_type": "code",
   "execution_count": null,
   "id": "645b6d67-0550-4270-8107-da6da0d76ee5",
   "metadata": {},
   "outputs": [],
   "source": []
  },
  {
   "cell_type": "code",
   "execution_count": null,
   "id": "0eeb9c1e-1e12-4860-859d-881c7c34bbbc",
   "metadata": {},
   "outputs": [],
   "source": [
    "# ESERCIZIO 2"
   ]
  },
  {
   "cell_type": "code",
   "execution_count": null,
   "id": "a5f61854-6e12-45bc-9b41-55889199b4ae",
   "metadata": {},
   "outputs": [],
   "source": [
    "# Abbiamo 25 studenti; memorizzare questo dato in una variabile."
   ]
  },
  {
   "cell_type": "code",
   "execution_count": null,
   "id": "b3d058da-0037-4ffc-ae4c-3358d9d62ad0",
   "metadata": {},
   "outputs": [],
   "source": [
    "studenti = 25"
   ]
  },
  {
   "cell_type": "code",
   "execution_count": null,
   "id": "f743d161-e55c-419d-b9af-56ec79378c6e",
   "metadata": {},
   "outputs": [],
   "source": []
  },
  {
   "cell_type": "code",
   "execution_count": null,
   "id": "02795c3c-d952-452b-b953-781e970e5de5",
   "metadata": {},
   "outputs": [],
   "source": [
    "# ESERCIZIO 3"
   ]
  },
  {
   "cell_type": "code",
   "execution_count": null,
   "id": "a87fe6e7-66e2-4458-9b7e-21c85e26fdd1",
   "metadata": {},
   "outputs": [],
   "source": [
    "# Esercizio Abbiamo 25 studenti; memorizzare questo dato in una variabile e stamparla a video."
   ]
  },
  {
   "cell_type": "code",
   "execution_count": 45,
   "id": "d97bc7f7-c078-4a0e-ab51-25db5c925be2",
   "metadata": {},
   "outputs": [],
   "source": [
    "studenti = 25"
   ]
  },
  {
   "cell_type": "code",
   "execution_count": 47,
   "id": "97902583-c7a0-450f-8108-d6f925700b9c",
   "metadata": {},
   "outputs": [
    {
     "name": "stdout",
     "output_type": "stream",
     "text": [
      "25\n"
     ]
    }
   ],
   "source": [
    "print (studenti)"
   ]
  },
  {
   "cell_type": "code",
   "execution_count": null,
   "id": "87d76ce0-9539-4484-9635-b4ab0b706600",
   "metadata": {},
   "outputs": [],
   "source": []
  },
  {
   "cell_type": "code",
   "execution_count": null,
   "id": "1a583cc6-2c1b-411e-9776-72f7ad6e99b4",
   "metadata": {},
   "outputs": [],
   "source": [
    "# ESERCIZIO 4 - 5"
   ]
  },
  {
   "cell_type": "code",
   "execution_count": null,
   "id": "0ff30532-6c3e-46d3-bda6-32cba54d4c44",
   "metadata": {},
   "outputs": [],
   "source": [
    "# Abbiamo 25 studenti; memorizzare questo dato in una variabile. Arrivano altri 3 studenti; memorizzare questo dato in un'altra variabile. Creare un'altra variabile ancora che conterrà la somma delle prime due, poi stamparla a video."
   ]
  },
  {
   "cell_type": "code",
   "execution_count": 49,
   "id": "94776ea7-f152-4612-933b-4b455b03f48c",
   "metadata": {},
   "outputs": [],
   "source": [
    "studenti= 25\n",
    "nuovi_studenti = 3"
   ]
  },
  {
   "cell_type": "code",
   "execution_count": 51,
   "id": "a40717e9-eab6-4ada-a981-fffdf2859c0c",
   "metadata": {},
   "outputs": [],
   "source": [
    "studenti_totali = studenti + nuovi_studenti"
   ]
  },
  {
   "cell_type": "code",
   "execution_count": 53,
   "id": "62f34bbb-7b1d-48a9-9f52-faf28b255512",
   "metadata": {},
   "outputs": [
    {
     "name": "stdout",
     "output_type": "stream",
     "text": [
      "28\n"
     ]
    }
   ],
   "source": [
    "print (studenti_totali)"
   ]
  },
  {
   "cell_type": "code",
   "execution_count": null,
   "id": "8f3a3251-7e30-4ea6-bd4a-84bcf45c04e7",
   "metadata": {},
   "outputs": [],
   "source": []
  },
  {
   "cell_type": "code",
   "execution_count": null,
   "id": "1df4de47-7677-4c34-92ec-1867894aa167",
   "metadata": {},
   "outputs": [],
   "source": [
    "# ESERCIZIO 6"
   ]
  },
  {
   "cell_type": "code",
   "execution_count": null,
   "id": "12ff83f4-1b16-44ba-b845-4648d5fb0b6a",
   "metadata": {},
   "outputs": [],
   "source": [
    "# Creare una variabile che contiene la stringa \"Epicode\", quindi stamparla a video."
   ]
  },
  {
   "cell_type": "code",
   "execution_count": 59,
   "id": "23a0901a-83a8-45b1-a9ad-d236f9d4e01c",
   "metadata": {},
   "outputs": [],
   "source": [
    "nome_scuola ='EPICODE'"
   ]
  },
  {
   "cell_type": "code",
   "execution_count": 61,
   "id": "fd5500a9-a53d-4cdd-9dce-58614d050a35",
   "metadata": {},
   "outputs": [
    {
     "name": "stdout",
     "output_type": "stream",
     "text": [
      "EPICODE\n"
     ]
    }
   ],
   "source": [
    "print(nome_scuola)"
   ]
  },
  {
   "cell_type": "code",
   "execution_count": null,
   "id": "e056e00d-7f38-4a42-9d55-70740bbdceb5",
   "metadata": {},
   "outputs": [],
   "source": []
  },
  {
   "cell_type": "code",
   "execution_count": null,
   "id": "d0bd66c5-1b64-4198-a3c0-2c7294750833",
   "metadata": {},
   "outputs": [],
   "source": [
    "# ESERCIZIO 7"
   ]
  },
  {
   "cell_type": "code",
   "execution_count": null,
   "id": "5a5307da-ab6f-43f4-98b9-b41648d37d4a",
   "metadata": {},
   "outputs": [],
   "source": [
    "# Abbiamo la variabile: x = 10 Incrementarla di 2 e poi moltiplicarla per 3 Usare due metodi diversi (ad esempio, uno utilizzando gli operatori di assegnazione, e uno senza)"
   ]
  },
  {
   "cell_type": "code",
   "execution_count": 70,
   "id": "850d85d3-5446-4e14-9a24-4261d2681b5b",
   "metadata": {},
   "outputs": [
    {
     "name": "stdout",
     "output_type": "stream",
     "text": [
      "36\n"
     ]
    }
   ],
   "source": [
    "x = 10\n",
    "x += 2\n",
    "x *= 3\n",
    "print (x)"
   ]
  },
  {
   "cell_type": "code",
   "execution_count": 72,
   "id": "a4e881b8-607e-4c23-8e98-8fbfecb852ef",
   "metadata": {},
   "outputs": [
    {
     "name": "stdout",
     "output_type": "stream",
     "text": [
      "36\n"
     ]
    }
   ],
   "source": [
    "x = 10\n",
    "x = (x+2)*3\n",
    "print (x)"
   ]
  },
  {
   "cell_type": "code",
   "execution_count": null,
   "id": "dea13b76-11d5-4182-8faa-d65a846efaad",
   "metadata": {},
   "outputs": [],
   "source": []
  },
  {
   "cell_type": "code",
   "execution_count": null,
   "id": "f487d277-c0f7-4d76-b9bf-4b0b37737308",
   "metadata": {},
   "outputs": [],
   "source": [
    "#ESERCIZIO 8"
   ]
  },
  {
   "cell_type": "code",
   "execution_count": null,
   "id": "21877754-bdec-4e5c-9e13-3073e0af47a0",
   "metadata": {},
   "outputs": [],
   "source": [
    "# Verificare, per ognuna delle seguenti stringhe, se il numero di caratteri è compreso tra 5 e 8: • str1 = \"Windows\" • str2 = \"Excel\" • str3 = \"Powerpoint\" • str4 = \"Word\""
   ]
  },
  {
   "cell_type": "code",
   "execution_count": 76,
   "id": "b35385e9-849f-4a3d-a0aa-8ac1007eb79c",
   "metadata": {},
   "outputs": [
    {
     "data": {
      "text/plain": [
       "7"
      ]
     },
     "execution_count": 76,
     "metadata": {},
     "output_type": "execute_result"
    }
   ],
   "source": [
    "str1 = \"windows\"\n",
    "len (str1)"
   ]
  },
  {
   "cell_type": "code",
   "execution_count": 78,
   "id": "f8c1d146-7c4e-45a6-af4b-142379eacd52",
   "metadata": {},
   "outputs": [
    {
     "data": {
      "text/plain": [
       "5"
      ]
     },
     "execution_count": 78,
     "metadata": {},
     "output_type": "execute_result"
    }
   ],
   "source": [
    "str2 = \"Excel\"\n",
    "len (str2)"
   ]
  },
  {
   "cell_type": "code",
   "execution_count": 80,
   "id": "f948233e-c9be-4bf3-9afb-dec6a32bf674",
   "metadata": {},
   "outputs": [
    {
     "data": {
      "text/plain": [
       "10"
      ]
     },
     "execution_count": 80,
     "metadata": {},
     "output_type": "execute_result"
    }
   ],
   "source": [
    "str3 = \"Powerpoint\"\n",
    "len (str3)"
   ]
  },
  {
   "cell_type": "code",
   "execution_count": 82,
   "id": "55427090-5764-4714-abeb-fdc97cc933c4",
   "metadata": {},
   "outputs": [
    {
     "data": {
      "text/plain": [
       "4"
      ]
     },
     "execution_count": 82,
     "metadata": {},
     "output_type": "execute_result"
    }
   ],
   "source": [
    "str4 = \"Word\"\n",
    "len (str4)"
   ]
  },
  {
   "cell_type": "code",
   "execution_count": null,
   "id": "6d6ee735-ae38-4f6a-990a-471516e94ae8",
   "metadata": {},
   "outputs": [],
   "source": []
  },
  {
   "cell_type": "code",
   "execution_count": null,
   "id": "0b73c7f9-aa60-4800-ba53-753f0308a012",
   "metadata": {},
   "outputs": [],
   "source": [
    "# ESERCIZIO 9"
   ]
  },
  {
   "cell_type": "code",
   "execution_count": null,
   "id": "93de67af-7670-4cda-810b-abbd17d6c69f",
   "metadata": {},
   "outputs": [],
   "source": [
    "# Calcolare e stampare a video quanti secondi ci sono in un anno non bisestile."
   ]
  },
  {
   "cell_type": "code",
   "execution_count": 86,
   "id": "da375fed-cf01-4da3-83e3-360d98a05c17",
   "metadata": {},
   "outputs": [
    {
     "name": "stdout",
     "output_type": "stream",
     "text": [
      "31536000\n"
     ]
    }
   ],
   "source": [
    "giorni = 365\n",
    "ore_giorno=24\n",
    "minuti_ora=60\n",
    "secondi_minuto=60\n",
    "secondi_anno=giorni*ore_giorno*minuti_ora*secondi_minuto\n",
    "print(secondi_anno)"
   ]
  },
  {
   "cell_type": "code",
   "execution_count": null,
   "id": "e6b2d393-cfcf-41e4-bc3f-1f8027501167",
   "metadata": {},
   "outputs": [],
   "source": []
  }
 ],
 "metadata": {
  "kernelspec": {
   "display_name": "Python 3 (ipykernel)",
   "language": "python",
   "name": "python3"
  },
  "language_info": {
   "codemirror_mode": {
    "name": "ipython",
    "version": 3
   },
   "file_extension": ".py",
   "mimetype": "text/x-python",
   "name": "python",
   "nbconvert_exporter": "python",
   "pygments_lexer": "ipython3",
   "version": "3.11.7"
  }
 },
 "nbformat": 4,
 "nbformat_minor": 5
}
