{
 "cells": [
  {
   "cell_type": "code",
   "execution_count": null,
   "id": "c1f465e1-3a93-4c20-8df4-6105a14e5d8d",
   "metadata": {},
   "outputs": [],
   "source": []
  },
  {
   "cell_type": "code",
   "execution_count": 4,
   "id": "d8774aac-06ec-411b-80e9-ada86b39447e",
   "metadata": {},
   "outputs": [],
   "source": [
    "#ESERCIZIO 1: Abbiamo la stringa: nome_scuola = \"Epicode\" Stampare ogni carattere della stringa, uno su ogni riga, utilizzando un costrutto while."
   ]
  },
  {
   "cell_type": "code",
   "execution_count": 20,
   "id": "6e903da7-b6f2-4472-95c4-f3b6b4165b72",
   "metadata": {},
   "outputs": [
    {
     "name": "stdout",
     "output_type": "stream",
     "text": [
      "E\n",
      "p\n",
      "i\n",
      "c\n",
      "o\n",
      "d\n",
      "e\n"
     ]
    }
   ],
   "source": [
    "# definiamo una stringa\n",
    "nome_scuola = \"Epicode\"\n",
    "#inizializziamo un contatore\n",
    "x=0\n",
    "#apro il ciclo while\n",
    "while x<len(nome_scuola):\n",
    "            print(nome_scuola[x]) \n",
    "            x+=1"
   ]
  },
  {
   "cell_type": "code",
   "execution_count": null,
   "id": "401c7fc0-238b-49bf-9d87-aeddc1380a16",
   "metadata": {},
   "outputs": [],
   "source": []
  },
  {
   "cell_type": "code",
   "execution_count": 6,
   "id": "5d8eb2f9-4251-4161-9e8c-355eeeb63485",
   "metadata": {},
   "outputs": [],
   "source": [
    "#ESERCIZIO 2: Stampare a video tutti i numeri da 0 a 20 utilizzando il costrutto while. Utilizzeremo: • un ciclo while • la funzione print() • una variabile, che dovrà essere inizializzata • una procedura di incremento"
   ]
  },
  {
   "cell_type": "code",
   "execution_count": 28,
   "id": "7f14d379-6bd0-4a19-8f59-a6aaa5bf8b7a",
   "metadata": {},
   "outputs": [
    {
     "name": "stdout",
     "output_type": "stream",
     "text": [
      "0\n",
      "1\n",
      "2\n",
      "3\n",
      "4\n",
      "5\n",
      "6\n",
      "7\n",
      "8\n",
      "9\n",
      "10\n",
      "11\n",
      "12\n",
      "13\n",
      "14\n",
      "15\n",
      "16\n",
      "17\n",
      "18\n",
      "19\n",
      "20\n"
     ]
    }
   ],
   "source": [
    "#definiamo una variabile da incrementare come contatore\n",
    "x=0\n",
    "#apro il ciclo while\n",
    "while x<=20:\n",
    "         print(x)\n",
    "         x+=1"
   ]
  },
  {
   "cell_type": "code",
   "execution_count": null,
   "id": "d22559e3-f424-4c1d-ba7e-1acdf0163032",
   "metadata": {},
   "outputs": [],
   "source": []
  },
  {
   "cell_type": "code",
   "execution_count": 8,
   "id": "1bf3d096-981a-4bed-98a9-f2dc567e4c69",
   "metadata": {},
   "outputs": [],
   "source": [
    "#ESERCIZIO 3: Calcolare e stampare tutte le prime 10 potenze di 2 (e.g., 2⁰, 2¹, 2², …) utilizzando un ciclo while."
   ]
  },
  {
   "cell_type": "code",
   "execution_count": 50,
   "id": "314f580a-2355-4832-8929-0b1fe0e3a718",
   "metadata": {},
   "outputs": [
    {
     "name": "stdout",
     "output_type": "stream",
     "text": [
      "2^0=1\n",
      "2^1=2\n",
      "2^2=4\n",
      "2^3=8\n",
      "2^4=16\n",
      "2^5=32\n",
      "2^6=64\n",
      "2^7=128\n",
      "2^8=256\n",
      "2^9=512\n"
     ]
    }
   ],
   "source": [
    "#definiamo le variabili\n",
    "n=0\n",
    "#utilizziamo il ciclo while\n",
    "while n<10:\n",
    "    potenza=2**n\n",
    "    print(f\"2^{n}={potenza}\")\n",
    "    n+=1"
   ]
  },
  {
   "cell_type": "code",
   "execution_count": null,
   "id": "a0637d48-6697-49bd-b918-4f1ff3ad2feb",
   "metadata": {},
   "outputs": [],
   "source": []
  },
  {
   "cell_type": "code",
   "execution_count": 10,
   "id": "00d10805-90fe-40a9-93cc-f37f274a92c7",
   "metadata": {},
   "outputs": [],
   "source": [
    "#ESERCIZIO 4: Calcolare e stampare tutte le prime N potenze di 2 utilizzando un ciclo while, domandando all'utente di inserire N."
   ]
  },
  {
   "cell_type": "code",
   "execution_count": 54,
   "id": "c2c79f9e-f100-460f-ac4b-140d5b33266f",
   "metadata": {},
   "outputs": [
    {
     "name": "stdin",
     "output_type": "stream",
     "text": [
      "inserisci il valore di n: 5\n"
     ]
    },
    {
     "name": "stdout",
     "output_type": "stream",
     "text": [
      "2^0=1\n",
      "2^1=2\n",
      "2^2=4\n",
      "2^3=8\n",
      "2^4=16\n"
     ]
    }
   ],
   "source": [
    "#chiedo all'utente di inserire n\n",
    "n=int(input(\"inserisci il valore di n:\"))\n",
    "#inizzializzo il contatore\n",
    "i=0\n",
    "#ciclo while\n",
    "while i<n:\n",
    "    potenza= 2**i\n",
    "    print(f\"2^{i}={potenza}\")\n",
    "    i+=1"
   ]
  },
  {
   "cell_type": "code",
   "execution_count": null,
   "id": "5d620db3-4ba0-410b-ba58-ad4165f929f9",
   "metadata": {},
   "outputs": [],
   "source": []
  },
  {
   "cell_type": "code",
   "execution_count": 12,
   "id": "2a56d2df-81ce-4b26-80c7-5da0d62d2bef",
   "metadata": {},
   "outputs": [],
   "source": [
    "#ESERCIZIO 5: Calcolare e stampare tutte le potenze di 2 minori di 25000."
   ]
  },
  {
   "cell_type": "code",
   "execution_count": 69,
   "id": "aedc507e-cf02-4720-9353-3bd4f60a8525",
   "metadata": {},
   "outputs": [
    {
     "name": "stdout",
     "output_type": "stream",
     "text": [
      "2^0=1\n",
      "2^1=1\n",
      "2^2=2\n",
      "2^3=4\n",
      "2^4=8\n",
      "2^5=16\n",
      "2^6=32\n",
      "2^7=64\n",
      "2^8=128\n",
      "2^9=256\n",
      "2^10=512\n",
      "2^11=1024\n",
      "2^12=2048\n",
      "2^13=4096\n",
      "2^14=8192\n",
      "2^15=16384\n"
     ]
    }
   ],
   "source": [
    "#inizializzo un contatore\n",
    "i=0\n",
    "potenza=2**i\n",
    "while potenza<25000:\n",
    "    print(f\"2^{i}={potenza}\")\n",
    "    potenza=2**i\n",
    "    i+=1"
   ]
  },
  {
   "cell_type": "code",
   "execution_count": null,
   "id": "b45b6103-2efb-47c1-b140-6a64be6bdbc3",
   "metadata": {},
   "outputs": [],
   "source": []
  },
  {
   "cell_type": "code",
   "execution_count": 114,
   "id": "f2949a63-8d90-42af-847f-b2b68fb8553e",
   "metadata": {},
   "outputs": [],
   "source": [
    "#ESERCIZIO 6: Abbiamo due liste,Aggiungeremo i dati mancanti uno alla volta con il metodo per appendere in coda alle liste, poi verificheremo che sono della stessa lunghezza e se lo sono stamperemo la lista corsi."
   ]
  },
  {
   "cell_type": "code",
   "execution_count": 18,
   "id": "5b2974bd-a876-4850-bb93-6b81ae069fa9",
   "metadata": {},
   "outputs": [],
   "source": [
    "#definisco due liste\n",
    "studenti = [\"Alex\", \"Bob\", \"Cindy\", \"Dan\", \"Emma\", \"Faith\", \"Grace\", \"Henry\"]\n",
    "corsi = [\"Cybersecurity\", \"Data Analyst\", \"Backend\", \"Frontend\", \"Data Analyst\", \"Backend\"]"
   ]
  },
  {
   "cell_type": "code",
   "execution_count": 28,
   "id": "67b39836-740f-45bf-a527-ae2620189ce5",
   "metadata": {},
   "outputs": [
    {
     "data": {
      "text/plain": [
       "8"
      ]
     },
     "execution_count": 28,
     "metadata": {},
     "output_type": "execute_result"
    }
   ],
   "source": [
    "len(studenti)"
   ]
  },
  {
   "cell_type": "code",
   "execution_count": 32,
   "id": "922aa9b2-377a-453b-9619-828baba829a9",
   "metadata": {},
   "outputs": [
    {
     "data": {
      "text/plain": [
       "6"
      ]
     },
     "execution_count": 32,
     "metadata": {},
     "output_type": "execute_result"
    }
   ],
   "source": [
    "len (corsi)"
   ]
  },
  {
   "cell_type": "code",
   "execution_count": 40,
   "id": "dc2c882d-08c7-494d-a96b-46ba7a174e8c",
   "metadata": {},
   "outputs": [
    {
     "name": "stdout",
     "output_type": "stream",
     "text": [
      "['Cybersecurity', 'Data Analyst', 'Backend', 'Frontend', 'Data Analyst', 'Backend', 'Frontend']\n"
     ]
    }
   ],
   "source": [
    "corsi.append(\"Frontend\")\n",
    "print(corsi)"
   ]
  },
  {
   "cell_type": "code",
   "execution_count": 42,
   "id": "c9dcdf4a-a492-407d-914d-6f413e9ed515",
   "metadata": {},
   "outputs": [
    {
     "name": "stdout",
     "output_type": "stream",
     "text": [
      "['Cybersecurity', 'Data Analyst', 'Backend', 'Frontend', 'Data Analyst', 'Backend', 'Frontend', 'Cybersecurity']\n"
     ]
    }
   ],
   "source": [
    "corsi.append(\"Cybersecurity\")\n",
    "print(corsi)"
   ]
  },
  {
   "cell_type": "code",
   "execution_count": 44,
   "id": "e81f16cc-12d3-4cd6-a86d-f7c147922baf",
   "metadata": {},
   "outputs": [
    {
     "data": {
      "text/plain": [
       "8"
      ]
     },
     "execution_count": 44,
     "metadata": {},
     "output_type": "execute_result"
    }
   ],
   "source": [
    "len(corsi)"
   ]
  },
  {
   "cell_type": "code",
   "execution_count": null,
   "id": "52be440d-ef24-4b0b-85e6-8ddfd4647e80",
   "metadata": {},
   "outputs": [],
   "source": []
  },
  {
   "cell_type": "code",
   "execution_count": 116,
   "id": "60aec4bc-f2f0-4783-b5e1-1e869b7d90fd",
   "metadata": {},
   "outputs": [],
   "source": [
    "#ESERCIZIO 7: Scriviamo un programma che chiede in input all'utente una stringa e visualizza i primi 3 caratteri, seguiti da 3 punti di sospensione e quindi gli ultimi 3 caratteri, similmente all'esercizio della lezione scorsa. Stavolta facciamo attenzione a tutti i casi particolari, ovvero implementare soluzioni ad hoc per stringhe di lunghezza inferiore a 6 caratteri."
   ]
  },
  {
   "cell_type": "code",
   "execution_count": 118,
   "id": "946ef56f-c7ac-49e9-ae73-3913eeb1eddf",
   "metadata": {},
   "outputs": [
    {
     "name": "stdin",
     "output_type": "stream",
     "text": [
      "inserisci una stringa: LEONARDO_DEMETRIO\n"
     ]
    },
    {
     "name": "stdout",
     "output_type": "stream",
     "text": [
      "LEO...RIO\n"
     ]
    }
   ],
   "source": [
    "stringa=str(input(\"inserisci una stringa:\"))\n",
    "lunghezza=len(stringa)\n",
    "if lunghezza<6:\n",
    "    print(\"stringa troppo corta! inserire più di 6 caratteri\")\n",
    "else:\n",
    "    primi3=stringa[:3]\n",
    "    ultimi3=stringa[-3:]\n",
    "    print(f\"{primi3}...{ultimi3}\")"
   ]
  },
  {
   "cell_type": "code",
   "execution_count": null,
   "id": "317e6ba8-1c52-48c6-b59e-58d682c7f110",
   "metadata": {},
   "outputs": [],
   "source": []
  },
  {
   "cell_type": "code",
   "execution_count": null,
   "id": "6a4fef05-99b9-4710-8b39-07b3154761f9",
   "metadata": {},
   "outputs": [],
   "source": [
    "#ESERCIZIO 8: Memorizza e stampa tutti i fattori di un numero dato in input."
   ]
  },
  {
   "cell_type": "code",
   "execution_count": null,
   "id": "5fe30dde-6b62-4c68-a709-80157e8532a0",
   "metadata": {},
   "outputs": [],
   "source": [
    "#vedi dopo"
   ]
  },
  {
   "cell_type": "code",
   "execution_count": null,
   "id": "1a1f7c5f-cd5f-4a3e-9caf-ef4ca13edbd3",
   "metadata": {},
   "outputs": [],
   "source": []
  },
  {
   "cell_type": "code",
   "execution_count": null,
   "id": "546a532b-ac4b-4d23-94ac-c2847705f632",
   "metadata": {},
   "outputs": [],
   "source": []
  },
  {
   "cell_type": "code",
   "execution_count": null,
   "id": "5c5468ce-9d50-485c-9916-e525e6818161",
   "metadata": {},
   "outputs": [],
   "source": []
  },
  {
   "cell_type": "code",
   "execution_count": null,
   "id": "2365a345-2728-4d75-b8e8-2e7b04d84166",
   "metadata": {},
   "outputs": [],
   "source": []
  },
  {
   "cell_type": "code",
   "execution_count": null,
   "id": "f0bbed7b-313e-4e32-bfb0-4ec48a3e406a",
   "metadata": {},
   "outputs": [],
   "source": []
  },
  {
   "cell_type": "code",
   "execution_count": null,
   "id": "e41c6f31-ffa2-4f20-8a0d-37201aeb6904",
   "metadata": {},
   "outputs": [],
   "source": []
  },
  {
   "cell_type": "code",
   "execution_count": null,
   "id": "61ecf989-4a94-40ab-a2fe-23c6f07ea654",
   "metadata": {},
   "outputs": [],
   "source": [
    "#ESERCIZIO 9: Stampare ogni carattere della stringa, uno su ogni riga, utilizzando un costrutto for."
   ]
  },
  {
   "cell_type": "code",
   "execution_count": 56,
   "id": "7a35a6d3-cd17-46ac-98ae-8d52f877e56a",
   "metadata": {},
   "outputs": [
    {
     "name": "stdout",
     "output_type": "stream",
     "text": [
      "E\n",
      "p\n",
      "i\n",
      "c\n",
      "o\n",
      "d\n",
      "e\n"
     ]
    }
   ],
   "source": [
    "nome_scuola=\"Epicode\"\n",
    "for carattere in nome_scuola:\n",
    "    print(carattere)"
   ]
  },
  {
   "cell_type": "code",
   "execution_count": 130,
   "id": "276bad13-01a2-42df-83c4-6e16eb5e7ea9",
   "metadata": {},
   "outputs": [
    {
     "name": "stdout",
     "output_type": "stream",
     "text": [
      "E\n",
      "p\n",
      "i\n",
      "c\n",
      "o\n",
      "d\n",
      "e\n"
     ]
    }
   ],
   "source": [
    "nome_scuola=\"Epicode\"\n",
    "i=0\n",
    "while i<len(nome_scuola):\n",
    "    print(nome_scuola[i])\n",
    "    i+=1\n"
   ]
  },
  {
   "cell_type": "code",
   "execution_count": null,
   "id": "369b71eb-44e1-48d9-a9bd-15ced9add4ab",
   "metadata": {},
   "outputs": [],
   "source": []
  },
  {
   "cell_type": "code",
   "execution_count": null,
   "id": "304fc4f7-0f57-4957-bd82-a856fb37a412",
   "metadata": {},
   "outputs": [],
   "source": [
    "#ESERCIZIO 10: Calcolare e stampare tutte le prime 10 potenze di 2 utilizzando un ciclo."
   ]
  },
  {
   "cell_type": "code",
   "execution_count": 72,
   "id": "cfbb536a-d635-4a39-bfa0-fe1acdaf0619",
   "metadata": {},
   "outputs": [
    {
     "name": "stdout",
     "output_type": "stream",
     "text": [
      "2^1=2\n",
      "2^2=4\n",
      "2^3=8\n",
      "2^4=16\n",
      "2^5=32\n",
      "2^6=64\n",
      "2^7=128\n",
      "2^8=256\n",
      "2^9=512\n",
      "2^10=1024\n"
     ]
    }
   ],
   "source": [
    "range_numerico=list()\n",
    "num=1\n",
    "while num<=10:\n",
    "    range_numerico.append(num)\n",
    "    num+=1\n",
    "for num in range_numerico:\n",
    "    potenza=2**num\n",
    "    print(f\"2^{num}={potenza}\")"
   ]
  },
  {
   "cell_type": "code",
   "execution_count": null,
   "id": "a2cf9a14-7146-45d8-a97d-a06c5195d082",
   "metadata": {},
   "outputs": [],
   "source": []
  },
  {
   "cell_type": "code",
   "execution_count": null,
   "id": "5c00f35e-86ce-43fe-9065-ca19eea4c9f1",
   "metadata": {},
   "outputs": [],
   "source": [
    "#ESERCIZIO 11: Calcolare (ma non stampare) le prime N potenze di K; ognuna di esse andrà memorizzata in coda a una lista. Alla fine, stampare la lista risultante. Proviamo con diversi valori di K, oppure facciamola inserire all'utente. Realizzare due versioni: • con un ciclo while, • con un ciclo for."
   ]
  },
  {
   "cell_type": "code",
   "execution_count": null,
   "id": "ca2ed235-da35-4cc0-8cbf-8152fea77e59",
   "metadata": {},
   "outputs": [],
   "source": [
    "#vedi dopo"
   ]
  },
  {
   "cell_type": "code",
   "execution_count": null,
   "id": "8b4b4aa7-caa2-4e73-8423-dfd375925e99",
   "metadata": {},
   "outputs": [],
   "source": []
  },
  {
   "cell_type": "code",
   "execution_count": null,
   "id": "18281e5b-8f46-4d04-afd3-4171daa135ad",
   "metadata": {},
   "outputs": [],
   "source": []
  },
  {
   "cell_type": "code",
   "execution_count": null,
   "id": "28a04d46-f5b7-4d39-ac50-4d4ac429069a",
   "metadata": {},
   "outputs": [],
   "source": []
  },
  {
   "cell_type": "code",
   "execution_count": null,
   "id": "cad77a3a-4bcf-4aa2-a30f-7d608e5e24ed",
   "metadata": {},
   "outputs": [],
   "source": []
  },
  {
   "cell_type": "code",
   "execution_count": null,
   "id": "fd39b387-03d6-497f-8fd4-a3f37cd1dc6c",
   "metadata": {},
   "outputs": [],
   "source": []
  },
  {
   "cell_type": "code",
   "execution_count": null,
   "id": "5584bb80-d664-488f-aab0-0de024a83a57",
   "metadata": {},
   "outputs": [],
   "source": []
  },
  {
   "cell_type": "code",
   "execution_count": null,
   "id": "0e2603f1-a0c7-455e-be40-b6e83aefa650",
   "metadata": {},
   "outputs": [],
   "source": [
    "#ESERCIZIO 12: Abbiamo una lista con i guadagni degli ultimi 12 mesi,usando un costrutto for, calcolare la media dei guadagni e stamparla a video."
   ]
  },
  {
   "cell_type": "code",
   "execution_count": 74,
   "id": "6eb72c11-ed36-491e-8566-fef6ce87c553",
   "metadata": {},
   "outputs": [],
   "source": [
    "guadagni = [100, 90, 70, 40, 50, 80, 90, 120, 80, 20, 50, 50]\n",
    "somma_totale=0\n",
    "for guadagno in guadagni:\n",
    "    somma_totale+=guadagno"
   ]
  },
  {
   "cell_type": "code",
   "execution_count": 80,
   "id": "75a5a360-d1ae-469d-9bd0-24f3bef1decd",
   "metadata": {},
   "outputs": [
    {
     "name": "stdout",
     "output_type": "stream",
     "text": [
      "70.0\n"
     ]
    }
   ],
   "source": [
    "media_guadagni=somma_totale/len(guadagni)\n",
    "print(float(media_guadagni))"
   ]
  },
  {
   "cell_type": "code",
   "execution_count": null,
   "id": "fe86ee31-b36b-4b97-9221-048a372f0ff1",
   "metadata": {},
   "outputs": [],
   "source": []
  },
  {
   "cell_type": "code",
   "execution_count": 84,
   "id": "569c81a1-e03e-4b7e-9623-168f9cc1199b",
   "metadata": {},
   "outputs": [],
   "source": [
    "#ESERCIZIO 13: Abbiamo una lista di parole.stampiamo, per ogni parola, quante volte appare la lettera \"e\"; facciamo attenzione al fatto che appare sia maiuscola che minuscola."
   ]
  },
  {
   "cell_type": "code",
   "execution_count": 82,
   "id": "be6de0b2-c05a-4f45-8da9-52f877d32281",
   "metadata": {},
   "outputs": [
    {
     "name": "stdout",
     "output_type": "stream",
     "text": [
      "la parola Albergo contiene 1 occorrenze della lettera 'e'\n",
      "la parola Sedia contiene 1 occorrenze della lettera 'e'\n",
      "la parola Borgo contiene 0 occorrenze della lettera 'e'\n",
      "la parola Petalo contiene 1 occorrenze della lettera 'e'\n",
      "la parola Eremo contiene 2 occorrenze della lettera 'e'\n",
      "la parola Belvedere contiene 4 occorrenze della lettera 'e'\n",
      "la parola Semestre contiene 3 occorrenze della lettera 'e'\n",
      "la parola Esteta contiene 2 occorrenze della lettera 'e'\n",
      "la parola Sosta contiene 0 occorrenze della lettera 'e'\n",
      "la parola Orpello contiene 1 occorrenze della lettera 'e'\n",
      "la parola Abete contiene 2 occorrenze della lettera 'e'\n",
      "la parola Orologio contiene 0 occorrenze della lettera 'e'\n",
      "la parola Cesta contiene 1 occorrenze della lettera 'e'\n",
      "la parola Ermellino contiene 2 occorrenze della lettera 'e'\n"
     ]
    }
   ],
   "source": [
    "parole = [\"Albergo\", \"Sedia\", \"Borgo\", \"Petalo\", \"Eremo\", \"Belvedere\", \"Semestre\", \"Esteta\", \"Sosta\", \"Orpello\", \"Abete\", \"Orologio\", \"Cesta\", \"Ermellino\"]\n",
    "for parola in parole:\n",
    "    conteggio_e=parola.count('e')\n",
    "    conteggio_E=parola.count('E')\n",
    "    conteggio_totale=conteggio_e+conteggio_E\n",
    "    print(f\"la parola {parola} contiene {conteggio_totale} occorrenze della lettera 'e'\")"
   ]
  },
  {
   "cell_type": "code",
   "execution_count": null,
   "id": "41f8cd1d-9ede-43d9-8533-6a149b7fafb4",
   "metadata": {},
   "outputs": [],
   "source": []
  },
  {
   "cell_type": "code",
   "execution_count": null,
   "id": "0915f7bb-f0e3-450e-a986-8e3cdbc22c49",
   "metadata": {},
   "outputs": [],
   "source": [
    "#ESERCIZIO 14: Creiamo un dizionario che assegni ad ogni proprietario la sua auto,Stampiamo il dizionario per intero, e poi l'auto associata a Debbie."
   ]
  },
  {
   "cell_type": "code",
   "execution_count": 92,
   "id": "66cf0bac-61c8-4f63-8993-e0c2d6224456",
   "metadata": {},
   "outputs": [
    {
     "name": "stdout",
     "output_type": "stream",
     "text": [
      "{'Ada': 'Punto', 'Ben': 'Multipla', 'Charlie': 'Golf', 'Debbie': 107}\n"
     ]
    }
   ],
   "source": [
    "dizionario={\"Ada\":\"Punto\",\"Ben\":\"Multipla\",\"Charlie\":\"Golf\",\"Debbie\":107}\n",
    "print(dizionario)"
   ]
  },
  {
   "cell_type": "code",
   "execution_count": 96,
   "id": "8b430910-9e2c-4e9a-b055-02c92b25da43",
   "metadata": {},
   "outputs": [
    {
     "name": "stdout",
     "output_type": "stream",
     "text": [
      "l'auto guidata da Debbie è una 107\n"
     ]
    }
   ],
   "source": [
    "auto_debbie=dizionario[\"Debbie\"]\n",
    "print(f\"l'auto guidata da Debbie è una {auto_debbie}\")"
   ]
  },
  {
   "cell_type": "code",
   "execution_count": null,
   "id": "a48ac1c8-9f15-438f-9f67-cfbe0a99ea7e",
   "metadata": {},
   "outputs": [],
   "source": []
  },
  {
   "cell_type": "code",
   "execution_count": null,
   "id": "ff762c00-a516-4ecb-83e7-913c21c336fc",
   "metadata": {},
   "outputs": [],
   "source": [
    "#ESERCIZIO 15: Abbiamo un dizionario che assegna ad ogni proprietario la sua auto.Con un ciclo, e usando il metodo .values(), stampiamo a video tutte le auto che non sono una Multipla."
   ]
  },
  {
   "cell_type": "code",
   "execution_count": 100,
   "id": "c08ae7b6-8b12-4d58-bff3-3497855c9b82",
   "metadata": {},
   "outputs": [
    {
     "name": "stdout",
     "output_type": "stream",
     "text": [
      "Punto\n",
      "Golf\n",
      "107\n"
     ]
    }
   ],
   "source": [
    "dizionario_auto = {\"Ada\": \"Punto\", \"Ben\": \"Multipla\", \"Charlie\": \"Golf\", \"Debbie\": \"107\"}\n",
    "for auto in dizionario_auto.values():\n",
    "    if auto != \"Multipla\":\n",
    "        print(auto)"
   ]
  },
  {
   "cell_type": "code",
   "execution_count": null,
   "id": "b1a5dde7-04c7-45a0-a53b-9a3d181e5469",
   "metadata": {},
   "outputs": [],
   "source": []
  },
  {
   "cell_type": "code",
   "execution_count": null,
   "id": "87620e6a-2843-4d98-9f14-dd561860bd24",
   "metadata": {},
   "outputs": [],
   "source": [
    "#ESERCIZIO 16: Abbiamo due dizionari che assegnano ad ogni proprietario la propria auto"
   ]
  },
  {
   "cell_type": "code",
   "execution_count": 112,
   "id": "a9b93107-fca8-445e-989d-8ee8cea4ec81",
   "metadata": {},
   "outputs": [
    {
     "name": "stdout",
     "output_type": "stream",
     "text": [
      "{'Ada': 'Punto', 'Ben': 'Polo', 'Charlie': 'Golf', 'Debbie': '107', 'Emily': 'A1', 'Fred': 'Octavia', 'Grace': 'Yaris', 'Hugh': 'Clio'}\n"
     ]
    }
   ],
   "source": [
    "dizionario_auto = {\"Ada\": \"Punto\", \"Ben\": \"Multipla\", \"Charlie\": \"Golf\", \"Debbie\": \"107\", \"Emily\": \"A1\"} \n",
    "nuovi_proprietari = {\"Ben\": \"Polo\", \"Fred\": \"Octavia\", \"Grace\": \"Yaris\", \"Hugh\": \"Clio\"}\n",
    "dizionario_auto.update(nuovi_proprietari)\n",
    "print(dizionario_auto)"
   ]
  },
  {
   "cell_type": "code",
   "execution_count": null,
   "id": "848989d6-c6ad-4033-a7e0-61e655a7a55e",
   "metadata": {},
   "outputs": [],
   "source": []
  },
  {
   "cell_type": "code",
   "execution_count": null,
   "id": "8b787acd-2fea-4d4b-a1dc-bdfc767fc7dc",
   "metadata": {},
   "outputs": [],
   "source": [
    "#ESERCIZIO 17: "
   ]
  },
  {
   "cell_type": "code",
   "execution_count": null,
   "id": "083ff5cc-6f01-4238-9347-b0df54fa856f",
   "metadata": {},
   "outputs": [],
   "source": []
  },
  {
   "cell_type": "code",
   "execution_count": null,
   "id": "8acd2ef3-7228-4f13-9c73-73f7e0f3012a",
   "metadata": {},
   "outputs": [],
   "source": [
    "#ESERCIAIO 18: Scrivere un programma che, data una lista di numeri, fornisca in output il minimo e il massimo (possiamo usare o meno le funzioni built-in min() e max())."
   ]
  },
  {
   "cell_type": "code",
   "execution_count": 146,
   "id": "413dc5ad-9525-4ec9-a892-bfd1c8bcf9bc",
   "metadata": {},
   "outputs": [
    {
     "name": "stdin",
     "output_type": "stream",
     "text": [
      " 1,2,3,4,56,7,8,9,11,21,0\n"
     ]
    },
    {
     "name": "stdout",
     "output_type": "stream",
     "text": [
      "0\n"
     ]
    }
   ],
   "source": [
    "lista_numeri=input()\n",
    "stringa_numeri=lista_numeri.split(',')\n",
    "numeri=[int(numero) for numero in stringa_numeri]\n",
    "minimo=min(numeri)\n",
    "print(minimo)"
   ]
  },
  {
   "cell_type": "code",
   "execution_count": 148,
   "id": "16959f4b-66dd-4079-8492-7f09ecbd23fc",
   "metadata": {},
   "outputs": [
    {
     "name": "stdout",
     "output_type": "stream",
     "text": [
      "56\n"
     ]
    }
   ],
   "source": [
    "massimo=max(numeri)\n",
    "print(massimo)"
   ]
  },
  {
   "cell_type": "code",
   "execution_count": null,
   "id": "b33c0da8-9115-44aa-854d-ffbccae3dcbc",
   "metadata": {},
   "outputs": [],
   "source": []
  },
  {
   "cell_type": "code",
   "execution_count": null,
   "id": "70a81473-70e3-4763-bf72-e92ca184fda3",
   "metadata": {},
   "outputs": [],
   "source": [
    "#ESERCIZIO 19: Scrivere un programma che, data una lista di numeri, fornisca in output i tre numeri più grandi; gestire il caso in cui la lista sia più corta di tre, e quando uno o più dei numeri selezionati sono uguali."
   ]
  },
  {
   "cell_type": "code",
   "execution_count": 51,
   "id": "faf82f19-6318-4b85-833c-90019d1e0417",
   "metadata": {},
   "outputs": [
    {
     "name": "stdin",
     "output_type": "stream",
     "text": [
      " 1,2,3,4,5,5,6\n"
     ]
    },
    {
     "name": "stdout",
     "output_type": "stream",
     "text": [
      "[4, 5, 6]\n"
     ]
    }
   ],
   "source": [
    "lista_numeri=input()\n",
    "stringa_numeri=lista_numeri.split(',')\n",
    "numeri=[int(numero) for numero in stringa_numeri]\n",
    "if len(numeri)<3:\n",
    "    print(\"la lista numeri è troppo corta, inserire più di 3 valori\")\n",
    "else:\n",
    "    numeri_ordinati=sorted(numeri,reverse=False)\n",
    "    rimozione_duplicati=list(set(numeri_ordinati))\n",
    "    print(rimozione_duplicati[-3:])"
   ]
  },
  {
   "cell_type": "code",
   "execution_count": null,
   "id": "80e9f444-fbd5-4ce5-9a8e-90cd31730787",
   "metadata": {},
   "outputs": [],
   "source": []
  },
  {
   "cell_type": "code",
   "execution_count": null,
   "id": "e11b4f59-fbcb-4e31-a879-8972ab4547b8",
   "metadata": {},
   "outputs": [],
   "source": [
    "#ESERCIZIO 20: Scrivere un programma che • in input acquisisce una lista di numeri e un numero K • in output, dovrà restituire la media di tutti i numeri nella lista maggiori o uguali a K • se non ce ne dovesse essere nessuno, dovrà stampare a schermo un messaggio adeguato."
   ]
  },
  {
   "cell_type": "code",
   "execution_count": 207,
   "id": "40a5f432-c2f5-48cf-aadd-9c395d4b92fb",
   "metadata": {},
   "outputs": [
    {
     "name": "stdin",
     "output_type": "stream",
     "text": [
      " 1,2,3,4,5,6,7,8,9,10\n",
      " 8\n"
     ]
    },
    {
     "name": "stdout",
     "output_type": "stream",
     "text": [
      "9.0\n"
     ]
    }
   ],
   "source": [
    "lista_numeri=input()\n",
    "stringa_numeri=lista_numeri.split(',')\n",
    "numeri=[int(numero) for numero in stringa_numeri]\n",
    "k=int(input())\n",
    "lista_numeri_maggiori_k=[numero for numero in numeri if numero>=k]\n",
    "if not lista_numeri_maggiori_k:\n",
    "    print(\"non ci sono numeri maggiori o uguali a {k}\")\n",
    "else:\n",
    "    media=sum(lista_numeri_maggiori_k)/len(lista_numeri_maggiori_k)\n",
    "    print(media)"
   ]
  },
  {
   "cell_type": "code",
   "execution_count": null,
   "id": "e74c613e-585e-4642-a529-1fbcc00dc4ef",
   "metadata": {},
   "outputs": [],
   "source": []
  },
  {
   "cell_type": "code",
   "execution_count": null,
   "id": "d01399c0-d010-490f-9ab4-4f2495ab016d",
   "metadata": {},
   "outputs": [],
   "source": [
    "#ESERCIZIO 21: Scrivere un programma che, data una lista di numeri, come output stamperà lo stesso numero di asterischi su righe diverse, ottenendo una semplice visualizzazione grafica"
   ]
  },
  {
   "cell_type": "code",
   "execution_count": 212,
   "id": "989b58ae-db79-4822-9796-4318d8185b02",
   "metadata": {},
   "outputs": [
    {
     "name": "stdout",
     "output_type": "stream",
     "text": [
      "*****\n",
      "**\n",
      "***\n",
      "****\n"
     ]
    }
   ],
   "source": [
    "numeri = [5, 2, 3, 4]\n",
    "for numero in numeri:\n",
    "    print('*'*numero)"
   ]
  },
  {
   "cell_type": "code",
   "execution_count": null,
   "id": "73ac67d7-53a2-4042-966f-29a5fa3972af",
   "metadata": {},
   "outputs": [],
   "source": []
  },
  {
   "cell_type": "code",
   "execution_count": null,
   "id": "bf819107-daa1-4465-8356-4970e293fd12",
   "metadata": {},
   "outputs": [],
   "source": [
    "#ESERCIZIO 22: CODICI FISCALI.trovare i codici fiscali che contengono \"95\", metterli in una lista, e alla fine stamparla; • inoltre, per ognuno di essi, stampare a video i caratteri relativi al nome e alla fine stamparla; • inoltre, per ognuno di essi, stampare a video i caratteri relativi al nome e cognome"
   ]
  },
  {
   "cell_type": "code",
   "execution_count": 218,
   "id": "eebfe023-b234-445a-a106-fcf58ad84104",
   "metadata": {},
   "outputs": [
    {
     "name": "stdout",
     "output_type": "stream",
     "text": [
      "i codici fiscali con il valore 95 sono:['ABCDEF95G01A123B']\n",
      "i codici fiscali con il valore 95 sono:['ABCDEF95G01A123B', 'STUVWX95Z04A654E']\n",
      "i codici fiscali con il valore 95 sono:['ABCDEF95G01A123B', 'STUVWX95Z04A654E', 'DEFGHI95J06A987G']\n"
     ]
    }
   ],
   "source": [
    "lista_cf = [\"ABCDEF95G01A123B\", \"GHIJKL91M02A321C\", \"MNOPQR89S03A456D\", \"STUVWX95Z04A654E\", \"XYZABC01D05A789F\", \"DEFGHI95J06A987G\"]\n",
    "cf_con_95=[]\n",
    "for cf in lista_cf:\n",
    "    if \"95\" in cf:\n",
    "        cf_con_95.append(cf)\n",
    "        print(f\"i codici fiscali con il valore 95 sono:{cf_con_95}\")\n",
    "    "
   ]
  },
  {
   "cell_type": "code",
   "execution_count": 222,
   "id": "71ff9e61-1d15-4fb6-84c9-37990c223ebc",
   "metadata": {},
   "outputs": [
    {
     "name": "stdout",
     "output_type": "stream",
     "text": [
      "ABCDEF\n",
      "STUVWX\n",
      "DEFGHI\n"
     ]
    }
   ],
   "source": [
    "for cf in cf_con_95:\n",
    "    print(cf[:6])"
   ]
  },
  {
   "cell_type": "code",
   "execution_count": null,
   "id": "77f144bc-a2a5-4545-b078-4587e756b419",
   "metadata": {},
   "outputs": [],
   "source": []
  },
  {
   "cell_type": "code",
   "execution_count": null,
   "id": "e4186786-7fad-4651-8fe3-570e70374369",
   "metadata": {},
   "outputs": [],
   "source": [
    "#ESERCIZIO 22:"
   ]
  },
  {
   "cell_type": "code",
   "execution_count": 232,
   "id": "8e07ca30-7250-4699-b84c-97612c152ecb",
   "metadata": {},
   "outputs": [
    {
     "name": "stdout",
     "output_type": "stream",
     "text": [
      "Alex\n",
      "Faith\n"
     ]
    }
   ],
   "source": [
    "studenti = [\"Alex\", \"Bob\", \"Cindy\", \"Dan\", \"Emma\", \"Faith\", \"Grace\", \"Henry\"] \n",
    "corsi = [\"Cybersecurity\", \"Data Analyst\", \"Backend\", \"Frontend\", \"Data Analyst\", \"Backend\", \"Frontend\", \"Cybersecurity\"] \n",
    "edizioni = [1, 2, 3, 2, 2, 1, 3, 3]\n",
    "for i in range(len(studenti)):\n",
    "    if edizioni[i]==1:\n",
    "        print(studenti[i])"
   ]
  },
  {
   "cell_type": "code",
   "execution_count": null,
   "id": "a9cc925b-e8a2-4dc4-8320-58c552f43fb6",
   "metadata": {},
   "outputs": [],
   "source": []
  },
  {
   "cell_type": "code",
   "execution_count": null,
   "id": "cdc47c80-c63c-4823-b352-d9bdf9aace5e",
   "metadata": {},
   "outputs": [],
   "source": [
    "#ESERCIZIO 23:"
   ]
  },
  {
   "cell_type": "code",
   "execution_count": 238,
   "id": "95f54dc3-c38c-4ecc-b5a9-9193bbe09a5d",
   "metadata": {},
   "outputs": [
    {
     "name": "stdout",
     "output_type": "stream",
     "text": [
      "['100 $']\n",
      "['100 $', '200 $']\n",
      "['100 $', '200 $', '500 $']\n",
      "['100 $', '200 $', '500 $', '10 $']\n",
      "['100 $', '200 $', '500 $', '10 $', '50 $']\n",
      "['100 $', '200 $', '500 $', '10 $', '50 $', '70 $']\n"
     ]
    }
   ],
   "source": [
    "prezzi = [\"100 €\", \"200 €\", \"500 €\", \"10 €\", \"50 €\", \"70 €\"]\n",
    "prezzi_dollaro=[]\n",
    "for prezzo in prezzi:\n",
    "    prezzo_dollaro=prezzo.replace(\"€\",\"$\")\n",
    "    prezzi_dollaro.append(prezzo_dollaro)\n",
    "    print(prezzi_dollaro)"
   ]
  },
  {
   "cell_type": "code",
   "execution_count": null,
   "id": "eaa1475c-20dd-499b-b4be-e5807a6088c0",
   "metadata": {},
   "outputs": [],
   "source": []
  },
  {
   "cell_type": "code",
   "execution_count": null,
   "id": "2b509b57-4d49-4a68-9366-ba060c15ac4a",
   "metadata": {},
   "outputs": [],
   "source": [
    "#ESERCIZIO 24: vogliamo dividere gli studenti in due squadre per un campionato di Uno nel seguente modo: selezioneremo i nomi in posizione pari per un squadra, e i nomi in posizione dispari per l'altra."
   ]
  },
  {
   "cell_type": "code",
   "execution_count": 242,
   "id": "c1c588e3-484c-498b-994c-60b82868b3fb",
   "metadata": {},
   "outputs": [
    {
     "name": "stdout",
     "output_type": "stream",
     "text": [
      "[['Bob', 'Dan', 'Faith', 'Henry', 'John']]\n",
      "[['Alex', 'Cindy', 'Emma', 'Grace', 'Isabelle']]\n"
     ]
    }
   ],
   "source": [
    "studenti = [\"Alex\", \"Bob\", \"Cindy\", \"Dan\", \"Emma\", \"Faith\", \"Grace\", \"Henry\", \"Isabelle\", \"John\"]\n",
    "lista_pari=[studenti[1:10:2]]\n",
    "lista_dispari=[studenti[0:9:2]]\n",
    "print(lista_pari)\n",
    "print(lista_dispari)"
   ]
  },
  {
   "cell_type": "code",
   "execution_count": null,
   "id": "f0066e94-c9d9-45a8-bd03-a9844696ba5d",
   "metadata": {},
   "outputs": [],
   "source": []
  },
  {
   "cell_type": "code",
   "execution_count": null,
   "id": "2c05f46a-0d42-43aa-ba84-8d3bfe822b60",
   "metadata": {},
   "outputs": [],
   "source": [
    "#ESERCIZIO 25: "
   ]
  },
  {
   "cell_type": "code",
   "execution_count": 258,
   "id": "cecfce59-5cda-4d07-ada0-17abf7e375f1",
   "metadata": {},
   "outputs": [
    {
     "name": "stdout",
     "output_type": "stream",
     "text": [
      "il guadagno attuale è 90 e la media precedente è 100.0, quindi il guadagno attuale è minore della media precendente\n",
      "il guadagno attuale è 70 e la media precedente è 95.0, quindi il guadagno attuale è minore della media precendente\n",
      "il guadagno attuale è 40 e la media precedente è 86.66666666666667, quindi il guadagno attuale è minore della media precendente\n",
      "il guadagno attuale è 50 e la media precedente è 75.0, quindi il guadagno attuale è minore della media precendente\n",
      "il guadagno attuale è 80 e la media precedente è 70.0, quindi il guadagno attuale è maggiore della media precendente\n",
      "il guadagno attuale è 90 e la media precedente è 71.66666666666667, quindi il guadagno attuale è maggiore della media precendente\n",
      "il guadagno attuale è 120 e la media precedente è 74.28571428571429, quindi il guadagno attuale è maggiore della media precendente\n",
      "il guadagno attuale è 80 e la media precedente è 80.0, quindi il guadagno attuale è minore della media precendente\n",
      "il guadagno attuale è 20 e la media precedente è 80.0, quindi il guadagno attuale è minore della media precendente\n",
      "il guadagno attuale è 50 e la media precedente è 74.0, quindi il guadagno attuale è minore della media precendente\n"
     ]
    }
   ],
   "source": [
    "guadagni = [100, 90, 70, 40, 50, 80, 90, 120, 80, 20, 50, 50]\n",
    "for i in range(1,len(guadagni)-1):\n",
    "    guadagno_attuale=guadagni[i]\n",
    "    media_precedenti=sum(guadagni[:i])/(i)\n",
    "    confronto=\"maggiore\" if guadagno_attuale>media_precedenti else \"minore\"\n",
    "    print(f\"il guadagno attuale è {guadagno_attuale} e la media precedente è {media_precedenti}, quindi il guadagno attuale è {confronto} della media precendente\")"
   ]
  },
  {
   "cell_type": "code",
   "execution_count": null,
   "id": "16764a50-d806-44c0-9424-5ec671ccf417",
   "metadata": {},
   "outputs": [],
   "source": []
  }
 ],
 "metadata": {
  "kernelspec": {
   "display_name": "Python 3 (ipykernel)",
   "language": "python",
   "name": "python3"
  },
  "language_info": {
   "codemirror_mode": {
    "name": "ipython",
    "version": 3
   },
   "file_extension": ".py",
   "mimetype": "text/x-python",
   "name": "python",
   "nbconvert_exporter": "python",
   "pygments_lexer": "ipython3",
   "version": "3.11.7"
  }
 },
 "nbformat": 4,
 "nbformat_minor": 5
}
